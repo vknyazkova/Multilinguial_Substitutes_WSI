{
  "cells": [
    {
      "cell_type": "markdown",
      "metadata": {
        "id": "58SMl69EgHf0"
      },
      "source": [
        "# Подключение гугл диска"
      ]
    },
    {
      "cell_type": "code",
      "execution_count": 1,
      "metadata": {
        "colab": {
          "base_uri": "https://localhost:8080/"
        },
        "id": "BegBYoBwgG3e",
        "outputId": "96480d82-fb45-4414-fa3f-90938e963d6d"
      },
      "outputs": [
        {
          "output_type": "stream",
          "name": "stdout",
          "text": [
            "Mounted at /content/gdrive\n"
          ]
        }
      ],
      "source": [
        "from google.colab import drive\n",
        "\n",
        "drive.mount('/content/gdrive', force_remount=True)"
      ]
    },
    {
      "cell_type": "code",
      "execution_count": 2,
      "metadata": {
        "colab": {
          "base_uri": "https://localhost:8080/"
        },
        "id": "uzxBoyH2gJ9q",
        "outputId": "5dbf5430-95af-46f2-d249-f87af43b27b9"
      },
      "outputs": [
        {
          "output_type": "stream",
          "name": "stdout",
          "text": [
            "/content/gdrive/MyDrive/3_year/WSI\n"
          ]
        }
      ],
      "source": [
        "%cd gdrive/MyDrive/3_year/WSI"
      ]
    },
    {
      "cell_type": "markdown",
      "metadata": {
        "id": "G7YtrUTUgSSe"
      },
      "source": [
        "# Установки и импорты"
      ]
    },
    {
      "cell_type": "code",
      "execution_count": 3,
      "metadata": {
        "colab": {
          "base_uri": "https://localhost:8080/"
        },
        "id": "mo6emb_ZgQU3",
        "outputId": "5b8f8b4c-257d-46f8-a38b-95e4040fb871"
      },
      "outputs": [
        {
          "output_type": "stream",
          "name": "stdout",
          "text": [
            "Looking in indexes: https://pypi.org/simple, https://us-python.pkg.dev/colab-wheels/public/simple/\n",
            "Collecting deep-translator (from -r requirements.txt (line 1))\n",
            "  Using cached deep_translator-1.11.0-py3-none-any.whl (37 kB)\n",
            "Collecting fasttext-wheel (from -r requirements.txt (line 2))\n",
            "  Using cached fasttext_wheel-0.9.2-cp310-cp310-manylinux_2_17_x86_64.manylinux2014_x86_64.whl (4.4 MB)\n",
            "Collecting fuzzywuzzy[speedup] (from -r requirements.txt (line 3))\n",
            "  Using cached fuzzywuzzy-0.18.0-py2.py3-none-any.whl (18 kB)\n",
            "Requirement already satisfied: numpy in /usr/local/lib/python3.10/dist-packages (from -r requirements.txt (line 4)) (1.22.4)\n",
            "Requirement already satisfied: pandas in /usr/local/lib/python3.10/dist-packages (from -r requirements.txt (line 5)) (1.5.3)\n",
            "Collecting sklearn (from -r requirements.txt (line 6))\n",
            "  Using cached sklearn-0.0.post5.tar.gz (3.7 kB)\n",
            "  Preparing metadata (setup.py) ... \u001b[?25l\u001b[?25hdone\n",
            "Requirement already satisfied: spacy in /usr/local/lib/python3.10/dist-packages (from -r requirements.txt (line 7)) (3.5.2)\n",
            "Requirement already satisfied: tqdm in /usr/local/lib/python3.10/dist-packages (from -r requirements.txt (line 8)) (4.65.0)\n",
            "Requirement already satisfied: scikit-learn in /usr/local/lib/python3.10/dist-packages (from -r requirements.txt (line 9)) (1.2.2)\n",
            "Requirement already satisfied: beautifulsoup4<5.0.0,>=4.9.1 in /usr/local/lib/python3.10/dist-packages (from deep-translator->-r requirements.txt (line 1)) (4.11.2)\n",
            "Requirement already satisfied: requests<3.0.0,>=2.23.0 in /usr/local/lib/python3.10/dist-packages (from deep-translator->-r requirements.txt (line 1)) (2.27.1)\n",
            "Collecting pybind11>=2.2 (from fasttext-wheel->-r requirements.txt (line 2))\n",
            "  Downloading pybind11-2.10.4-py3-none-any.whl (222 kB)\n",
            "\u001b[2K     \u001b[90m━━━━━━━━━━━━━━━━━━━━━━━━━━━━━━━━━━━━━━━\u001b[0m \u001b[32m222.3/222.3 kB\u001b[0m \u001b[31m5.5 MB/s\u001b[0m eta \u001b[36m0:00:00\u001b[0m\n",
            "\u001b[?25hRequirement already satisfied: setuptools>=0.7.0 in /usr/local/lib/python3.10/dist-packages (from fasttext-wheel->-r requirements.txt (line 2)) (67.7.2)\n",
            "Collecting python-levenshtein>=0.12 (from fuzzywuzzy[speedup]->-r requirements.txt (line 3))\n",
            "  Downloading python_Levenshtein-0.21.0-py3-none-any.whl (9.4 kB)\n",
            "Requirement already satisfied: python-dateutil>=2.8.1 in /usr/local/lib/python3.10/dist-packages (from pandas->-r requirements.txt (line 5)) (2.8.2)\n",
            "Requirement already satisfied: pytz>=2020.1 in /usr/local/lib/python3.10/dist-packages (from pandas->-r requirements.txt (line 5)) (2022.7.1)\n",
            "Requirement already satisfied: spacy-legacy<3.1.0,>=3.0.11 in /usr/local/lib/python3.10/dist-packages (from spacy->-r requirements.txt (line 7)) (3.0.12)\n",
            "Requirement already satisfied: spacy-loggers<2.0.0,>=1.0.0 in /usr/local/lib/python3.10/dist-packages (from spacy->-r requirements.txt (line 7)) (1.0.4)\n",
            "Requirement already satisfied: murmurhash<1.1.0,>=0.28.0 in /usr/local/lib/python3.10/dist-packages (from spacy->-r requirements.txt (line 7)) (1.0.9)\n",
            "Requirement already satisfied: cymem<2.1.0,>=2.0.2 in /usr/local/lib/python3.10/dist-packages (from spacy->-r requirements.txt (line 7)) (2.0.7)\n",
            "Requirement already satisfied: preshed<3.1.0,>=3.0.2 in /usr/local/lib/python3.10/dist-packages (from spacy->-r requirements.txt (line 7)) (3.0.8)\n",
            "Requirement already satisfied: thinc<8.2.0,>=8.1.8 in /usr/local/lib/python3.10/dist-packages (from spacy->-r requirements.txt (line 7)) (8.1.9)\n",
            "Requirement already satisfied: wasabi<1.2.0,>=0.9.1 in /usr/local/lib/python3.10/dist-packages (from spacy->-r requirements.txt (line 7)) (1.1.1)\n",
            "Requirement already satisfied: srsly<3.0.0,>=2.4.3 in /usr/local/lib/python3.10/dist-packages (from spacy->-r requirements.txt (line 7)) (2.4.6)\n",
            "Requirement already satisfied: catalogue<2.1.0,>=2.0.6 in /usr/local/lib/python3.10/dist-packages (from spacy->-r requirements.txt (line 7)) (2.0.8)\n",
            "Requirement already satisfied: typer<0.8.0,>=0.3.0 in /usr/local/lib/python3.10/dist-packages (from spacy->-r requirements.txt (line 7)) (0.7.0)\n",
            "Requirement already satisfied: pathy>=0.10.0 in /usr/local/lib/python3.10/dist-packages (from spacy->-r requirements.txt (line 7)) (0.10.1)\n",
            "Requirement already satisfied: smart-open<7.0.0,>=5.2.1 in /usr/local/lib/python3.10/dist-packages (from spacy->-r requirements.txt (line 7)) (6.3.0)\n",
            "Requirement already satisfied: pydantic!=1.8,!=1.8.1,<1.11.0,>=1.7.4 in /usr/local/lib/python3.10/dist-packages (from spacy->-r requirements.txt (line 7)) (1.10.7)\n",
            "Requirement already satisfied: jinja2 in /usr/local/lib/python3.10/dist-packages (from spacy->-r requirements.txt (line 7)) (3.1.2)\n",
            "Requirement already satisfied: packaging>=20.0 in /usr/local/lib/python3.10/dist-packages (from spacy->-r requirements.txt (line 7)) (23.1)\n",
            "Requirement already satisfied: langcodes<4.0.0,>=3.2.0 in /usr/local/lib/python3.10/dist-packages (from spacy->-r requirements.txt (line 7)) (3.3.0)\n",
            "Requirement already satisfied: scipy>=1.3.2 in /usr/local/lib/python3.10/dist-packages (from scikit-learn->-r requirements.txt (line 9)) (1.10.1)\n",
            "Requirement already satisfied: joblib>=1.1.1 in /usr/local/lib/python3.10/dist-packages (from scikit-learn->-r requirements.txt (line 9)) (1.2.0)\n",
            "Requirement already satisfied: threadpoolctl>=2.0.0 in /usr/local/lib/python3.10/dist-packages (from scikit-learn->-r requirements.txt (line 9)) (3.1.0)\n",
            "Requirement already satisfied: soupsieve>1.2 in /usr/local/lib/python3.10/dist-packages (from beautifulsoup4<5.0.0,>=4.9.1->deep-translator->-r requirements.txt (line 1)) (2.4.1)\n",
            "Requirement already satisfied: typing-extensions>=4.2.0 in /usr/local/lib/python3.10/dist-packages (from pydantic!=1.8,!=1.8.1,<1.11.0,>=1.7.4->spacy->-r requirements.txt (line 7)) (4.5.0)\n",
            "Requirement already satisfied: six>=1.5 in /usr/local/lib/python3.10/dist-packages (from python-dateutil>=2.8.1->pandas->-r requirements.txt (line 5)) (1.16.0)\n",
            "Collecting Levenshtein==0.21.0 (from python-levenshtein>=0.12->fuzzywuzzy[speedup]->-r requirements.txt (line 3))\n",
            "  Downloading Levenshtein-0.21.0-cp310-cp310-manylinux_2_17_x86_64.manylinux2014_x86_64.whl (174 kB)\n",
            "\u001b[2K     \u001b[90m━━━━━━━━━━━━━━━━━━━━━━━━━━━━━━━━━━━━━━\u001b[0m \u001b[32m174.1/174.1 kB\u001b[0m \u001b[31m19.7 MB/s\u001b[0m eta \u001b[36m0:00:00\u001b[0m\n",
            "\u001b[?25hCollecting rapidfuzz<4.0.0,>=2.3.0 (from Levenshtein==0.21.0->python-levenshtein>=0.12->fuzzywuzzy[speedup]->-r requirements.txt (line 3))\n",
            "  Downloading rapidfuzz-3.0.0-cp310-cp310-manylinux_2_17_x86_64.manylinux2014_x86_64.whl (3.0 MB)\n",
            "\u001b[2K     \u001b[90m━━━━━━━━━━━━━━━━━━━━━━━━━━━━━━━━━━━━━━━━\u001b[0m \u001b[32m3.0/3.0 MB\u001b[0m \u001b[31m45.3 MB/s\u001b[0m eta \u001b[36m0:00:00\u001b[0m\n",
            "\u001b[?25hRequirement already satisfied: urllib3<1.27,>=1.21.1 in /usr/local/lib/python3.10/dist-packages (from requests<3.0.0,>=2.23.0->deep-translator->-r requirements.txt (line 1)) (1.26.15)\n",
            "Requirement already satisfied: certifi>=2017.4.17 in /usr/local/lib/python3.10/dist-packages (from requests<3.0.0,>=2.23.0->deep-translator->-r requirements.txt (line 1)) (2022.12.7)\n",
            "Requirement already satisfied: charset-normalizer~=2.0.0 in /usr/local/lib/python3.10/dist-packages (from requests<3.0.0,>=2.23.0->deep-translator->-r requirements.txt (line 1)) (2.0.12)\n",
            "Requirement already satisfied: idna<4,>=2.5 in /usr/local/lib/python3.10/dist-packages (from requests<3.0.0,>=2.23.0->deep-translator->-r requirements.txt (line 1)) (3.4)\n",
            "Requirement already satisfied: blis<0.8.0,>=0.7.8 in /usr/local/lib/python3.10/dist-packages (from thinc<8.2.0,>=8.1.8->spacy->-r requirements.txt (line 7)) (0.7.9)\n",
            "Requirement already satisfied: confection<1.0.0,>=0.0.1 in /usr/local/lib/python3.10/dist-packages (from thinc<8.2.0,>=8.1.8->spacy->-r requirements.txt (line 7)) (0.0.4)\n",
            "Requirement already satisfied: click<9.0.0,>=7.1.1 in /usr/local/lib/python3.10/dist-packages (from typer<0.8.0,>=0.3.0->spacy->-r requirements.txt (line 7)) (8.1.3)\n",
            "Requirement already satisfied: MarkupSafe>=2.0 in /usr/local/lib/python3.10/dist-packages (from jinja2->spacy->-r requirements.txt (line 7)) (2.1.2)\n",
            "Building wheels for collected packages: sklearn\n",
            "  Building wheel for sklearn (setup.py) ... \u001b[?25l\u001b[?25hdone\n",
            "  Created wheel for sklearn: filename=sklearn-0.0.post5-py3-none-any.whl size=2950 sha256=08315d507a2aaa6030c50e8006ac3546138f8f309d104db7e10caf141122b69e\n",
            "  Stored in directory: /root/.cache/pip/wheels/38/1f/8d/4f812c590e074c1e928f5cec67bf5053b71f38e2648739403a\n",
            "Successfully built sklearn\n",
            "Installing collected packages: sklearn, fuzzywuzzy, rapidfuzz, pybind11, Levenshtein, fasttext-wheel, deep-translator, python-levenshtein\n",
            "Successfully installed Levenshtein-0.21.0 deep-translator-1.11.0 fasttext-wheel-0.9.2 fuzzywuzzy-0.18.0 pybind11-2.10.4 python-levenshtein-0.21.0 rapidfuzz-3.0.0 sklearn-0.0.post5\n"
          ]
        }
      ],
      "source": [
        "!pip install -r requirements.txt"
      ]
    },
    {
      "cell_type": "code",
      "execution_count": 4,
      "metadata": {
        "id": "6qUAdZXCryfv"
      },
      "outputs": [],
      "source": [
        "import fasttext\n",
        "from pathlib import Path"
      ]
    },
    {
      "cell_type": "code",
      "execution_count": 5,
      "metadata": {
        "id": "aBnD5x4Kkcen"
      },
      "outputs": [],
      "source": [
        "import sys\n",
        "sys.path.append('/content/gdrive/MyDrive/3_year/WSI/lexsubgen/')"
      ]
    },
    {
      "cell_type": "code",
      "execution_count": 6,
      "metadata": {
        "colab": {
          "base_uri": "https://localhost:8080/"
        },
        "id": "rg4utdA2k0UJ",
        "outputId": "6f08b624-e35d-4745-8f1e-b7bcc2775d03"
      },
      "outputs": [
        {
          "output_type": "execute_result",
          "data": {
            "text/plain": [
              "['/content',\n",
              " '/env/python',\n",
              " '/usr/lib/python310.zip',\n",
              " '/usr/lib/python3.10',\n",
              " '/usr/lib/python3.10/lib-dynload',\n",
              " '',\n",
              " '/usr/local/lib/python3.10/dist-packages',\n",
              " '/usr/lib/python3/dist-packages',\n",
              " '/usr/local/lib/python3.10/dist-packages/IPython/extensions',\n",
              " '/root/.ipython',\n",
              " '/content/gdrive/MyDrive/3_year/WSI/lexsubgen/']"
            ]
          },
          "metadata": {},
          "execution_count": 6
        }
      ],
      "source": [
        "sys.path"
      ]
    },
    {
      "cell_type": "code",
      "execution_count": 7,
      "metadata": {
        "id": "CeEnvou_t6Ef"
      },
      "outputs": [],
      "source": [
        "import importlib"
      ]
    },
    {
      "cell_type": "markdown",
      "metadata": {
        "id": "3mjppii2h30k"
      },
      "source": [
        "# Работа с датасетом"
      ]
    },
    {
      "cell_type": "code",
      "execution_count": 8,
      "metadata": {
        "colab": {
          "base_uri": "https://localhost:8080/"
        },
        "id": "_o2OqHTrg4y_",
        "outputId": "8af2e125-9908-425c-bdb5-d5fa4c8e84e0"
      },
      "outputs": [
        {
          "output_type": "execute_result",
          "data": {
            "text/plain": [
              "PosixPath('/content/gdrive/MyDrive/3_year/WSI/semeval-2010/dataset_wsi_2010.csv')"
            ]
          },
          "metadata": {},
          "execution_count": 8
        }
      ],
      "source": [
        "dataset_path = Path('./semeval-2010/dataset_wsi_2010.csv').resolve()\n",
        "dataset_path"
      ]
    },
    {
      "cell_type": "code",
      "execution_count": 9,
      "metadata": {
        "id": "dhfnx5_SiKN1"
      },
      "outputs": [],
      "source": [
        "import pandas as pd"
      ]
    },
    {
      "cell_type": "code",
      "execution_count": 10,
      "metadata": {
        "colab": {
          "base_uri": "https://localhost:8080/",
          "height": 206
        },
        "id": "zZMIGxfJiOgy",
        "outputId": "96902922-5f1b-41a5-8cd1-9b30281a2b2c"
      },
      "outputs": [
        {
          "output_type": "execute_result",
          "data": {
            "text/plain": [
              "   context_id  group_by target_lemma pos_tag  \\\n",
              "0  threat.n.1  threat.n       threat       n   \n",
              "1  threat.n.2  threat.n       threat       n   \n",
              "2  threat.n.3  threat.n       threat       n   \n",
              "3  threat.n.4  threat.n       threat       n   \n",
              "4  threat.n.5  threat.n       threat       n   \n",
              "\n",
              "                                            sentence  target_id  \n",
              "0  ['However', ',', 'history', 'has', 'proven', '...         58  \n",
              "1  ['This', 'report', 'predicted', 'that', 'by', ...         75  \n",
              "2  ['A', 'department', 'spokesman', 'said', 'the'...         42  \n",
              "3  ['``', 'But', 'the', 'question', 'is', 'whethe...         27  \n",
              "4  ['According', 'to', 'the', 'transcript', ',', ...         38  "
            ],
            "text/html": [
              "\n",
              "  <div id=\"df-397899ac-6223-44f8-b3ce-1d1a2242520a\">\n",
              "    <div class=\"colab-df-container\">\n",
              "      <div>\n",
              "<style scoped>\n",
              "    .dataframe tbody tr th:only-of-type {\n",
              "        vertical-align: middle;\n",
              "    }\n",
              "\n",
              "    .dataframe tbody tr th {\n",
              "        vertical-align: top;\n",
              "    }\n",
              "\n",
              "    .dataframe thead th {\n",
              "        text-align: right;\n",
              "    }\n",
              "</style>\n",
              "<table border=\"1\" class=\"dataframe\">\n",
              "  <thead>\n",
              "    <tr style=\"text-align: right;\">\n",
              "      <th></th>\n",
              "      <th>context_id</th>\n",
              "      <th>group_by</th>\n",
              "      <th>target_lemma</th>\n",
              "      <th>pos_tag</th>\n",
              "      <th>sentence</th>\n",
              "      <th>target_id</th>\n",
              "    </tr>\n",
              "  </thead>\n",
              "  <tbody>\n",
              "    <tr>\n",
              "      <th>0</th>\n",
              "      <td>threat.n.1</td>\n",
              "      <td>threat.n</td>\n",
              "      <td>threat</td>\n",
              "      <td>n</td>\n",
              "      <td>['However', ',', 'history', 'has', 'proven', '...</td>\n",
              "      <td>58</td>\n",
              "    </tr>\n",
              "    <tr>\n",
              "      <th>1</th>\n",
              "      <td>threat.n.2</td>\n",
              "      <td>threat.n</td>\n",
              "      <td>threat</td>\n",
              "      <td>n</td>\n",
              "      <td>['This', 'report', 'predicted', 'that', 'by', ...</td>\n",
              "      <td>75</td>\n",
              "    </tr>\n",
              "    <tr>\n",
              "      <th>2</th>\n",
              "      <td>threat.n.3</td>\n",
              "      <td>threat.n</td>\n",
              "      <td>threat</td>\n",
              "      <td>n</td>\n",
              "      <td>['A', 'department', 'spokesman', 'said', 'the'...</td>\n",
              "      <td>42</td>\n",
              "    </tr>\n",
              "    <tr>\n",
              "      <th>3</th>\n",
              "      <td>threat.n.4</td>\n",
              "      <td>threat.n</td>\n",
              "      <td>threat</td>\n",
              "      <td>n</td>\n",
              "      <td>['``', 'But', 'the', 'question', 'is', 'whethe...</td>\n",
              "      <td>27</td>\n",
              "    </tr>\n",
              "    <tr>\n",
              "      <th>4</th>\n",
              "      <td>threat.n.5</td>\n",
              "      <td>threat.n</td>\n",
              "      <td>threat</td>\n",
              "      <td>n</td>\n",
              "      <td>['According', 'to', 'the', 'transcript', ',', ...</td>\n",
              "      <td>38</td>\n",
              "    </tr>\n",
              "  </tbody>\n",
              "</table>\n",
              "</div>\n",
              "      <button class=\"colab-df-convert\" onclick=\"convertToInteractive('df-397899ac-6223-44f8-b3ce-1d1a2242520a')\"\n",
              "              title=\"Convert this dataframe to an interactive table.\"\n",
              "              style=\"display:none;\">\n",
              "        \n",
              "  <svg xmlns=\"http://www.w3.org/2000/svg\" height=\"24px\"viewBox=\"0 0 24 24\"\n",
              "       width=\"24px\">\n",
              "    <path d=\"M0 0h24v24H0V0z\" fill=\"none\"/>\n",
              "    <path d=\"M18.56 5.44l.94 2.06.94-2.06 2.06-.94-2.06-.94-.94-2.06-.94 2.06-2.06.94zm-11 1L8.5 8.5l.94-2.06 2.06-.94-2.06-.94L8.5 2.5l-.94 2.06-2.06.94zm10 10l.94 2.06.94-2.06 2.06-.94-2.06-.94-.94-2.06-.94 2.06-2.06.94z\"/><path d=\"M17.41 7.96l-1.37-1.37c-.4-.4-.92-.59-1.43-.59-.52 0-1.04.2-1.43.59L10.3 9.45l-7.72 7.72c-.78.78-.78 2.05 0 2.83L4 21.41c.39.39.9.59 1.41.59.51 0 1.02-.2 1.41-.59l7.78-7.78 2.81-2.81c.8-.78.8-2.07 0-2.86zM5.41 20L4 18.59l7.72-7.72 1.47 1.35L5.41 20z\"/>\n",
              "  </svg>\n",
              "      </button>\n",
              "      \n",
              "  <style>\n",
              "    .colab-df-container {\n",
              "      display:flex;\n",
              "      flex-wrap:wrap;\n",
              "      gap: 12px;\n",
              "    }\n",
              "\n",
              "    .colab-df-convert {\n",
              "      background-color: #E8F0FE;\n",
              "      border: none;\n",
              "      border-radius: 50%;\n",
              "      cursor: pointer;\n",
              "      display: none;\n",
              "      fill: #1967D2;\n",
              "      height: 32px;\n",
              "      padding: 0 0 0 0;\n",
              "      width: 32px;\n",
              "    }\n",
              "\n",
              "    .colab-df-convert:hover {\n",
              "      background-color: #E2EBFA;\n",
              "      box-shadow: 0px 1px 2px rgba(60, 64, 67, 0.3), 0px 1px 3px 1px rgba(60, 64, 67, 0.15);\n",
              "      fill: #174EA6;\n",
              "    }\n",
              "\n",
              "    [theme=dark] .colab-df-convert {\n",
              "      background-color: #3B4455;\n",
              "      fill: #D2E3FC;\n",
              "    }\n",
              "\n",
              "    [theme=dark] .colab-df-convert:hover {\n",
              "      background-color: #434B5C;\n",
              "      box-shadow: 0px 1px 3px 1px rgba(0, 0, 0, 0.15);\n",
              "      filter: drop-shadow(0px 1px 2px rgba(0, 0, 0, 0.3));\n",
              "      fill: #FFFFFF;\n",
              "    }\n",
              "  </style>\n",
              "\n",
              "      <script>\n",
              "        const buttonEl =\n",
              "          document.querySelector('#df-397899ac-6223-44f8-b3ce-1d1a2242520a button.colab-df-convert');\n",
              "        buttonEl.style.display =\n",
              "          google.colab.kernel.accessAllowed ? 'block' : 'none';\n",
              "\n",
              "        async function convertToInteractive(key) {\n",
              "          const element = document.querySelector('#df-397899ac-6223-44f8-b3ce-1d1a2242520a');\n",
              "          const dataTable =\n",
              "            await google.colab.kernel.invokeFunction('convertToInteractive',\n",
              "                                                     [key], {});\n",
              "          if (!dataTable) return;\n",
              "\n",
              "          const docLinkHtml = 'Like what you see? Visit the ' +\n",
              "            '<a target=\"_blank\" href=https://colab.research.google.com/notebooks/data_table.ipynb>data table notebook</a>'\n",
              "            + ' to learn more about interactive tables.';\n",
              "          element.innerHTML = '';\n",
              "          dataTable['output_type'] = 'display_data';\n",
              "          await google.colab.output.renderOutput(dataTable, element);\n",
              "          const docLink = document.createElement('div');\n",
              "          docLink.innerHTML = docLinkHtml;\n",
              "          element.appendChild(docLink);\n",
              "        }\n",
              "      </script>\n",
              "    </div>\n",
              "  </div>\n",
              "  "
            ]
          },
          "metadata": {},
          "execution_count": 10
        }
      ],
      "source": [
        "dataset_2010 = pd.read_csv(dataset_path)\n",
        "dataset_2010.head()"
      ]
    },
    {
      "cell_type": "markdown",
      "metadata": {
        "id": "fuNTcvdYigKQ"
      },
      "source": [
        "# Обработка контекста"
      ]
    },
    {
      "cell_type": "code",
      "execution_count": 12,
      "metadata": {
        "id": "u9t5SxGljEd_"
      },
      "outputs": [],
      "source": [
        "from lexsubgen.fasttext_substitutes import FasttextSubstituteGenerator"
      ]
    },
    {
      "cell_type": "code",
      "execution_count": null,
      "metadata": {
        "id": "u3XL2H5nutz_"
      },
      "outputs": [],
      "source": [
        "importlib.reload(sys.modules['lexsubgen.fasttext_substitutes'])"
      ]
    },
    {
      "cell_type": "markdown",
      "metadata": {
        "id": "wq6ky8DUiqtV"
      },
      "source": [
        "### Генерация эмбеддингов контекста"
      ]
    },
    {
      "cell_type": "code",
      "source": [
        "context_emb_p = Path('./semeval-2010/pos_context_embs.json').resolve()\n",
        "context_emb_p"
      ],
      "metadata": {
        "id": "muJJ62HDCPXs"
      },
      "execution_count": null,
      "outputs": []
    },
    {
      "cell_type": "code",
      "source": [
        "# !wget https://dl.fbaipublicfiles.com/fasttext/vectors-crawl/cc.en.300.bin.gz\n",
        "# !gunzip cc.en.300.bin.gz"
      ],
      "metadata": {
        "id": "5-a8GiVNB79m"
      },
      "execution_count": null,
      "outputs": []
    },
    {
      "cell_type": "code",
      "source": [
        "eng_model = fasttext.load_model('cc.en.300.bin')"
      ],
      "metadata": {
        "id": "o6KWVa1HCA9I"
      },
      "execution_count": null,
      "outputs": []
    },
    {
      "cell_type": "code",
      "source": [
        "!python -m spacy download en_core_web_sm"
      ],
      "metadata": {
        "id": "YK64g2kQ5fCu"
      },
      "execution_count": null,
      "outputs": []
    },
    {
      "cell_type": "code",
      "execution_count": null,
      "metadata": {
        "id": "SEpX3DpkmmYR"
      },
      "outputs": [],
      "source": [
        "eng_substitutor = FasttextSubstituteGenerator(dataset_2010, eng_model, subst_lang='en', context_retriever='pos_excluding')"
      ]
    },
    {
      "cell_type": "code",
      "source": [
        "eng_substitutor.get_context_embeddings(eng_model)"
      ],
      "metadata": {
        "id": "AiLjw9aoCLA6"
      },
      "execution_count": null,
      "outputs": []
    },
    {
      "cell_type": "code",
      "source": [
        "eng_substitutor._write_context_embs(eng_substitutor.context_embs, eng_substitutor.target2context2idx, save_path=context_emb_p)"
      ],
      "metadata": {
        "id": "Jm3mSKvkCOXB"
      },
      "execution_count": null,
      "outputs": []
    },
    {
      "cell_type": "markdown",
      "source": [
        "# Генерация подстановок"
      ],
      "metadata": {
        "id": "4IjFdmtkCoxI"
      }
    },
    {
      "cell_type": "markdown",
      "source": [
        "## Английский"
      ],
      "metadata": {
        "id": "TomHNeMCC8OE"
      }
    },
    {
      "cell_type": "code",
      "execution_count": null,
      "metadata": {
        "id": "SyL2VBQBinNw"
      },
      "outputs": [],
      "source": [
        "# скачиваем языковую модель eng_model\n",
        "\n",
        "# !wget https://dl.fbaipublicfiles.com/fasttext/vectors-crawl/cc.en.300.bin.gz\n",
        "# !gunzip cc.en.300.bin.gz\n",
        "# eng_model = fasttext.load_model('cc.en.300.bin')"
      ]
    },
    {
      "cell_type": "code",
      "execution_count": null,
      "metadata": {
        "colab": {
          "base_uri": "https://localhost:8080/"
        },
        "id": "zEYHX824m8eD",
        "outputId": "68a223f1-4bcb-4f4b-f928-cd630fa374d1"
      },
      "outputs": [
        {
          "data": {
            "text/plain": [
              "PosixPath('/content/gdrive/MyDrive/3_year/WSI/semeval-2010/semeval_2010_context_embs.json')"
            ]
          },
          "execution_count": 12,
          "metadata": {},
          "output_type": "execute_result"
        }
      ],
      "source": [
        "context_emb_p = Path('./semeval-2010/context_embs.json').resolve()\n",
        "context_emb_p"
      ]
    },
    {
      "cell_type": "code",
      "source": [
        "en_matrix_path = str(Path('./word_alignment/alignment_matrices/en.txt').resolve())\n",
        "en_matrix_path"
      ],
      "metadata": {
        "id": "eTym9A3vC72K"
      },
      "execution_count": null,
      "outputs": []
    },
    {
      "cell_type": "code",
      "source": [
        "eng_substitutor = FasttextSubstituteGenerator(dataset_2010, eng_model, subst_lang='en', path_to_align_matrix=en_matrix_path, context_retriever='dummy')"
      ],
      "metadata": {
        "id": "RGTgv8uODH8s"
      },
      "execution_count": null,
      "outputs": []
    },
    {
      "cell_type": "code",
      "source": [
        "eng_substitutor._read_context_embs(context_emb_p)"
      ],
      "metadata": {
        "id": "1nkzLWICDR8J"
      },
      "execution_count": null,
      "outputs": []
    },
    {
      "cell_type": "code",
      "source": [
        "eng_substitutes = eng_substitutor.generate()"
      ],
      "metadata": {
        "id": "vYJyyWOdDXVV"
      },
      "execution_count": null,
      "outputs": []
    },
    {
      "cell_type": "code",
      "source": [
        "subst_folder = Path('./semeval-2010/substitutes').resolve()\n",
        "subst_folder\n",
        "filename_dummy, filename_pos = 'eng_substitutes_dummy.json', 'eng_substitutes_pos.json'"
      ],
      "metadata": {
        "id": "39jyewLRDZw3"
      },
      "execution_count": null,
      "outputs": []
    },
    {
      "cell_type": "code",
      "source": [
        "eng_substitutor._save_substitutes(\n",
        "    eng_substitutes, \n",
        "    lang='en',\n",
        "    save_dir=subst_folder,\n",
        "    filename=filename_dummy\n",
        ")"
      ],
      "metadata": {
        "id": "s006agL0DtcM"
      },
      "execution_count": null,
      "outputs": []
    },
    {
      "cell_type": "code",
      "source": [
        "context_emb_p = Path('./semeval-2010/pos_context_embs.json').resolve()\n",
        "context_emb_p"
      ],
      "metadata": {
        "id": "_ZH2Mu9iEMgU"
      },
      "execution_count": null,
      "outputs": []
    },
    {
      "cell_type": "code",
      "source": [
        "eng_substitutor = FasttextSubstituteGenerator(dataset_2010, eng_model, subst_lang='en', path_to_align_matrix=en_matrix_path, context_retriever='pos_excluding')\n",
        "eng_substitutor._read_context_embs(context_emb_p)\n",
        "eng_substitutes = eng_substitutor.generate()"
      ],
      "metadata": {
        "id": "wQB6e3BKD-46"
      },
      "execution_count": null,
      "outputs": []
    },
    {
      "cell_type": "code",
      "source": [
        "eng_substitutor._save_substitutes(\n",
        "    eng_substitutes, \n",
        "    lang='en',\n",
        "    save_dir=subst_folder,\n",
        "    filename=filename_pos\n",
        ")"
      ],
      "metadata": {
        "id": "_1YEMUdAEIvJ"
      },
      "execution_count": null,
      "outputs": []
    },
    {
      "cell_type": "code",
      "source": [
        "del eng_model\n",
        "del eng_substitutes"
      ],
      "metadata": {
        "id": "lGEvcuZMES1p"
      },
      "execution_count": null,
      "outputs": []
    },
    {
      "cell_type": "code",
      "source": [
        "open('./fasttext_models/cc.en.300.bin', 'w').close()\n",
        "%rm ./fasttext_models/cc.en.300.bin"
      ],
      "metadata": {
        "id": "OcqDIYjjEVeq"
      },
      "execution_count": null,
      "outputs": []
    },
    {
      "cell_type": "markdown",
      "metadata": {
        "id": "wyVPHaAUgSOh"
      },
      "source": [
        "# Генерация подстановок на разных языках"
      ]
    },
    {
      "cell_type": "code",
      "execution_count": 13,
      "metadata": {
        "colab": {
          "base_uri": "https://localhost:8080/"
        },
        "id": "GpbQkgSIqzAf",
        "outputId": "233904eb-9b9f-44fd-ac9e-3ec12b250220"
      },
      "outputs": [
        {
          "output_type": "execute_result",
          "data": {
            "text/plain": [
              "PosixPath('/content/gdrive/MyDrive/3_year/WSI/semeval-2010/substitutes')"
            ]
          },
          "metadata": {},
          "execution_count": 13
        }
      ],
      "source": [
        "subst_folder = Path('./semeval-2010/substitutes').resolve()\n",
        "subst_folder"
      ]
    },
    {
      "cell_type": "code",
      "execution_count": 14,
      "metadata": {
        "colab": {
          "base_uri": "https://localhost:8080/"
        },
        "id": "6OdHZl4zoryH",
        "outputId": "25a3645d-258e-49f2-c505-b8e03ea5be25"
      },
      "outputs": [
        {
          "output_type": "execute_result",
          "data": {
            "text/plain": [
              "PosixPath('/content/gdrive/MyDrive/3_year/WSI/semeval-2010/target_translations')"
            ]
          },
          "metadata": {},
          "execution_count": 14
        }
      ],
      "source": [
        "transl_folder = Path('./semeval-2010/target_translations').resolve()\n",
        "transl_folder"
      ]
    },
    {
      "cell_type": "code",
      "source": [
        "dummy_context_emb_p = Path('./semeval-2010/context_embs.json').resolve()\n",
        "pos_context_emb_p = Path('./semeval-2010/pos_context_embs.json').resolve()\n",
        "dummy_context_emb_p, pos_context_emb_p"
      ],
      "metadata": {
        "colab": {
          "base_uri": "https://localhost:8080/"
        },
        "id": "Y7m1xrfdH9qi",
        "outputId": "86c3408b-08cb-4a14-94f3-8f93c9fb8952"
      },
      "execution_count": 20,
      "outputs": [
        {
          "output_type": "execute_result",
          "data": {
            "text/plain": [
              "(PosixPath('/content/gdrive/MyDrive/3_year/WSI/semeval-2010/context_embs.json'),\n",
              " PosixPath('/content/gdrive/MyDrive/3_year/WSI/semeval-2010/pos_context_embs.json'))"
            ]
          },
          "metadata": {},
          "execution_count": 20
        }
      ]
    },
    {
      "cell_type": "code",
      "source": [
        "targets = list(dataset_2010['group_by'].unique())\n",
        "targets"
      ],
      "metadata": {
        "id": "JwWFuot1MY_u"
      },
      "execution_count": null,
      "outputs": []
    },
    {
      "cell_type": "code",
      "source": [
        "def fix_translations(transl_dict, lang, change_transl=None):\n",
        "    if lang == 'fr':\n",
        "        \"Убираем возвратную частицу se\"\n",
        "        transl_dict = {w: t.replace('se ', '') for w, t in transl_dict.items()}\n",
        "    if change_transl:\n",
        "        for w, tr in change_transl.items():\n",
        "            print(w, tr)\n",
        "            transl_dict[w] = tr\n",
        "    return transl_dict"
      ],
      "metadata": {
        "id": "Wr8zSVqyIMHO"
      },
      "execution_count": 66,
      "outputs": []
    },
    {
      "cell_type": "markdown",
      "source": [
        "## Французский"
      ],
      "metadata": {
        "id": "pAYa8BADEb7P"
      }
    },
    {
      "cell_type": "code",
      "source": [
        "# !wget https://dl.fbaipublicfiles.com/fasttext/vectors-crawl/cc.fr.300.bin.gz -P ./fasttext_models/\n",
        "# !gunzip cc.fr.300.bin.gz\n",
        "fr_model = fasttext.load_model('cc.fr.300.bin')"
      ],
      "metadata": {
        "id": "MyPDxN57GTe3"
      },
      "execution_count": null,
      "outputs": []
    },
    {
      "cell_type": "code",
      "source": [
        "fr_matrix_path = str(Path('./word_alignment/alignment_matrices/fr.txt').resolve())\n",
        "fr_matrix_path"
      ],
      "metadata": {
        "id": "44aC1_pJGE3N"
      },
      "execution_count": null,
      "outputs": []
    },
    {
      "cell_type": "code",
      "source": [
        "fr_substitutor = FasttextSubstituteGenerator(dataset_2010, fr_model, subst_lang='fr', path_to_align_matrix=fr_matrix_path, context_retriever='dummy')\n",
        "fr_substitutor._read_context_embs(dummy_context_emb_p)"
      ],
      "metadata": {
        "id": "lmSeazeZHMon"
      },
      "execution_count": null,
      "outputs": []
    },
    {
      "cell_type": "code",
      "source": [
        "targets = list(fr_substitutor.context_embs.keys())\n",
        "translations = fr_substitutor._translate_targets(targets, 'en', 'fr')"
      ],
      "metadata": {
        "id": "F1ZmHH5KIVTg"
      },
      "execution_count": null,
      "outputs": []
    },
    {
      "cell_type": "code",
      "source": [
        "fixed_fr_targets = fix_translations(translations, 'fr', {'screen.n': 'écran', 'house.n': 'maison'})\n",
        "fr_substitutor._save_translations(fixed_fr_targets, 'fr', transl_folder)"
      ],
      "metadata": {
        "id": "4wY5AFLpIm8B"
      },
      "execution_count": null,
      "outputs": []
    },
    {
      "cell_type": "code",
      "source": [
        "fr_substitutes = fr_substitutor.generate(translated_targets=fixed_fr_targets)"
      ],
      "metadata": {
        "id": "y833jT77Iypa"
      },
      "execution_count": null,
      "outputs": []
    },
    {
      "cell_type": "code",
      "source": [
        "fr_substitutor._save_substitutes(\n",
        "    fr_substitutes, \n",
        "    lang='fr',\n",
        "    save_dir=subst_folder,\n",
        "    filename='fr_substitutes_dummy.json'\n",
        ")"
      ],
      "metadata": {
        "id": "IFMGSsuTJTLp"
      },
      "execution_count": null,
      "outputs": []
    },
    {
      "cell_type": "code",
      "source": [
        "fr_substitutor = FasttextSubstituteGenerator(dataset_2010, fr_model, subst_lang='fr', path_to_align_matrix=fr_matrix_path, context_retriever='pos_excluding')\n",
        "fr_substitutor._read_context_embs(pos_context_emb_p)\n",
        "fr_substitutes = fr_substitutor.generate(translated_targets=fixed_fr_targets)\n",
        "fr_substitutor._save_substitutes(\n",
        "    fr_substitutes, \n",
        "    lang='fr',\n",
        "    save_dir=subst_folder,\n",
        "    filename='fr_substitutes_pos.json'\n",
        ")\n"
      ],
      "metadata": {
        "id": "6A6e2EQtJV3-"
      },
      "execution_count": null,
      "outputs": []
    },
    {
      "cell_type": "markdown",
      "metadata": {
        "id": "zrR7ktUs9JAl"
      },
      "source": [
        "## Испанский"
      ]
    },
    {
      "cell_type": "code",
      "execution_count": 15,
      "metadata": {
        "colab": {
          "base_uri": "https://localhost:8080/"
        },
        "id": "eQMjS_v-8rye",
        "outputId": "3a812c91-448e-4639-aea9-90fbdcfa22f9"
      },
      "outputs": [
        {
          "output_type": "stream",
          "name": "stdout",
          "text": [
            "--2023-05-21 16:36:09--  https://dl.fbaipublicfiles.com/fasttext/vectors-crawl/cc.es.300.bin.gz\n",
            "Resolving dl.fbaipublicfiles.com (dl.fbaipublicfiles.com)... 13.35.7.50, 13.35.7.128, 13.35.7.38, ...\n",
            "Connecting to dl.fbaipublicfiles.com (dl.fbaipublicfiles.com)|13.35.7.50|:443... connected.\n",
            "HTTP request sent, awaiting response... 200 OK\n",
            "Length: 4500107671 (4.2G) [application/octet-stream]\n",
            "Saving to: ‘./fasttext_models/cc.es.300.bin.gz’\n",
            "\n",
            "cc.es.300.bin.gz    100%[===================>]   4.19G  37.8MB/s    in 2m 10s  \n",
            "\n",
            "2023-05-21 16:38:19 (33.1 MB/s) - ‘./fasttext_models/cc.es.300.bin.gz’ saved [4500107671/4500107671]\n",
            "\n"
          ]
        }
      ],
      "source": [
        "!wget https://dl.fbaipublicfiles.com/fasttext/vectors-crawl/cc.es.300.bin.gz -P ./fasttext_models/\n",
        "!gunzip ./fasttext_models/cc.es.300.bin.gz"
      ]
    },
    {
      "cell_type": "code",
      "execution_count": 16,
      "metadata": {
        "colab": {
          "base_uri": "https://localhost:8080/"
        },
        "id": "ZXXvkAz384D8",
        "outputId": "75506b77-b8d0-4de9-821b-2abe17425abe"
      },
      "outputs": [
        {
          "output_type": "stream",
          "name": "stderr",
          "text": [
            "Warning : `load_model` does not return WordVectorModel or SupervisedModel any more, but a `FastText` object which is very similar.\n"
          ]
        }
      ],
      "source": [
        "es_model = fasttext.load_model('./fasttext_models/cc.es.300.bin')"
      ]
    },
    {
      "cell_type": "code",
      "source": [
        "es_matrix_path = str(Path('./word_alignment/alignment_matrices/es.txt').resolve())\n",
        "es_matrix_path"
      ],
      "metadata": {
        "colab": {
          "base_uri": "https://localhost:8080/",
          "height": 36
        },
        "id": "UlSJl4VALunq",
        "outputId": "9174c7bf-b849-4aca-b5d1-c2e133bef335"
      },
      "execution_count": 17,
      "outputs": [
        {
          "output_type": "execute_result",
          "data": {
            "text/plain": [
              "'/content/gdrive/MyDrive/3_year/WSI/word_alignment/alignment_matrices/es.txt'"
            ],
            "application/vnd.google.colaboratory.intrinsic+json": {
              "type": "string"
            }
          },
          "metadata": {},
          "execution_count": 17
        }
      ]
    },
    {
      "cell_type": "code",
      "source": [
        "es_substitutor = FasttextSubstituteGenerator(dataset_2010, es_model, subst_lang='es', path_to_align_matrix=es_matrix_path, context_retriever='dummy')"
      ],
      "metadata": {
        "id": "Te7PLMk_Lnyb"
      },
      "execution_count": 18,
      "outputs": []
    },
    {
      "cell_type": "code",
      "source": [
        "es_substitutor._read_context_embs(dummy_context_emb_p)"
      ],
      "metadata": {
        "id": "S0Al_3AvL1b7"
      },
      "execution_count": 21,
      "outputs": []
    },
    {
      "cell_type": "code",
      "source": [
        "translations = es_substitutor._translate_targets(targets, 'en', 'es')\n",
        "translations"
      ],
      "metadata": {
        "id": "g5B_XK4ZL9E8"
      },
      "execution_count": null,
      "outputs": []
    },
    {
      "cell_type": "code",
      "source": [
        "fix_es_translations = fix_translations(translations, 'es', {'cell.n': 'célula'})"
      ],
      "metadata": {
        "colab": {
          "base_uri": "https://localhost:8080/"
        },
        "id": "mbkMWYPZW_hD",
        "outputId": "e9ce85f6-7664-445f-9936-5a117e01ae62"
      },
      "execution_count": 70,
      "outputs": [
        {
          "output_type": "stream",
          "name": "stdout",
          "text": [
            "cell.n célula\n"
          ]
        }
      ]
    },
    {
      "cell_type": "code",
      "source": [
        "es_substitutor._save_translations(fix_es_translations, 'es', transl_folder)"
      ],
      "metadata": {
        "colab": {
          "base_uri": "https://localhost:8080/"
        },
        "id": "ixDqgVa7NMdw",
        "outputId": "89a2ef39-7263-45b3-aa28-b81fc290a477"
      },
      "execution_count": 72,
      "outputs": [
        {
          "output_type": "execute_result",
          "data": {
            "text/plain": [
              "PosixPath('/content/gdrive/MyDrive/3_year/WSI/semeval-2010/target_translations/es_target.json')"
            ]
          },
          "metadata": {},
          "execution_count": 72
        }
      ]
    },
    {
      "cell_type": "code",
      "source": [
        "es_substitutes = es_substitutor.generate(translated_targets=fix_es_translations)"
      ],
      "metadata": {
        "colab": {
          "base_uri": "https://localhost:8080/"
        },
        "id": "HC3A2theN3gA",
        "outputId": "cc8ea25a-cf9f-4de5-a4ad-07ae5bc8e31e"
      },
      "execution_count": 73,
      "outputs": [
        {
          "output_type": "stream",
          "name": "stderr",
          "text": [
            "100%|██████████| 100/100 [04:29<00:00,  2.69s/it]\n"
          ]
        }
      ]
    },
    {
      "cell_type": "code",
      "source": [
        "es_substitutor._save_substitutes(\n",
        "    es_substitutes, \n",
        "    lang='es',\n",
        "    save_dir=subst_folder,\n",
        "    filename='es_substitutes_dummy.json'\n",
        ")"
      ],
      "metadata": {
        "id": "bkJ5qXK9N71Q"
      },
      "execution_count": 74,
      "outputs": []
    },
    {
      "cell_type": "code",
      "source": [
        "es_substitutor = FasttextSubstituteGenerator(dataset_2010, es_model, subst_lang='es', path_to_align_matrix=es_matrix_path, context_retriever='pos_excluding')\n",
        "es_substitutor._read_context_embs(pos_context_emb_p)\n",
        "es_substitutes = es_substitutor.generate(translated_targets=fix_es_translations)\n",
        "es_substitutor._save_substitutes(\n",
        "    es_substitutes, \n",
        "    lang='es',\n",
        "    save_dir=subst_folder,\n",
        "    filename='es_substitutes_pos.json'\n",
        ")"
      ],
      "metadata": {
        "colab": {
          "base_uri": "https://localhost:8080/"
        },
        "id": "SIoe7y_3OW51",
        "outputId": "c8459a57-fc84-4bb2-c5b9-7729a6012269"
      },
      "execution_count": 75,
      "outputs": [
        {
          "output_type": "stream",
          "name": "stderr",
          "text": [
            "100%|██████████| 100/100 [04:12<00:00,  2.53s/it]\n"
          ]
        }
      ]
    },
    {
      "cell_type": "code",
      "source": [
        "# удаляем переменные и файл \n",
        "\n",
        "del es_model\n",
        "del es_substitutes\n",
        "open('./fasttext_models/cc.es.300.bin', 'w').close()\n",
        "%rm ./fasttext_models/cc.es.300.bin"
      ],
      "metadata": {
        "id": "LFH1pKg4PedZ"
      },
      "execution_count": 76,
      "outputs": []
    },
    {
      "cell_type": "code",
      "source": [
        "del es_substitutor"
      ],
      "metadata": {
        "id": "BtQa7ZcncIPw"
      },
      "execution_count": 77,
      "outputs": []
    },
    {
      "cell_type": "code",
      "source": [
        "import gc\n",
        "gc.collect()"
      ],
      "metadata": {
        "colab": {
          "base_uri": "https://localhost:8080/"
        },
        "id": "eHngYCktcYl7",
        "outputId": "621105ce-ff36-4d8e-964c-1f1e108c679d"
      },
      "execution_count": 78,
      "outputs": [
        {
          "output_type": "execute_result",
          "data": {
            "text/plain": [
              "38386"
            ]
          },
          "metadata": {},
          "execution_count": 78
        }
      ]
    },
    {
      "cell_type": "markdown",
      "metadata": {
        "id": "1hX8hqCt-WoV"
      },
      "source": [
        "## Немецкий"
      ]
    },
    {
      "cell_type": "code",
      "execution_count": 79,
      "metadata": {
        "colab": {
          "base_uri": "https://localhost:8080/"
        },
        "outputId": "432bcb3f-a233-4e27-f933-54c313a2b0ef",
        "id": "8s5ewGX4YAGd"
      },
      "outputs": [
        {
          "output_type": "stream",
          "name": "stdout",
          "text": [
            "--2023-05-21 17:54:03--  https://dl.fbaipublicfiles.com/fasttext/vectors-crawl/cc.de.300.bin.gz\n",
            "Resolving dl.fbaipublicfiles.com (dl.fbaipublicfiles.com)... 13.35.7.128, 13.35.7.82, 13.35.7.38, ...\n",
            "Connecting to dl.fbaipublicfiles.com (dl.fbaipublicfiles.com)|13.35.7.128|:443... connected.\n",
            "HTTP request sent, awaiting response... 200 OK\n",
            "Length: 4496980947 (4.2G) [application/octet-stream]\n",
            "Saving to: ‘./fasttext_models/cc.de.300.bin.gz’\n",
            "\n",
            "cc.de.300.bin.gz    100%[===================>]   4.19G  36.2MB/s    in 2m 2s   \n",
            "\n",
            "2023-05-21 17:56:06 (35.1 MB/s) - ‘./fasttext_models/cc.de.300.bin.gz’ saved [4496980947/4496980947]\n",
            "\n"
          ]
        },
        {
          "output_type": "stream",
          "name": "stderr",
          "text": [
            "Warning : `load_model` does not return WordVectorModel or SupervisedModel any more, but a `FastText` object which is very similar.\n"
          ]
        }
      ],
      "source": [
        "!wget https://dl.fbaipublicfiles.com/fasttext/vectors-crawl/cc.de.300.bin.gz -P ./fasttext_models/\n",
        "!gunzip ./fasttext_models/cc.de.300.bin.gz\n",
        "de_model = fasttext.load_model('./fasttext_models/cc.de.300.bin')"
      ]
    },
    {
      "cell_type": "code",
      "source": [
        "de_matrix_path = str(Path('./word_alignment/alignment_matrices/de.txt').resolve())\n",
        "de_matrix_path"
      ],
      "metadata": {
        "colab": {
          "base_uri": "https://localhost:8080/",
          "height": 36
        },
        "outputId": "7d3013fc-f290-4620-8c88-123b2e1dff79",
        "id": "ujAcwSWSYAGf"
      },
      "execution_count": 80,
      "outputs": [
        {
          "output_type": "execute_result",
          "data": {
            "text/plain": [
              "'/content/gdrive/MyDrive/3_year/WSI/word_alignment/alignment_matrices/de.txt'"
            ],
            "application/vnd.google.colaboratory.intrinsic+json": {
              "type": "string"
            }
          },
          "metadata": {},
          "execution_count": 80
        }
      ]
    },
    {
      "cell_type": "code",
      "source": [
        "de_substitutor = FasttextSubstituteGenerator(dataset_2010, de_model, subst_lang='de', path_to_align_matrix=de_matrix_path, context_retriever='dummy')\n",
        "de_substitutor._read_context_embs(dummy_context_emb_p)"
      ],
      "metadata": {
        "id": "VriNRYq4YAGg"
      },
      "execution_count": 81,
      "outputs": []
    },
    {
      "cell_type": "code",
      "source": [
        "translations = de_substitutor._translate_targets(targets, 'en', 'de')\n",
        "translations"
      ],
      "metadata": {
        "id": "wDmW_TayYAGi"
      },
      "execution_count": null,
      "outputs": []
    },
    {
      "cell_type": "code",
      "source": [
        "for w, tr in translations.items():\n",
        "    if de_model.get_word_id(tr) == -1:\n",
        "        print(w, tr)"
      ],
      "metadata": {
        "colab": {
          "base_uri": "https://localhost:8080/"
        },
        "id": "6BmQaoHlZu4S",
        "outputId": "147bece2-c24f-447b-f6f2-9b07904b9aad"
      },
      "execution_count": 84,
      "outputs": [
        {
          "output_type": "stream",
          "name": "stdout",
          "text": [
            "conclude.v daraus schließen\n"
          ]
        }
      ]
    },
    {
      "cell_type": "code",
      "source": [
        "fix_de_translations = fix_translations(translations, 'de', {'conclude.v': 'schließen'})"
      ],
      "metadata": {
        "colab": {
          "base_uri": "https://localhost:8080/"
        },
        "id": "0uGhkj7mYAGi",
        "outputId": "f018f2e8-88c0-47b8-ad44-a74d1f0e8cf0"
      },
      "execution_count": 92,
      "outputs": [
        {
          "output_type": "stream",
          "name": "stdout",
          "text": [
            "conclude.v schließen\n"
          ]
        }
      ]
    },
    {
      "cell_type": "code",
      "source": [
        "de_substitutor._save_translations(fix_de_translations, 'de', transl_folder)"
      ],
      "metadata": {
        "colab": {
          "base_uri": "https://localhost:8080/"
        },
        "outputId": "8119ea4b-ccb9-4c57-a40c-0bdd564775b3",
        "id": "AWuzckxFYAGj"
      },
      "execution_count": 93,
      "outputs": [
        {
          "output_type": "execute_result",
          "data": {
            "text/plain": [
              "PosixPath('/content/gdrive/MyDrive/3_year/WSI/semeval-2010/target_translations/de_target.json')"
            ]
          },
          "metadata": {},
          "execution_count": 93
        }
      ]
    },
    {
      "cell_type": "code",
      "source": [
        "de_substitutes = de_substitutor.generate(translated_targets=fix_de_translations)"
      ],
      "metadata": {
        "colab": {
          "base_uri": "https://localhost:8080/"
        },
        "outputId": "f43300e0-e4a0-4bb7-a530-b9f48e5ddff4",
        "id": "mwg3GGXPYAGj"
      },
      "execution_count": 94,
      "outputs": [
        {
          "output_type": "stream",
          "name": "stderr",
          "text": [
            "100%|██████████| 100/100 [05:59<00:00,  3.59s/it]\n"
          ]
        }
      ]
    },
    {
      "cell_type": "code",
      "source": [
        "de_substitutes.keys()"
      ],
      "metadata": {
        "colab": {
          "base_uri": "https://localhost:8080/"
        },
        "id": "HCs9KDzkhIwD",
        "outputId": "2dd79be4-e4c3-4495-efab-923ff39d3b13"
      },
      "execution_count": 97,
      "outputs": [
        {
          "output_type": "execute_result",
          "data": {
            "text/plain": [
              "dict_keys(['access.n', 'accommodate.v', 'accounting.n', 'address.n', 'air.n', 'analyze.v', 'appeal.v', 'apply.v', 'assemble.v', 'assert.v', 'body.n', 'bow.v', 'camp.n', 'campaign.n', 'cell.n', 'challenge.n', 'cheat.v', 'chip.n', 'class.n', 'commission.n', 'commit.v', 'community.n', 'conclude.v', 'cultivate.v', 'dealer.n', 'defend.v', 'deny.v', 'deploy.v', 'display.n', 'divide.v', 'edge.n', 'entry.n', 'expose.v', 'failure.n', 'field.n', 'figure.v', 'flight.n', 'foundation.n', 'frame.v', 'function.n', 'gap.n', 'gas.n', 'guarantee.n', 'happen.v', 'haunt.v', 'house.n', 'idea.n', 'innovation.n', 'insist.v', 'introduce.v', 'lay.v', 'legislation.n', 'level.v', 'lie.v', 'margin.n', 'mark.n', 'market.n', 'mind.n', 'moment.n', 'mount.v', 'movement.n', 'note.n', 'observe.v', 'office.n', 'officer.n', 'operate.v', 'origin.n', 'owe.v', 'park.n', 'pour.v', 'presume.v', 'promotion.n', 'pursue.v', 'question.v', 'rally.n', 'reap.v', 'regain.v', 'relax.v', 'reputation.n', 'reveal.v', 'road.n', 'root.v', 'screen.n', 'separate.v', 'shape.n', 'shave.v', 'signal.v', 'slow.v', 'sniff.v', 'speed.n', 'stick.v', 'straighten.v', 'swear.v', 'swim.v', 'television.n', 'threat.n', 'tour.n', 'violate.v', 'wait.v', 'weigh.v'])"
            ]
          },
          "metadata": {},
          "execution_count": 97
        }
      ]
    },
    {
      "cell_type": "code",
      "source": [
        "for t in de_substitutes:\n",
        "    print(t)\n",
        "    print(de_substitutes[t][t+'.1'])"
      ],
      "metadata": {
        "id": "1ASYj59ue0lY"
      },
      "execution_count": null,
      "outputs": []
    },
    {
      "cell_type": "code",
      "source": [
        "de_substitutor._save_substitutes(\n",
        "    de_substitutes, \n",
        "    lang='de',\n",
        "    save_dir=subst_folder,\n",
        "    filename='de_substitutes_dummy.json'\n",
        ")"
      ],
      "metadata": {
        "id": "sBTQHgvAYAGk"
      },
      "execution_count": 100,
      "outputs": []
    },
    {
      "cell_type": "code",
      "source": [
        "de_substitutor = FasttextSubstituteGenerator(dataset_2010, de_model, subst_lang='de', path_to_align_matrix=de_matrix_path, context_retriever='pos_excluding')\n",
        "de_substitutor._read_context_embs(pos_context_emb_p)\n",
        "de_substitutes = de_substitutor.generate(translated_targets=fix_de_translations)\n",
        "de_substitutor._save_substitutes(\n",
        "    de_substitutes, \n",
        "    lang='de',\n",
        "    save_dir=subst_folder,\n",
        "    filename='de_substitutes_pos.json'\n",
        ")"
      ],
      "metadata": {
        "colab": {
          "base_uri": "https://localhost:8080/"
        },
        "outputId": "44de2d49-5191-41b9-9860-39c7f6d33682",
        "id": "7TKBW45OYAGl"
      },
      "execution_count": 101,
      "outputs": [
        {
          "output_type": "stream",
          "name": "stderr",
          "text": [
            "100%|██████████| 100/100 [05:41<00:00,  3.41s/it]\n"
          ]
        }
      ]
    },
    {
      "cell_type": "code",
      "source": [
        "# удаляем переменные и файл \n",
        "\n",
        "# del de_model\n",
        "# del de_substitutes\n",
        "del de_substitutor\n",
        "open('./fasttext_models/cc.de.300.bin', 'w').close()\n",
        "%rm ./fasttext_models/cc.de.300.bin"
      ],
      "metadata": {
        "id": "evLldMrhYAGm"
      },
      "execution_count": 104,
      "outputs": []
    },
    {
      "cell_type": "code",
      "source": [
        "gc.collect()"
      ],
      "metadata": {
        "colab": {
          "base_uri": "https://localhost:8080/"
        },
        "id": "MHvgeER1dtmE",
        "outputId": "28419ce1-e56e-4d2f-a261-05b3db430bac"
      },
      "execution_count": 105,
      "outputs": [
        {
          "output_type": "execute_result",
          "data": {
            "text/plain": [
              "28099"
            ]
          },
          "metadata": {},
          "execution_count": 105
        }
      ]
    },
    {
      "cell_type": "markdown",
      "metadata": {
        "id": "cryfDPzG-vaY"
      },
      "source": [
        "## Русский"
      ]
    },
    {
      "cell_type": "code",
      "execution_count": 106,
      "metadata": {
        "colab": {
          "base_uri": "https://localhost:8080/"
        },
        "outputId": "b97f496a-4d25-4500-9428-4cd15ef91e75",
        "id": "ye2FOqI7f4-W"
      },
      "outputs": [
        {
          "output_type": "stream",
          "name": "stdout",
          "text": [
            "--2023-05-21 18:23:18--  https://dl.fbaipublicfiles.com/fasttext/vectors-crawl/cc.ru.300.bin.gz\n",
            "Resolving dl.fbaipublicfiles.com (dl.fbaipublicfiles.com)... 13.35.7.50, 13.35.7.128, 13.35.7.82, ...\n",
            "Connecting to dl.fbaipublicfiles.com (dl.fbaipublicfiles.com)|13.35.7.50|:443... connected.\n",
            "HTTP request sent, awaiting response... 200 OK\n",
            "Length: 4496459151 (4.2G) [application/octet-stream]\n",
            "Saving to: ‘./fasttext_models/cc.ru.300.bin.gz’\n",
            "\n",
            "cc.ru.300.bin.gz    100%[===================>]   4.19G  34.5MB/s    in 2m 8s   \n",
            "\n",
            "2023-05-21 18:25:27 (33.6 MB/s) - ‘./fasttext_models/cc.ru.300.bin.gz’ saved [4496459151/4496459151]\n",
            "\n"
          ]
        },
        {
          "output_type": "stream",
          "name": "stderr",
          "text": [
            "Warning : `load_model` does not return WordVectorModel or SupervisedModel any more, but a `FastText` object which is very similar.\n"
          ]
        }
      ],
      "source": [
        "!wget https://dl.fbaipublicfiles.com/fasttext/vectors-crawl/cc.ru.300.bin.gz -P ./fasttext_models/\n",
        "!gunzip ./fasttext_models/cc.ru.300.bin.gz\n",
        "ru_model = fasttext.load_model('./fasttext_models/cc.ru.300.bin')"
      ]
    },
    {
      "cell_type": "code",
      "source": [
        "ru_matrix_path = str(Path('./word_alignment/alignment_matrices/ru.txt').resolve())\n",
        "ru_matrix_path"
      ],
      "metadata": {
        "colab": {
          "base_uri": "https://localhost:8080/",
          "height": 36
        },
        "outputId": "919e143c-765a-40b4-d457-b2b1e60ad33c",
        "id": "eKZ4E_W0f4-X"
      },
      "execution_count": 107,
      "outputs": [
        {
          "output_type": "execute_result",
          "data": {
            "text/plain": [
              "'/content/gdrive/MyDrive/3_year/WSI/word_alignment/alignment_matrices/ru.txt'"
            ],
            "application/vnd.google.colaboratory.intrinsic+json": {
              "type": "string"
            }
          },
          "metadata": {},
          "execution_count": 107
        }
      ]
    },
    {
      "cell_type": "code",
      "source": [
        "ru_substitutor = FasttextSubstituteGenerator(dataset_2010, ru_model, subst_lang='ru', path_to_align_matrix=ru_matrix_path, context_retriever='dummy')\n",
        "ru_substitutor._read_context_embs(dummy_context_emb_p)"
      ],
      "metadata": {
        "id": "WXeh9hxgf4-X"
      },
      "execution_count": 108,
      "outputs": []
    },
    {
      "cell_type": "code",
      "source": [
        "translations = ru_substitutor._translate_targets(targets, 'en', 'ru')\n",
        "translations"
      ],
      "metadata": {
        "id": "sthJe90rf4-X"
      },
      "execution_count": null,
      "outputs": []
    },
    {
      "cell_type": "code",
      "source": [
        "for w, tr in translations.items():\n",
        "    if ru_model.get_word_id(tr) == -1:\n",
        "        print(w, tr)"
      ],
      "metadata": {
        "colab": {
          "base_uri": "https://localhost:8080/"
        },
        "outputId": "457e0f36-1fc4-49e8-8705-6c9b5f6fd265",
        "id": "65Pqn_tAf4-Y"
      },
      "execution_count": 110,
      "outputs": [
        {
          "output_type": "stream",
          "name": "stdout",
          "text": [
            "accounting.n бухгалтерский учет\n",
            "owe.v быть должным\n"
          ]
        }
      ]
    },
    {
      "cell_type": "code",
      "source": [
        "ru_model.get_nearest_neighbors('должный')"
      ],
      "metadata": {
        "colab": {
          "base_uri": "https://localhost:8080/"
        },
        "id": "-Mee7_i7k9E4",
        "outputId": "a5b3c4ab-9a18-4782-a1f0-99e4c1d77063"
      },
      "execution_count": 117,
      "outputs": [
        {
          "output_type": "execute_result",
          "data": {
            "text/plain": [
              "[(0.7749164700508118, 'надлежащий'),\n",
              " (0.7416205406188965, 'Должный'),\n",
              " (0.6413440108299255, 'достаточный'),\n",
              " (0.6368164420127869, 'подобающий'),\n",
              " (0.6147304773330688, 'должную'),\n",
              " (0.5891010761260986, 'высочайший'),\n",
              " (0.5881335139274597, 'требуемый'),\n",
              " (0.5876595973968506, 'необходимый'),\n",
              " (0.5826200842857361, 'пристойный'),\n",
              " (0.5729640126228333, 'безупречный')]"
            ]
          },
          "metadata": {},
          "execution_count": 117
        }
      ]
    },
    {
      "cell_type": "code",
      "source": [
        "fix_ru_translations = fix_translations(translations, 'ru', {'accounting.n': 'учёт', 'owe.v': 'должный'})"
      ],
      "metadata": {
        "colab": {
          "base_uri": "https://localhost:8080/"
        },
        "outputId": "0191e93a-7732-45dc-a10e-eab336da78e2",
        "id": "q637Xcrcf4-Y"
      },
      "execution_count": 118,
      "outputs": [
        {
          "output_type": "stream",
          "name": "stdout",
          "text": [
            "accounting.n учёт\n",
            "owe.v должный\n"
          ]
        }
      ]
    },
    {
      "cell_type": "code",
      "source": [
        "ru_substitutor._save_translations(fix_ru_translations, 'ru', transl_folder)"
      ],
      "metadata": {
        "colab": {
          "base_uri": "https://localhost:8080/"
        },
        "outputId": "2178090b-24fb-498b-a0a9-6877d25cbc42",
        "id": "IAtXsiyAf4-Z"
      },
      "execution_count": 119,
      "outputs": [
        {
          "output_type": "execute_result",
          "data": {
            "text/plain": [
              "PosixPath('/content/gdrive/MyDrive/3_year/WSI/semeval-2010/target_translations/ru_target.json')"
            ]
          },
          "metadata": {},
          "execution_count": 119
        }
      ]
    },
    {
      "cell_type": "code",
      "source": [
        "ru_substitutes = ru_substitutor.generate(translated_targets=fix_ru_translations)"
      ],
      "metadata": {
        "colab": {
          "base_uri": "https://localhost:8080/"
        },
        "outputId": "947dad26-e1ba-44cb-930d-8787b27f7369",
        "id": "80j5cv6df4-Z"
      },
      "execution_count": 120,
      "outputs": [
        {
          "output_type": "stream",
          "name": "stderr",
          "text": [
            "100%|██████████| 100/100 [04:50<00:00,  2.91s/it]\n"
          ]
        }
      ]
    },
    {
      "cell_type": "code",
      "source": [
        "for t in ru_substitutes:\n",
        "    print(ru_substitutes[t][t+'.1'])"
      ],
      "metadata": {
        "colab": {
          "base_uri": "https://localhost:8080/"
        },
        "outputId": "d8a61d72-3094-4798-d8d7-1bf018519dae",
        "id": "xSPpeg80f4-Z"
      },
      "execution_count": 121,
      "outputs": [
        {
          "output_type": "stream",
          "name": "stdout",
          "text": [
            "преградить пропуск проникнуть допуск несанкционированный проход просочиться проникновение запаролить открыть позволен фтп подступ демо-доступ паролям въезд доступ неавторизованный оперативный запароленный перекрыть блокировать привилегированный логинам выход онлайн-контенту публичный парольный удаленный администраторский root-доступ защищенный аккаунту контакт закрыт заблокированному непосредственный файлообмен закрытому хранилищу файлам равный люк онлайн-доступ интернет-ресурсам одновременный синхронизированный немедленный приватный преграждающий веб-ресурсам загружаемому переход потоковому просмотр вай-фаю пользовательский дополнительный подсоединяться расширенный законнектиться веб-интерфейс неподконтрольный секретный серверам контенту шифрованный конфиденциальной разрешен онлайн-услугам транзит круглосуточный интернет свободный премиум-доступ бесконтрольный приватному перекройте архивам сеансовый мастер-ключ коммутируемый сервисам монопольный высокоскоростному инет преимущественный подключение архиву видеоархиву легальный бесплатный подключенный ограниченный альфа-тест беспошлинный аутентификатор безлимитный ресурсам интернет-доступ радиодоступ пароль мгновенный открывающий пользование затруднен подключиться веб-сервисам простор компьютеру полноценный репозиторию ethernet-доступ халявный бесперебойный общедоступной преференциальный широкополосный wi-fi-доступ безграничный беспроводный беспрепятственного интернет-подключение доступный суперпользователя недискриминационный google-аккаунт\n",
            "прислать перевозить организовать вывешивать порекламировать направить оборудовать получить сделать запроектировать размещать оформить размещаются размещу наклеить изготовить выдвинуть растиражировать разослать вывесить заполнить передвинуть задействовать перебросить продублировать оснастить подготовить спозиционировать дислоцировать перенести разместили можно выкупить размещены публиковать разработать подыскать провести подписать выгрузить создать разместить втиснуть переместить зарегистрировать складировать загрузить перемещать смонтировать располагаться снабдить раскидать поместить укомплектовать помещать водрузить сконцентрировать развешать соорудить интегрировать снять умещать сформировать выложить продать распространить распихать убрать развернуть поместилось собрать написать найти оставить сосредоточить реализовать объединить построить подобрать сгруппировать поселить выделить положить зафиксировать приобрести приютить сфотографировать арендовать прикрепить вписать отдекорировать использовать ввести закрепить присоединить установить скопировать спрятать скомпоновать взять добавить распределить распечатать рассмотреть сложить разложить\n",
            "неучтённых объёмов нормирование счёт осмотр табель определённый внутришкольный ежесуточный выставление 4 приход-расход занесение надзор выявление суммированный инвентаризация поштучный поголовный отчётности патронаж видеоконтроль регистрация хранение калькулирование отбор бух профучет вёлся диспансерный наём учётов аудит радиоконтроль контроллинг подсчёта управленческий погрузку-выгрузку централизованный документооборот товародвижение приём учёта охрану сверка бюджетирование делопроизводство мед забалансовый кадастр зачёт сбор документирование бухучет табелирование персонифицированный перерасчёт планирование инспектирование поквартирный паспортный позаказный скрупулёзный количественно-суммового контроль счётчик план-фактный калькуляционный съём недоучет оприходование наблюдение конвейер пообъектный подбор найм партионного слежение контролирование табельный логирование реестр баланс бухучёта отчетность версионирование автоматизированный взаиморасчётов видеомониторинг систематизирование отчёт бухгалтерский прием журналирование партионный ведение протоколирование бизнес-анализ бесхозяйного учета налогообложение регл учётный пересчет финансово-хозяйственный регистр изучение подсчет учет1с статистический подомовой контрольанализ миграционный анализ регистрирование отслеживание прочерк мониторинг расчет налоговый суммовой постановки многотарифный\n",
            "сайт электронный профиле почтовый сайтобычно поздравительный web-сайт указанный веб-сайт 125057 профайле официальный точный факс 119607 адр адрес email-адрес интернет-адрес адресатолько юридический указывайте упреки address получателя мейл имеил грузополучателя url указать контакты url-адрес мэил e-mail емаил отзывы мэйл критика эл 121170 сайтадрес 141195 важномвведите 127322 отправителя избранноеадрес расположения эмайл мас-адрес 140002 местонахождение юр web-адрес парольвведите ф телефон фио 143405 номер отзывбрест оскорблений данныеадрес lookpost реквизиты электронки 426063 местоположение емайл обвинения тел е-мейл 123056 фактический график координаты почты маркете2 индекс вашe-mail закрытадрес dns-адрес 690001 инвективы обзорынаш почтуна колкости емеил 142784 ip-адрес ругательства фамилию наименование веб-адрес обзывательства ник 357200 имя почтыимя\n",
            "выхлопами испарениями дымом загазованный вентилируют загрязненный микроклимат газообмен углекислоту вдыхать воздуха вдыхаешь загрязнял продувать кислород подсасывает дышать вдыхаете откачивается сквозняк обдувая засасывается сотрясать нагретый углекислый выдувает керосин дышим продув вдыхаем увлажненный спертый всасываемый азот чище влагу влажный аммиак испаряясь откачан напоенный затхлый пересушенный воду стравливается прелый пьянящий охлажденный наэлектризован продуваемый проветриваемый копчу теплоноситель сероводород свежий газолин запыленный морозный кондиционированный душный атмосферу прогретый ионизировать небо испаряющийся газообразный со2 конденсат осушенный горячий прогревался выкачан целебен циркулировал смрадный выхлоп ароматный атмосферный свет застоявшийся внутренном холодный озон удушливый дыхание фреон раскаленный я-есмь обдувающий водород вода ветер дым дурманящий приземный воздухопровод солнечный чистейший нагревающий циркулирующий вода-воздух запах ионизированный сгустившийся смрад живительный прохладный целебный газ нагреваемый воздушный разреженный осушающий приточный ионизирует хладагент песок счастьяя-есмь огонь чистый забортный сжатый дымок баллон холод вакуум испарительный шум океан жар туман струит бриз\n",
            "подготавливать ориентироваться выявлять согласовывать узнавать пытаться выискивать реагировать разрабатывать улавливать оптимизировать фильтровать критиковать организовывать обрабатывать извлекать раскрывать корректировать исправлять отделять вникать обнаруживать отслеживать протоколировать формировать усваивать предвосхищать объективизировать наблюдать создавать координировать опровергать увязывать вдумываться воспринимать оценивать мониторить планировать прогнозировать сличать предсказывать проверять контролировать аргументировать обосновывать находить переписывать выяснять подмечать рефлексировать внедрять инвентаризировать разбирать выделять моделировать усреднять иллюстрировать игнорировать угадывать измерять регистрировать понимать накапливать обдумывать фиксировать структурировать взвешивать вычислять определять отыскивать показывать сверять собирать вычленять изучить объяснять проблематизировать излагать подсчитывать прояснять визуализировать тестировать уяснять характеризовать проецировать сопоставлять рассматривать документировать концептуализировать выверять преобразовывать анализировать разграничивать разглядывать воспроизводить обсуждать упорядочивать высчитывать осмыслить сравнивать соотносить исследовать дифференцировать настраивать экстраполировать конкретизировать совершенствовать размышлять обобщать группировать отображать записывать запоминать толковать разъяснять расшифровывать интерпретировать перебирать систематизировать суммировать припоминать классифицировать трактовать анализирует различать рассуждать\n",
            "трудоустраиваться госпитализироваться приезжать поступить стучаться направлять заручаться идти обратитесь отправляться оформлять бороться наведываться информироваться попадать выезжать спускаться адресовать соваться посылать позвонить заниматься ездить судиться обратиться записываться посоветовать обращайтесь докладываться проконсультироваться прикрепляться спешить высказываться относиться прислушиваться сообщать консультацией подавать следует разрешать связываться жаловаться устремляться сталкиваться ходить рекомендовать предъявлять интересоваться предоставлять захаживать работать лезть избавляться снисходить делать обращаться обращались пользоваться прибегать призывать названивать переходить указывать доверять просить привлекать подъезжать передавать отфутболивать цепляться задавать ссылаться взывать прикасаться спрашивать обходиться писать выкать решать разбираться контактировать притрагиваться растолковывать апеллировать дозваниваться возиться подходить взаимодействовать выяснять оперировать подключать обращения разговаривать\n",
            "изготовлять предусматривать организовывать допускать обрабатывать закреплять назначать разрешать рекомендуется проводить снимать изготавливать осуществлять размещать делать оснащать приспособлять целесообразно определять разрабатывать опираться корректировать предоставлять принимать усиливать переносить устанавливать крепить применяется выполнять действовать применялись увеличивать давать применять учитывать надевать соблюдать распространять уменьшать сохранять создавать настраивать подбирать демонстрировать передавать используют хранить прекращать проявлять соединять адаптировать употреблять носить приспосабливать вставлять осваивать запускать совмещать реализовать начинать выбирать внедрить распылять разворачивать предлагать покупать прописывать включать разбавлять переходить добавлять менять растворять накапливать зовать интерпретировать эксплуатировать подключать чередовать тестировать рекомендовать преобразовывать приобретать сочетать использовать смешивать подмешивать накладывать взаимозаменять различать рассматривать вводить игнорировать практиковать модифицировать юзать пробовать комбинировать\n",
            "раскопать свезти уговорить сформировать сохранить получить постараться выкатить спроектировать привезти развинтить организовать перетаскать выбить скооперировать откопать попытаться подготовить забрать направить дать сгрузить переработать зафиксировать составить сделать добыть принести опросить соберешь консолидировать обработать аккумулировать собрать снарядить разбить завезти разработать приобрести соберет притащить удержать украсть вывезти сгрести посадить нарыть разыскать вытащить выкупить упаковать накопить соберите поднять отправить накрутить выложить раздобыть отыскать раскидать потратить растащить поместить распилить провести сконцентрировать скупить рассовать достать разогнать установить упорядочить укомплектовать развезти закупить распихать собрал систематизировать развернуть сплотить унести отдать переместить выделить превратить распродать подобрать найти захватить изъять смонтировать выкачать проанализировать создать докупить сгруппировать рассортировать соорудить обобщить смастерить подсчитать взять изготовить разместить перебрать вычленить расположить запустить стянуть уничтожить разобрать объединить наскрести вытянуть разнести построить записать сложить перечислить скомпоновать разложить распределить раздать сгенерировать\n",
            "рассчитывать учесть учитывать ошибаться относить опираться проверять советовать считаю расценивать сомневаюсь исходить умозаключать заблуждаться удостоверять заметить надеяться рекомендовать настаивать ожидать рассматривать разрабатывать обоснованно опасаться исключать очевидно полагают определять гарантировать судить заподозрить голословно свидетельствовать полагаем уверен гадать характеризовать доказано объяснять ручаться догадываться игнорировать подозревать выдвигать предполагать толковать думать заключить возражать понимать обсуждать однозначно опротестовывать представить связывать предсказать утверждение предрекать предположить называть приписывать прогнозировать объявлять констатировать отождествлять что считать забывать удивляться описывать признать усомниться отметить обещать домысливать сказать трактовать упоминать констатируем берусь сделатьвывод обвинять согласиться сомневаться причислять доказать анализировать сопоставлять критиковать говорить теоретизировать обосновывать убежден оспаривать интерпретировать экстраполировать упрекать отвергать утверждает доподлинно верить сравнивать возразить убеждать смело противопоставлять вывод заявляет предположение заявить заметим провозглашать отрицать рассуждать опровергать спорить постулировать доказал уверенностью заявлял\n",
            "погребено дряблое тренированное сердце чрево миндалевидное изваяние скелет пещеристое нутро естество воскресшее изуродованное накачанное истерзанное немолодое мозолистое раненое телο подтянутое обезображенное дыхание забальзамированное ослабевшее расслабилось бедро измученное оголенное умершее нетленное кожу обвисшее мозг торс искалеченное истлевшее расслабленное постаревшее затвердевшее ухоженное бессознательное заболевшее труп податливое разложившееся уставшее чучело распаренное сжигающее загорелое иссохшее поверженное личико разгоряченное мускулистое мумифицированное бессмертное окровавленное обвисло исхудавшее расчлененное полое хладное татуированное одеяние трепещущее костлявое вальковатое грузное семя одухотворенное бездыханное тѣло тощее организм сознающее обессиленное обмякло изможденное полуживое упитанное непослушное затекло пухленькое бренное обнимающее окаменевшее распухшее потное тщедушное остывшее тучное умирающее окружающее разум волосатое нагое обгорелое членистое телесное обезглавленное обнаженное стройное гниющее мертвое живое сознание окутывающее истощенное вытянутое отдохнувшее распростертое лицо астральное неподвижное худощавое разлагающееся шарообразное смуглое дрожащее упругое излучающее змеевидное тельце туловище каузальное вспотевшее жаждущее нагревающее бесчувственное обмякшее излучало худенькое нерожденное блуждающее безжизненное вытягивающее голенькое поджарое обгоревшее тела вещество голое энергетическое страждущее теле брюшко холеное загоревшее одетое обтекаемое тело животное человеческое греющее бесплотное извивающееся скрюченное физическое существо\n",
            "прадедам пинок праведнику батюшкам молящемуся отвешивая всевышнему уважуха нижайшее выговор свату книксен чтецу сенсею поклониться мерси воздаю шлю земно сочувственный архиерею хвала спасибо подгон полупоклоне реверанс кланяясь похвалу шлёт троекратный юбиляру браво комплимент высокочтимый респект кивок упрек аплодирую почёт шлём владыкам нижайший уделённое возглас кланяться отвесил помин напутственный душевный укор наказ поклон владыке благодетелю поклонение боженьке подобострастный почет одолжение апплодировать посланцу царю привет подвиг признательность низкий спасибище благодарю патриарху уважительный небу плюсище аплодисменты прощальный суджуд церемонный коленопреклонение преогромнейшее рахмет напутствие признательный позор уважение матушке аллаhу почтение поблагодарить благодарность почтительное намасте благословение щедрый шолом жест\n",
            "орленок детсад кампус пришкольный школу цех специнтернат спорткомплекс турслет скалодром десант садик слёт интернат тубдиспансер фестиваль госпиталь стройотряд погранпост турнир палаточный культурно-спортивный парк-заповедник camp детдом волонтерский слет автогородок шалаш профилакторий миниклуб конно-спортивный палатку картинг-клуб пейнтбольный парк авиаклуб поход загон этнопарк эко-парк спортгородок клуб заповедник турпоход спортклуб форт пересыльный кемп форпост шатер турклуб вожатых аквапарк спортлагеря детско-юношеский лес городок пионерлагерь колледж учебный сад экспедиционный тимуровец отряд контингент гарнизон реабилитационный полигон освенцим аванпост аэродром добровольческий дол кэмп лагерный мини-городок центр велопарк бивак полк пляж вербовочный тренировочный спортивно-туристический отель отдых лыжный приют лагпункт дайвинг-клуб кемпинг артек спецлагерь батальон вожатский детский санаторий-профилакторий альпинистский кружок спортивно-оздоровительный патруль курорт скитур туркомплекс молодежный лунопарк альплагерь разведцентр концлагеря домик табор концентрационный рыбачий колледж-интернат карабаш барак герь пионерский скаутский образовательно-оздоровительный берег тростенец оздоровительно-образовательный оздоровительный оздоровительно-спортивный школа-пансион лагеря мореvip-лагерьволонтерскийвыходного турбазе клуб-отель санатории каникулярный евроклуб автокемпинг пансионат исправительно-трудовой\n",
            "затеянная санкционированная думская инспирированная внутрипартийная битва бойня спланированная кампанейщина баталия организованная пресс-конференция интервенция агитационная митинговая ведущаяся борьба трехдневная антинаркотическая выборная война развернувшаяся артподготовка демагогическая коалиция вечеринка проплаченная срежиссированная подковерная партийная коалиционная спецоперация пиар-акция антитабачная развернутая методичная начавшаяся планомерная развязанная возня клеветническая антиправительственная массированная забастовка шумиха антиреклама антикоммунистическая операция политтехнология тематическая антироссийская работа разоблачительная campaign патриотическая антиамериканская грандиозная вылазка захватническая протестная авантюра акция целенаправленная свистопляска скоординированная очернению разрекламированная масштабная дискуссия пиаровская травля провокация пропаганда миссия вакханалия pr-компания политика избирательная гонка контрпропаганда сессионная антипутинская предвыборная быстротечная предсезонная рейдовая широкомасштабная полемика тактика трехнедельная политическая имиджевая безрезультатная декларационная очередная информационно-пропагандистская интернет-кампании собирательская попытка агитка онлайн-реклама волонтерская лоббистская эпопея общенациональная пропагандистская нашумевшая стартовала антикоррупционная истерия партия многомесячная стратегия кампании полномасштабная межсезонная реформа промо-акция осенне-зимняя экспедиция популистская агитации инициатива рейдерская мобилизация непродуманная атака маркетинговая pr-акция игра краудфандинговая демонстрация беспрецедентная пиар-кампании реклама десятиминутка тендерная линия заявочная медийная весенне-летняя деятельность pr-поддержка программа глобальная экспансия рекрутинговая\n",
            "рибосома перегородка зигота цитоплазматическая плазмида стволовая органелла паренхима митохондрия тирозинкиназа яйцеклетка ворсинчатая нанотрубка гамета хромосома жердочка клонированная брыжейка конформация черепушка гаплоидная ультраструктура болоньевая сумка мутировавшая эндодерма корковая теломераза эпидерма колбочка свинка меристема клеток решетчатая селезенка центриоль юбка мутационная изоформа расчерченная будка мутация палочка цитоплазма выводковая макромолекула жилетка лимфоцит мембрана кормушка биосистема экспрессирующая крыса бактерия рецепторная ворсинка клетчатая поилка эукариотическая эмбриональная лестничная эпителиальная купалка клетках тромбоцит инфузория-туфелька ячейка пептидная зверушка клеткой опухолевая разлиновка клетка-хозяин птичка инфузория тетрадная стая металлическая эритроцит амеба кроличья пришивная внутриклеточная макрофага сумка-переноска мутантная сетка красно-черная клеточная пайетка микрочастица канарейка популяция оболочка джунглевая рептилия вакуоль бордовая особь тряпочная решетка биология диплоидная клет чужеродная лапка трансгенная голограмма рубашечная молекула полосатая флуоресценция животная бежево-коричневая монада кошка человеческая сиреневая серо-бежевая медуза протоплазма коричневая зебра зародышевая леопардовая птичья зебровая орхидея ящерка птица шотландская рубашка шкура бабочка кровяная шерстинка полоска крапинка гингем беличья норка сине-зеленая материя синяя тканная змейка подложка ткань\n",
            "нагрузочное вразумление освидетельствование вскрытие продавливание внеплановое наказание аттестацию заточение растяжение отслаивание нагружение высушивание разоблачение пробное борение истирание докование многодневное разрушение знакомство многочасовое выдержало отборочное смирение суровое заключительное опаснейшее трехдневное краш-тест состязание раскалывание расставание финальное послушание многоэтапное многоступенчатое волнительное ученичество зондирование разбирание соперничество посвящение наблюдение масштабное кратковременное оценивание прочность искушение рискованное диагностирование соревнование выдержавшее профпригодность сертифицирование запугивание модифицирование клеймение вакуумирование изматывание обучение сражение терзание тяжкое мытарство исправление труднейшее разрабатывание проектирование настраивание мероприятие опасное тестирование очищение отвержение пилотное сплющивание потрясение калибрование серьезное предательство экстремальное невыносимое заканчивание нагревание серьезнейшее страшное апробацию унижение занятие погружение изнурительное трудное взвешивание стресс-тестирование изматывающее злоключение тестовое противостояние обкатку мучительное непосильное развлечение сооружение выживание тяжелейшее нелегкое прохождение испытательное шуточное тест воздействие градуирование экспериментирование проверка конструирование сложнейшее приемочное превозмогание экспериментальное измерение анализирование непростое сложное задание показательное сертификационное перевоплощение усовершенствование путешествие пытку тестирующее изнуряющее мучение приспособление испытания изучение бедствие изыскание переживание исследование опробование определение странствие приключение скитание\n",
            "влиять повышать ухудшать регулировать согласовывать позволять открывать подстраиваться увеличивать усиливать смещать снижать понижать вмешиваться ограничивать расширять назначать распространять убирать оптимизировать отслеживать вносить ослаблять подгонять сокращать контролировать подбирать вписывать переиначивать разрабатывать определять устанавливать отклонять адаптировать уменьшать перемещать истолковывать вставлять поправлять закреплять ускорять диктовать принимать рушить преображать создавать изменяющие поворачивать вырабатывать исправлять добавлять переносить настраивать фиксировать изменить улучшать перераспределять растягивать приспосабливаться формировать выбирать передавать удалять искажать разворачивать менять укорачивать вводить варьировать дополнять образовывать привязывать нарушать сдвигать копировать моделировать генерировать изменил применять усложнять продлевать удлинять обновлять присваивать объединять компоновать сохранять воспроизводить реализовывать присоединять видоизменить переписывать возвращать прекращать использовать переставлять реверсировать конфигурировать отображать переосмысливать перевоплощать искривлять упорядочивать пересматривать модифицировать анализировать подчинять придумывать меняя редактировать совершенствовать комбинировать\n",
            "видеоускоритель интеловский чиповать чипов 6-ядерный процессор битный чипом вживили техпроцесс аудиоконтроллер чипованная генный двухъядерный референсный вживить кулер чип-резистор водоблок аудиопроцессор 64-битный чипами кварц usb-брелок блок вживления видеопроцессор шильдик чипсет драйвер смарткарт чип фотосенсор тюнинг термоинтерфейс голографический видеобуфер корпусирования знакогенератор микропроцессор аудиочип иммо вживляется жучок микрокод магниторезистивный чипованный операционник дипе мини-компьютер однокристальный имплантат тв-тюнер видеоконтроллер имплантирован картридж микросхемы транзистор импульсник дейл девайс стикер суперконденсатор резистор четырёхканальный считыватель модулятор усилитель микроконтроллер иммобилайзера 32-битный биопринтер светодиод прошитый декодер ионистор ускоритель дубликатор фотодиод биосенсор флеш-накопитель фотоприёмник деактиватор иммобилизатор сверхминиатюрный чип-ключ приборчик нейронный кристалл брелок тюнинговый вживленного кремниевый фотодатчик принтерный внутрисхемный дактилоскопический наноробот прибор имплантируемый биочип биометрический разъем приемопередатчик мультиплексор считывающий сканер лазер контроллер дешифратор транспондер передатчик термодатчик программатор микрочип gp106 штрих-код движок донгл перепрограммируемый диод сенсор фотонный дамп приемник магнетометр датчик адаптер радиомодуль тюнер\n",
            "саженец хоней урожаен плодово-ягодный сеянец районированный подвой клематис урожай скороплодный морозостойкий скороспелый куст грибовский цинний сортов выращиваемый самоплодный гладиолуса букетный ультраранний отборный георгин кочанчик крупномер урожайный оидиум горохоплодный штамбовый селекционный низкорослый томат опылитель гриот озимый моносорта высокосортный грекс злаковый сахаристый высокорослый урожайность черноплодный засолочный крупнолистовой севок каратоп культивар позднеспелый пузыреплодник инжирный нерафинированный чайно-гибридная кочанный марочный ананасный скарб высокоурожайный крупнолистная шраб сверхранний крахмалистый бессемянный ампельный сорта мекинтош суперурожай среднеспелый скороплодность деликатес среднепоздний селекционер карликовый голозерный неукрывной мелкоплодный джонаголд дарджилинг дикорастущий ремонтантный колонновидный гибрид сортимент зимостойкость самоопыляемый купажированный багрянник крупноплодный зимостойкий индетерминантный раннеспелый сидлис молочноцветковый кишмиш среднеранний торнфри сортности сильнорослый сахаристость брусвяна сладко-кислый лилейник однолетник среднераннего оригинатор сортообразцов ежевик флокс экотип десертный лютесценс пушкинец засухоустойчивый купажный тип двулетник гигантелла адретта эксибишен крупноцветковый уладар подвид\n",
            "взымается аккредитованная примэрия комис спецгруппа спецкомиссия созванная экспертиза учрежденная консультативная депутатская экспертная мэрия иногородняя консистория премия компания-оператор компания-посредник дирекция заседала инициативная уполномоченная компетентная гордума специальная таможня аукционная расследующая землеустроительная дисциплинарная канцелярия партячейка экспедиция авторитетная милиция опергруппа инспектировала наблюдательная компартия аттестационная контрразведка инспекторская прокуратура чиновница биржа еврокомиссия бригада институция комиссии градостроительно-земельная государственная инвентаризационная межведомственная комиссионная правомочна госструктура экзаменационная психолого-медико-педагогическая администрация полиция приемочная совещательная градоначальница отборочная постановила корпорация комендатура следственная команда делегация министерская контрольно-ревизионная ревизионная группа депутация лаборатория палата расследовавшая тендерная регламентная сотрудница ассамблея дума конкурсная комитета проверяющая организация правительственная председательница счетная коалиция мониторинговая избирательная сертификационная контора правкомиссия административно-техническая служба ассоциация система согласительная юристка операционистка экономколлегия мандатная инстанция инспекция коллегия комиссиякомиссия программа адмиралтейств-коллегия федерация апелляционная квалифколлегия\n",
            "претерпеть предотвратить понести предстоять оплатить получить пережить спровоцировать расплатиться одобрить отправиться отважились отважиться осудить допустить задержать совершил запланировали содеять решиться устроить организовать проводить совершившего оформить пройти претворить реализовать преодолеть совершивших приобрести предпринять подвигнуть сделать толкнуть осуществлять инициировать пересечь пуститься затратить остановить спланировать замыслить изготовить принять отменить испытать совершающих совершу создать провести затеять учинить соорудить завершить задумать начать провернуть переплыть прервать совершения продолжить возобновить проделать выполнять запустить сотворить исполнить повторить\n",
            "фан-клуб землячество собрание просвещенное онлайн-сообщества community интернет-сообщества сообщества научно-образовательное сплоченное самоуправляемое кубло разрозненное общественное сословие объединение комьюнити сестричество многотысячное местечковое добровольческое просветительское онлайновое интернет-представительство ученое поколение меньшинство братство вики-сообщество руководство сборище подразделение партнёрство ядро авторитетное пиар-агентство бизнес-пространство мероприятие преуспевающее волонтерское онлайн-издание городское детище культурное разведсообщество общество стадо праворадикальное собравшееся самодеятельное новообразованное начинание преступное экспертное об-во интернет-пространство неофициальное киберспортивное содружество русскоязычное некоммерческое русскоговорящее многочисленное приложение правозащитное националистическое быстрорастущее сверхобщество форумное академическое многоконфессиональное целое коллективное влиятельное уважаемое консолидированное фанатское евразийское многонациональное демократическое неформальное разношерстное многоуважаемое разобщенное информагенство население новостное молодежное англиканское медиапространство журналистское научное бизнес-издание медиасообщество студенческое антропософское болотное добропорядочное транснациональное медийное здравомыслящее цивилизованное продвигающее плюралистическое объединяющее информационное активистское племя расколото исследовательское политическое государство бизнес-сообщество правительство консалтинговое мировое предпринимательское геймерское виртуальное мультикультурное трансгуманистическое дискуссионное агенство уважающее международное интеграционное человечество покерное российское мыслящее существо\n",
            "обусловить организовать следать сделать одобрить сформировать получить вынудить подготовить оформить вступить обязать зарегистрировать согласовать выстроить осуществить отобрать следовало зафиксировать провести принять изготовить разработать исключить послать составить уговорить договориться построить закрепить попытаться создать уполномочить подписать свести связаться условиться оспорить выдвинуть выделить убедить заключу встретиться разорвать согласиться пригласить заключить сотрудничать переговорить вычленить объединить определить развестить предложить расторгнуть отозвать аннулировать удостоверить разделить принудить пролонгировать ратифицировать установить отнести обозначить договор заключение выполнить вывести побеседовать предполагать выдать сослаться примириться провозгласить отметить изучить спроецировать рассудить объявить констатировать расторгли представить отграничить прервать рассмотреть отвергнуть утверждать признать обсудить возобновить взять проанализировать отождествить денонсировать заявить исполнить постулировать\n",
            "выпалывать облагораживать окультурить выкорчевывать возвышать засаживать организовывать распространять высаживать укреплять разрабатывать упрочивать обустраивать разрушать изжить засевать подсевать искоренить укореняться увековечивать возвеличивать углублять продвигать выкапывать привносить поддерживать вырастить поощрять прививать внедрить пересаживать насаждать черенковать возделывать оздоровлять ферментировать популяризировать превращать высевать подавлять усиливать вегетировать изготавливать рафинировать строить опылять вытеснять прорастать проявлять одухотворять сажать использовать применять пропагандировать формировать разлагать проращивать создавать социализировать осваивать вырабатывать испытывать уничтожать культивируется маргинализировать истреблять пестовать стимулировать сохранять приживаться вивать вырождаться накапливать доминировать стратифицировать улучшать подсаживать развивать выращивать сеять эксплуатировать выращивали переносить совершенствовать порождать воспитывать демонстрировать практиковать модифицировать возродить сплачивать акклиматизировать консервировать сбраживать синтезировать растворять продуцировать сублимировать оплодотворять лелеять экспрессировать индуцировать размножаться приспосабливать одомашнивать разводить культивирования приручать скрещивать\n",
            "автос фольца торгово-технический барыга драгдилер аукционный сервисмен юнитек дилера эвакуаторщик прокатчик оф элекс-полюс продаван холодильщик грузоперевозчик дженсер клиент потребитель оптовик автомастер перегонщик приемщик перевозчик торговец манагер автогигант автомаляр игрок автовладелец инком-авто шиномонтажник механик официальный автоваз спонсор завод дилеров ирито партнер сумотори-авто менеджер закупщик представитель перекупщик сервис-центр авто-запчастей эндорсер автоконцерн автомобилестроитель покупатель банкомет владелец автосервис сервисный кузовщик автодилеры водитель автоэлектрик л-авто продавец постгарантийный застройщик автоимпортеров дилерский страховщик евротрейд перепродавец автоград коммерс автохолдинга мотосалон подрядчик авторизованный моторс автоцентр пеликан-авто акционер автохаус концерн рус-лан дилерская завод-изготовитель хозяин альянс-авто экзист автосалон техцентр мастер-консультант ретейлер мастер-приемщик дистрибьютор тонировщик компания-дистрибьютор франчайзер изготовитель производитель сервис-менеджер тюнинг-центр брокер автодок сервис-инженер реселлер эксис автомаркет дилерство импортера вендор поставщик экспортер переработчик мультибренд банк-партнер\n",
            "просвещать вооружать защищающие предохранять облагораживать снабжать бороться помогать очернять укреплять насыщать закрывать изолировать оградить защитить заставлять губить уберечь обезопасить предостерегать давить воспитывать украшать обеспечивать недопускать отстоять запечатывать просветлять сражаться опекать созидать ущемлять заступаться разрушать посягать завоевывать позорить щадить защищавших спасти продавливать драться умиротворять поддерживать нападать отстаивать гнобить оберегать оскорблять усмирять усиливать порабощать восстановлять очищать подавлять возрождать прятаться отделять атаковать спасать грабить освобождать рушить отмазывать разваливать науськивать мочить защищает избавлять подстраховывать отбирать воевать обезоруживать страховать истреблять блюсти захватывать подлечивать вызволять уважать лелеять натравливать бомбить уничтожать защитил убивать мобилизовывать разоблачать блокировать нейтрализовывать представлять громить контролировать сохранять преследовать предавать отражать стеречь терроризировать доказывать защищал восстанавливать выручать парализовывать оправдывать\n",
            "извинять согласиться обвинять заподозрить отрекаться упрекать подозревать недоговаривать умалять извращать презирать стыдиться пытаться перетолковывать негодовать мистифицировать афишировать оправдываться отождествлять исключать протестовать признать подтасовывать думать превозносить отпираться заблуждаться надеяться выпячивать обесценивать опасаться абсолютизировать недооценивать уподоблять домысливать учитывать преувеличивать запрещать надумывать приукрашивать переоценить комментировать понимать подчеркивать сетовать намекать притворяться утаивать переубеждать восхвалять убеждать высмеивать глупо критиковать забывать открещиваться игнорировать заметить считать возражать усомниться упоминать полагать возразить сомневаться уверять преуменьшать переосмысливать замечать лукавить объяснить отбрасывать осознавать замалчивать врать говорить скрывать приписывать подтвердить сравнивать спорить заявлять разоблачать противопоставлять перечеркивать провозглашать факт предполагать опровергнуть обсуждать затушевывать рассматривать предположить выдумывать отметать пропагандировать оспаривать бессмысленно истолковывать расхваливать иронизировать сказать констатировать обосновывать утверждать анализировать очевидно исследовать интерпретировать доказать лгать рассуждать верить теоретизировать описывать постулировать отрицает отрицал\n",
            "объединять подготовлять протягивать переносить упаковывать организовывать претворять прокладывать координировать распространять транслировать намечать тиражировать нацеливать перебрасывать изготовлять связывать группировать разрешать прекращать распределять дислоцировать специализировать прорывать обрабатывать вовлекать высвобождать перестраивать мобилизовывать проектировать налаживать профилировать вычерчивать планировать переоснащать усиливать интегрировать воздвигать вводить прилаживать воплощать завершать передавать подвешивать обеспечивать компоновать перегруппировывать комплектовать закупать восстановлять изготавливать сосредотачивать развязывать предоставлять сопрягать производить применять испытывать зарождать собирать порождать открывать размещать уничтожать осуществлять выковывать состыковывать упрочивать опубликовывать укреплять сворачивать теснить приспособлять формировать протоколировать продвигать натягивать возобновлять устанавливать сооружать накапливать внедрять перемещать развернуть поддерживать генерировать находить углублять располагать свертывать реплицировать отлаживать инсталлировать использовать захватывать расширять разрабатывать обнаруживать создавать разворачиваться приобретать масштабировать настраивать приспосабливать видоизменять вивать строить накоплять расцвечивать конфигурировать скатывать обслуживать запускать моделировать сжимать модифицировать виртуализировать развертывания перехватывать базировать развивать анализировать совершенствовать проблематизировать демонстрировать отыскивать эксплуатировать\n",
            "аннотировать обрамлять выставлять составлять выявлять кэшировать помечать загружать представлять осмысливать ориентироваться оценивать осмыслять транслировать просматривать масштабировать подгружать получать умещать находить агрегировать иллюстрировать обрабатывать формировать фильтровать прокручивать прорисовывать аккумулировать истолковывать упорядочивать отслеживать олицетворять сохранять редактировать разделять угадывать поддерживать образовывать синхронизировать вычислять скрывать отображается выделять анализировать перемещать искажать закреплять запрашивать видеть рисовать персонализировать определять расцвечивать размещать воспринимать переносить озвучивать компоновать структурировать устанавливать показывать фиксировать отображались выражать характеризовать объединять группировать добавлять логировать контролировать обнаруживать улавливать создавать отображены записывать демонстрировать конфигурировать содержать изображать запоминать проецировать изменять ассоциировать выдавать соотносить дополнять распознавать идентифицировать воспроизводить визуализировать интерпретировать выводить реализовывать передавать переключать использовать накапливать различать обозначать материализовывать специфицировать настраивать отражать считывать включать имитировать генерировать моделировать отобразить индицировать порождать\n",
            "затрагивать загружать делиться организовывать координировать можноразделить уравновешивать пересекаться захватывать усиливать ассоциировать дробить связывать ссорить разбивать согласовывать сепарировать разобщать отождествлять делят уменьшать примирять поддерживать путать объединить мирить превращать допускать выделять конфликтовать защищать разделили властвовать упорядочивать группировать учитывать определять интегрировать отстаивать принимать выстраивать совмещать рассредоточивать разрывать закреплять включать схематизировать подменять формировать членить разъединять устанавливать дифференцировать обозначать сближать вычленять перемещать разделить относить состыковывать признавать создавать переносить структурировать добавлять сводить привязывать разламывать размещать перекладывать разграничить передавать обособить выражать оценивать складывать очерчивать отображать сопоставлять перечеркивать расчленять отличать спутывать противопоставлять приравнивать раздроблять различать взаимодополнять суммировать смешивать проецировать взаимозаменять представлять расщеплять расставлять натравливать размежевать игнорировать классифицировать обобщать причислять уничтожать анализировать обсуждать рассматривать\n",
            "краёв заповедный перельется скошенный отчий непочатый заворот бок соловьиный обетованный кантик угол загнутый родимый краями крае подвернутый язычок краи березник голенища нагорный торец кавказ отеческий низ топкий передний пардубицкий края хабаровский нижний целинный родниковый подогнутый соседний алтайский фестончатый краевой черноземный таёжный рідний шов пермский родной зубчатый болотистый край25 подол город левый краснодарский привольный дальний крайкамчатский цасучей уголок верхний ставропольский озёрный сколот устюг рулик обезлюдевший нетронутый крайисполком злинский кромку краю благодатный ярус крайхакассияханты-мансийск регион мир затылочный слой горизонт рваный бочок коценский кекавский устецкий край18 карсавский волнистый континент материковый приморский причерноморский крайсвердловская ледовитый риебиньский забайкальский полюс лепесток крайобъявлений буковый кончик крайадлерчастный материк клочок безжизненный лоскуток край карловарский полуостров крайхакасия крайкрым крайпермский малонаселенный крайиркутская краешек берег кусочек аматский область опольский остров крайгрузоперевозки крайвсе крайнаграды крайподмосковный либерецкий район крайархангельская крайттамбовская крайинвестиционный крайтюменская крайадрес крайтема крайвесь крайгород океан\n",
            "перекрытый атриум перегорожен тыльный портик вестибюль обход тамбур-шлюз пандус кабинет отрытый центральный залаз доступ высокоомный приглашениям паркинг подземный тамбур подъезд парольный заходить въезд беспрепятственный поворот воспрещен закрыт этаж аудиовыход подвал канал пригласительным коридор торца видеовход подуличный проход въезд-выезд вьезд пропуск тоннель 00 проходную флаером холл вход-выход павильон rca-вход отдельный пологий лаз стереовыход трёхуровневый бесплатный арку торец лабиринт выезд полуподвал vga-вход пароль инвертирующий ограждающий грот проходной двор подвальчик проезд паралельный вхождение зал турникет midi-вход заход подступ дворик эвакуационный сброс отпирающий аудиоканал парадный rgb-вход регистрация отгораживающий выхода микрофонный сайтбыстрый фейс-контроль приватный шлакбаум подрезиненный спуск аудио-разъем vip-билет шлюз заезд ввод исход балкончик свободный переход инверсный входной коммутирующий aux-вход прием перемножитель usb-вход потерну флаеру vip-зону 00вход hi-z крайр217\n",
            "перевоспитывать фальсифицировать очернять охаивать репрессировать развращать выгораживать позорить дискредитировать компрометировать коррумпировать подменять выпячивать возвеличивать подсиживать исправлять выявлять запугивать развенчивать пресекать поощрять обворовывать отмазывать мифологизировать просвещать шельмовать вовлекать вербовать демонизировать гнобить прославлять одобрять оболванивать романтизировать критиковать допрашивать ругать обелять подсылать искоренять превращать мистифицировать клеймить изгонять приукрашивать подсовывать прикрывать разоблачить осуждать дезинформировать изживать укорять обвинять третировать обезоруживать стыдить изворачиваться низвергать преследовать громить хвалить бичевать предупреждать оправдываться устранять хулить замазывать превозносить фабриковать подделывать пародировать отлавливать извинять выведывать лицемерить восхвалять недоговаривать клеветать врать осведомлять разыскивать высмеивать чернить обожествлять порочить поучать провозглашать натравливать уничтожать вынюхивать игнорировать арестовывать оплевывать пиарить совращать обманывать забалтывать затушевывать науськивать пропагандировать замалчивать анализировать воспевать распространять обличать маскировать опровергать предостерегать выискивать чморить камуфлировать отрицать отвергать нейтрализовывать подстрекать открещиваться презирать уличать обнаруживать троллить интриговать рекламировать убеждать криминализировать скрывать расхваливать истреблять лгать стебать запутывать легализовывать дурачить выдумывать вуалировать изображать показывать разлагать устрашать утаивать отыскивать разъяснять\n",
            "преждевременный пропуск отворот-поворот мотивированный незапланированный намеренный допуск повторный срыв развод увольнение откат разрыв выговор мотивировали отъезд сознательный неправомерный несвоевременный отказ неучастие самооговор отторжение вынужденный отказаться медотвод приказ расторжение добровольный неполучение саботаж запрос неправильный унизительный ответ некорректный отход сбой самовольный проигрыш принудительный порыв бойкот незамедлительный категоричный протест скоропалительный пересмотр акт возврат отказавшегося отречься признание приглашение правомерен необоснованный опротестование согласие призыв ошибочный выбор неминуемый демарш откажется отсоединение саботирование законен уклончивый принятие карт-бланш крах незаконный частичный отстранение самороспуск дистанцирование ультиматум возражение освобождение отлынивание лишение просьбу выброс постепенный отвержение завещательный избегание самоустранение немедленный увиливание регресс обмен воздержание запрет неиспользование безоговорочный нежелание отвергание перенос переход категорический безосновательный заявление навязывание самоограничение отречения неупотребление вынуждение уклонение аннулирование отмена отключение отκаз игнорирование отрицание требование невозможность принуждение приостановление отсутствие прекращение запрещение\n",
            "вспахивать бранное раскисшем скошенном гумне ратном ополье мини-футбольное воиново стрельбище энергополе обрабатываемое дерби травяном перепахано кладбище вспаханное обширнейшее редактируемое маковое ристалище вспахали заминированное взгорье огороде полукруге футболе непаханое раскрыве перекати пахотное заснеженном перекрестье частоколе сражений подсолнухов футбольном спартаковском озимое динамовском инфополе пустое болото куликово рецептивное пшеничное волотовом летное жнивье участке информационное тренировочное плодородное волейбольное размеченное лесу игровом загоне field заросшее болотце окно бейсбольное полевое гороховое углече незаполненное подполе 18-луночное битвы гольф-поле полюшко боя пастбище выжженное место мини-поле кукурузное огороженное кулоновском прохоровском поросшее половецкое брани пустынное чистом круге пространство поле стартовом картофельное усеянное гольфа минное прямоугольнике луг васильковое рисовое пейнтбольное окошко перелеске секторе бескрайнее текстовое безбрежное полене пятно полями центре пοле газон полю окне фланге магнитное электростатическое острие ноле поля марсово квадратике зеленое электромагнитное море солнце\n",
            "культуристка моделировка заметная видная приметная абстрактная женщина-мечта уродливая худоба импозантная скульптура тучная женщина нестандартная коренастая тощая поджарая пышная статная тщедушная комплекция выдающаяся пирамида непропорциональная дама полуфигура статность неказистая худышка тяжеловесная персона симпатичная диета худая девушка субтильная незаурядная значимая вылепленная символическая личность эффектная стройная кукла подтянутость грузная аппетитная ладная осанка мускулатура мускулистость привлекательная странная худенькая голова-плечи компромиссная ростовая красавица неестественная долговязая расплывшаяся структура мизансцена башня прическа худощавая монументальная подтянутая фигуры знаковая симметрия идеализированная неприкасаемая груша лысина красивая позиция изящная мальчишеская одежда плоскогрудая кандидатура декорация худосочная точеная внешность колоритная сухощавая сутулая модельная жестикуляция неоднозначная бесспорная лидерская улыбка физиономия грация статуэтка походка попа одиозная мордочка сгорбленная перекошенная форма стройненькая картина шея жопа поза рожица фигуристая хрестоматийная мордашка соблазнительная бесформенная статуя исполинская звезда несамостоятельная атлетическая морда маска траектория абстракция мимика татушка медийная подставная проекция худощавость грациозная метафора двусмысленная харизматичная безголовая нескладная талия риторическая широкоплечая светловолосая ключевая аллегорическая глыба гримаса коленопреклоненная геометрическая задница голова выразительная спутница идеальная выпрямленная гротескная шляпа мифическая карикатурная культовая рожа метафорическая марионетка легендарная ляжка демоническая аллегория умориентация точка неприкосновенная ипостась\n",
            "облет полетишь дельтаплане по-самолетному стратосферу авиалайнере аэростате параплане летавшей посадку облетывать путешествие предполетный летать летал парение пролетавший облёт полетушки вингсьюте вираж бикслер самик спецрейс висение планерный подвиг сверхзвук трикоптер летчик пилот скайдайвинг автожире взлет залет авиаперелет пилотирование машущий приземление улет перелет флайборде взлёт парящий полета полетного вылет парамотор спуск ракетоплан эксперимент прыжок планер мотопланер пοлет рейс самоль беспосадочный коптер вояж самолет-носитель ероплан взлетный самолет летящий самолет-истребитель бомбовоз арминг недолет корабль дрон маневр аэроплан межпланетный квадрокоптер геликоптер разбег космос дельталет летания отлёт летающий мультикоптер вертолет звездолет космоплан нырок суборбитальный космолет запуск космический\n",
            "мауэрлат кессонный закладывается плитный гидроизолировать армопояс парапет армировать керамзитоблоков свод вентзазор вентфасад заложен пеноблоков газоблок потолок пучинистый заложить каркасный фундаментальный погреб арболит газобетон дренаж заглубленный оштукатуренный стилобат цоколь бетонированный саманный фундамент каркасник закладочный сваями забетонировать свайно-ростверковый заложили цемент приямок заложим основательный гидроизолирующий фибробетон вкопан возводимый кессон бревенчатый полистиролбетон сруб стройматериал опалубку колодец шлакобетон столбчатый свайный руберойд газосиликата монолитный свайно-винтовой стропилы грунт котлована теплоблок подвал кирпич бетон бетонный кровля керамзитный закладывающий металлопрофиль цементирующий подмыло костяк утеплитель сибита фасад теплоизолятор септик гидроизоляционный купол сип-панелей цементный брусовой пенобетон фунда строительный гидроизоляцию буронабивной опилкобетона крепкий ростверка габион кирпичный металлосайдинг деревянный железобетона отмостки укладываемый быстровозводимый свайно каменный шлакоблок бутовый ленточный шлакоблочный хозблок сваи прочный кирпичики камень бруса фундаментостроения каркасно-щитовой базис ушп каркас металлокаркас тисэ основа мзлф основание\n",
            "установочная удачирамка шкатулка филенка задувка 25 подвесочка коробочка рамочная раздвижная 16 пластиковая розетка рамка календарь-рамка розочка 26 рамкой багетная открытка переходная заглушка винтажная композиция мини-открытка мультирамка пластмаска металлическая цветырамка накладка онлайнрамка поздравительная 22 1-постовая рамку фотокнига радиаторарамка templatesвиньетка победырамка годрамка независимаярамка рамки многослойная открытка-фоторамка новогодняя панель рамка-открытка трубка рамок рамка-коллаж фотошопа png ленточка корзинка вертикальная фальш-панель постарамка заготовка рамка-календарь розрамка прямоугольная сделкарамка школафоторамка белаярамка медогонка окантовка psd наклейка темерамка аnа1979рамка обрамляющая фотокартина пленка наличиирамка рамки-вырезы завитушка виньетка вставка втулка решетка фотооткрытка горизонтальная любовьpsd сиреньрамка линза календарь-домик шаблонвиньетка фоторамки обрамление просмотррамка успехфоторамка фотошаблон плакетка подставка шторка клавиатурная сетка mika56рамка любвирамка рамке крышка обойка линиифоторамка руб видеооткрытка панорамка пластина фотка блестяшка подложка раскладушка цветыфоторамкифоторамка отштамповка каемка фотография салфетка скрап-набора крышка-панель листамифоторамкифоторамка полоска гобелен-миниатюра картинка обложка фотоальбомфотоальбомфоторамкафоторамка\n",
            "гиперфункция приспособительная определенная компетенция директивная важная нормировка компенсаторная позиция определяющая особая данная важнейшая защита основная специальная информация работа алгоритмика характеристика норма регуляция немаловажная стабилизация ранговая структура многоуровневая рассматриваемая тема задача формальная концепция логика интенция стимуляция процедура встроенная приоритизация блокировка схема поддержка основополагающая организация приоритетная мера функциональная функционализация система активирующая идея дополнительная стратегия конфигурация вектор-функция номинализация простейшая регулятивная матрица автоочистка модификация оптимизирующая условная макрокоманда вкладка конструкция фильтрация прагматическая реверсия специфика утилитарная фишка величина проблема проекция схематика форма подсветка регулирующая подзадача вспомогательная билинейная программа утилита инверсия функция-член шкала охранительная строковая инновация фича необязательная динамическая прога предустановка переключалка исходная регулировка пиктограмма парадигма мнемоническая кнопка софтина микропрограмма суггестивная автонастройка двойная автоматичность элементарная клавиша метка особенность услуга автокалибровка активационная многооконность интервальная неотрицательная опциональная синхронизация ф-цией отключаемая дельта-функция синхронизирующая составляющая функциональность технология рекурсивная сигнатура интегрируемая реализованна константная индикация недокументированная параметризация опция ф-я чтука циклическая дистрибутивная функции производная инициализация ф-ция бинарная переменная\n",
            "полсантиметра полмиллиметра простенок преднатяг рейками стропилами брусками торцами 5-7мм милиметр проём воздухообмен перекос поршень-цилиндр продух 2-3мм импост буртик натяг поджим 1-2мм провис вентзазор вентканал витками проем закрываемый сквозняк заподлицо заплечик теплоотвод допускаемый нахлест байпасный герметизирующий дросселирующий стык распор люфт стопор 4-5мм паз поршенек перепад выступ зазор незаполненный диаметральный заусенец бурт шток поршень прогар дефект подрез запенить щелей дисбаланс чейнлайн кромками разрыв подсос провисший просвет отверстие маслоотражатель магнитопровод замыкающийся перепуск жиклер сдвиг цилиндр сопрягающий уплотняющий межэлектродный диаметр колесоувеличенный подпружиненный изоляционный припуск пережим о-ринг напуск промежуток отступ штифт герметизированный фланец микроканал пазовый вакуум разряднике скос торец закисший гистерезис термоконтакт расстояние топливник проскок проход звукопоглотитель демпфер адгезионный демпфирующий подстроечник уплотнитель щель дефлектором контакт клапан текстолитовый шибер стучок щелях штырёк звукоизолирующий омический зажимающий резистор штырь кожух запенивания прожог зажимный непровар деформационный стопорящий поддув расклинивающий минимальный угол токопроводящий клин щели блокировочный герметизатор интервал разброс контур валик слой шов искровой электрод\n",
            "сжижать пропан азот газом gas облгазов угарный хлороводород горючий газ-тормоз баллонный кубометр сильфон газгольдер тормоз газов воздух веселящий сероуглерод двухатомный трубопровод газопровод метан углекислый сжиженный светильный биогаз теплоноситель сернистый канализация-септик газпромовский гелий газообразный нефтепродукты компримированный кислород диз промпотребителей газа бензин-газ ацетилен конденсат углеводороды автогаз пропан-бутан одноатомный уголь газогенераторный топлива газовикам газолин дым газ-носитель аммиак горюче-смазочные облгазы пиролизный природный со2 коксовый баллон кислородсодержащий метановый котел энергоресурсов коммуналку теплотрубопроводная вентиль электрокотел газпрому газ-бензин газификатор газойль сероводород закупаемый отопление газифицированный этиленовый энергорынок газообеспечения аргон этилен газоснабжение керосин автобензин сланцевый синтез-газ инертн спотовый теплоэнергию нервно-паралитический радон водопровод нафтогаз ионизированный мазут энергоносителей нефти газотранспортный нефть солярку магистральный свет бензин бенз теплокоммунэнерго электроэнергию кател потребленный импортируемый комуслуги бензинчик нефтегаз реверсный эл эл-во горючее воду электробойлер электроотопление hn3 металлопласт горючку уран газификации нафту транзит электричество импортный\n",
            "мм кг составляеть руб сроки г см украиныгарантия понедельник сертифицированная мин кликхарактеристикигарантия гарантия1500 вечером рассрочка стр выгода наличиигарантия системагарантия поддержка страховка этажгарантия завтра продленная ассортиментегарантия сверхнадежная стопроцентная производителязаводская скидка доставка предоплата защита заказгарантия 100-процентная доставкигарантия пластикгарантия надежная гарантиягарантия гарантом уверенность официальная гарантиидоставка безоговорочная гарантия возвратгарантия бессрочная гарантированно бесплатная цена пожизненная заводская производителя- долговечность россиягарантия гарантирует 12-месячная универсальнаягарантия комплектация исправная халява манибэк безотказная отсрочка стенугарантия шт надежность фирменная истекла бронирования фикция подвешивания ненападения взаимовыгодность кредитгарантия залог качества приемлемая ручательство сервисная безупречность гарантийного проверенности\n",
            "провоцироваться делаться усиливаться редки выявляться устраняться инициироваться попадать неминуемы рождаться разражаться появиться неизбежны простужаться возможны видеться непоправимые исправляться произошли намечаться случающиеся непредвиденные увеличиваться наблюдаются подстраховываться неприятности возникают участиться оказываться чудиться сочиняться часты меняться случившиеся быть случается проноситься претерпевать ощущаться усугубляться совершать обнаруживаться учащаться выпадать обостряться удаваться назревать теряться переживаться сталкиваться форс-мажоры незапланированные повторялись диагностироваться произойти сопутствовать накапливаться заканчиваться стрястись прекратиться придумываться чудеса встречаться спонтанные разбалтываться образовываться мерещиться непредсказуемые повторяться генерироваться происходит предполагаться всплывать утрачиваться бывает замечать инциденты возникнуть конфузы срабатывать осознаваться бывали фатальные приостанавливаться проскальзывать перегорать сниться чередоваться твориться возобновляться накатываться проскакивать случилось катаклизмы эксцессы получаться возникали нарастать приключиться приключились протекать случаи продолжаться фиксироваться переставать исчезать казусные влипать прерываться сбои вытворять вляпываться срывы припадки необъяснимые отключаться рецидивы вспоминаться\n",
            "препятствовать подкарауливать выявлять пресекать конвоировать отпугивать задержать обходить наказывать распространять искоренять охотиться провоцировать отвращать отпускать тревожить поджидать обрушиваться выгораживать таранить нацеливать охранять раздражать замечать штрафовать ослеплять саботировать останавливать запугивать подталкивать арестовать подстерегать игнорировать пропагандировать устранять обескураживать оттеснять подзадоривать наседать уводить осуждать предупреждать интересовать ликвидировать обезглавливать сопровождать поощрять обездвиживать привлекать отыскивать шантажировать пытаться домогаться изобличать казнить выискивать дискредитировать обнаруживать скрываться притеснять разыскивать бичевать настигнуть выследить добивать заставлять дразнить обезоруживать лишить оглушать пугать угнетать ловить соблазнять высмеивать опекать упорствовать настичь сражать убить прикончить допрашивать устрашать окутывать конфисковывать похищать блокировать давить вынудить душить поражать гнобить преследует нападать неистовствовать донимать проклинать третировать принуждать убегать атаковать гнать истязать парализовывать мучить обманывать разоблачать избивать удерживать уговаривать уничтожить преследовать карать терзать гонять науськивать призывать истреблять предавать разоружать зверствовать громить одолевать преследование изматывать захватывать мстить насиловать обстреливать теснить расстреливать натравливать защищать ненавидеть терроризировать обуревать мутузить продолжать\n",
            "отчий храм фасад полуразрушенный кабинет интернат обветшалый свинарник хлев этаж жилище многоэтажку полуразвалившийся город чердак здание дοм строящийся приют коровник хибару дворец домок дом-то офис домдом сруб дом-памятник интерьер амбар заброшенный подвал усадьбу подъезд палисадник недостроенный полдома бревенчатый квартиру пентхаус сад брусовой дострой павильон многоэтажный пятиэтажный улица дом-корабль участок домище терем загородный деревянный хижину виллу флигель этажный пятикомнатный каркасный саманный корпус дачный курятник комнату шестиэтажный дома эко-дом микрорайон гараж трехэтажный автомобиль дом-дворец особняк сарай многоквартирный вагончик дачу замок уютный барачный дом-крепость коттедж двухэтажный усадебный одноподъездный кирпичный кошкин барак двухподъездный дом-особняк полуподвал домик отель двор газифицированный малоэтажный одноэтажный шалаш дом-усадьба пансионат дворик двухквартирный хату сарайчик жилой дача таунхаус шлакоблочный дом-замок каркасно-щитовой частный дом-баня дом-дача 3-комнатный домовладение переулок трехкомнатный\n",
            "подсказана высказана рекомендация некая задача-то хотелка своеобразная натолкнула сверхзадача основополагающая идея-то сверхидея фича заманчивая революционна интересная инициатива вдохновляющая выдвинута абсурдная крамольная отличная миссия статья осенила позиция попытка задумка придумка инновационна новаторская гениальная интенция похвальная идея-фикс очевидная правильная неплохая мысля бредовая изюминка идейка идиотская навязчивая реализованная замечательность многообещающая логичная утопична любопытная концепция замечательная удачная заготовочка тенденция подоплека здравая дурацкая небанальная заморочка давнишняя затея мечта филосовская стратегия цель фишка презабавная дельная сформулированная здоровская аргументация функция нереализуемая давняя подобная эта иллюзия перспектива мыслишка логика возникла мертворожденная такая специфическая новая идея утопическая фраза инновация спорная тема традиция сомнительная абстрактная креативная картина тематизация теоретическая система схематика шутка странная платоновская конструкция доктрина догадка форма технология прикольная необходимость идеология идее бизнес-идея такова придумалась умозрительная фантастическая концептуальная нетривиальная реализация идеологема гипотетическая осуществимая оригинальная трактовка философия задача загвоздка ассоциация разработка формулировка альтернатива парадигма незамысловатая проблематика изобретательская идеи убежденность вещь-то аналогия утопия предпосылка методика точка проблема фантазия схема мысль интерпретация методология практика дилемма идею метафора легенда вещица гипотеза история теория\n",
            "внедряемые новаторов наноматериалы ниокр прорывы нововведения ноу-хау энергосбережение бизнес-результаты новшества новаторство стартап-проекты информационно-технологические инновационных веяния научные коммерциализировать компании-лидеры маркетинг мегапроекты новомодные науку ресурсосбережения рационализаторские ресурсосберегающие технологичность энергоэффективность технопарки изыски медиатехнологии it-продукты энерготехнологии it-платформы биомедицинские технологические издержки новинки отрасли стартапы традиционные быстроразвивающиеся управленческие наносистемы науки внедряющие прогрессивные новейшие проекты тренды опережающие нанонауки супертехнологии научно-технические ресурсоэффективности фичи концепты бизнес-практики импортозамещающие коммерциализации традиции новаторские прогрессивность концептуальные процессные инженерии венчурные креативность ультрасовременные постиндустриальные наукоемкие дизайнерские передовые инвестиции инициативы энергосберегающие современные синергетические междисциплинарности стандарты разработки высокотехнологичные тенденции бизнес-технологии it-решения вызовы аддитивные революционные дизайн-мышления бизнес-культуры бизнес-коммуникации модернизационные концепции стратегии идеи технологии ит-решения модернизации интернет-технологии бизнес-решения бизнес-модели парадигмы бизнес-стратегии\n",
            "стараться утруждаться ходатайствовать усердствовать хлопотать предупреждать допытываться основываться принимать давать униматься настоял сообщать успокаиваться попустительствовать ратовать заваривать пытаться предлагать торопиться отстаивать горячиться настоит упорствовать добиваться упорствуя задерживать увещевать стоять занудствовать заморачиваться отступаться сосредотачиваться расписываться дожидаться тревожиться спрашивать оправдываться извиняться передумывать останавливаться негодовать концентрироваться надеяться соглашаться зацикливаться объяснять волноваться упрямиться сокрушаться беспокоиться учитывать договариваться просить возмущаться протестовать препираться прекращать артачиться сожалеть напоминать отмалчиваться кипятить умолять помалкивать осторожничать принуждать упрекать заверять беседовать выжидать высказываться упираться ссылаться намекать настаивает заблуждаться рассказывать требовать переубеждать акцентировать заострять обострять возражать процеживать раздумывать обвинять обсуждать заявлять переставать оспаривать думать умалчивать повторять рассматривать забывать отнекиваться договорились доказывать уламывать разговаривать разглагольствовать отвергать молчать убеждать продолжать говорить выпендриваться твердить спорить убеждал утверждать размышлять придерживаться сомневаться полагать клясться игнорировать отрицать мямлить апеллировать талдычить дискутировать уверять муссировать рассуждать\n",
            "составлять выставлять доносить иметь выявлять оформлять освещать согласовывать направлять обеспечивать значить предъявлять размещать устанавливать ориентировать отстаивать определять участвовать помещать экспонировать собирать подготавливать выбирать содержать оценивать являться отправлять обозревать выдавать разрабатывать очерчивать организовывать разделять истолковывать представительствовать открывать вызывать присутствовать принимать транслировать нести запрашивать нацеливать сопровождать закреплять выделять выражать видеть продвигать объяснять предлагать сохранять позиционировать сообщать обосновывать обсуждать поддерживать фиксировать ощущать обнаруживать олицетворять формировать наблюдать излагать возглавлять привлекать изображать распространять презентовать проявлять признавать схематизировать иллюстрировать защищать заявлять создавать переносить документировать выступать приводить испытывать посылать рассматривать разъяснять обозначать визуализировать перемещать показывать символизировать интерпретировать высвечивать контролировать обслуживать напоминать характеризовать анализировать передавать представляет озвучивать подменять взаимодействовать рекламировать объединять охватывать отображать включать разыгрывать рассказывать воспроизводить разворачивать именовать продемонстрировать различать генерировать дополнять расшифровывать проецировать воплощать описывать исполнять представить исследовать ассоциировать заслушивать порождать\n",
            "подбрасывать пачкать заливать вдавливать везти доставать подносить упереть покупать замешивать кладут сгружать добавлять опирать утрамбовывать трогать выливать возить положат ломать выбрасывать заматывать залезать совать зарывать приподнимать переносить подсовывать уносить засовывать упаковывать подвешивать засыпать запихивать таскать слаживать прижимать выкладывать отковыривать подсаливать тянуть вытаскивать оборачивать пихать хранить засунуть швырять намазывать залазить кидать высыпать ставить студить помещать опускать вешать положили ронять ныкать перемещать прислонять кинуть двигать отрывать резать застилать клали перестилать втыкать поместить облокачиваться заворачивать класть брать переворачивать обмакивать разбрасывать пересыпать вынимать вставлять разламывать приклеивать отламывать солить тумбочку прятать положу передвигать наклонять кладите перекладывать приминать подставлять переставлять крошить морозить укладывали уминать окунать положить подстилать уложить кладешь макать кладя постелить перепрятывать ложиться кушать кладем\n",
            "законопроект уложение предпринимательство правосознание кодекс землепользование законоведение градостроительное судоустройство конституция новшество регламентирует ужесточено бизнес-сообщество аграрное законотворчество правительство природоохранное уголовное постановление отраслевое выборное правоведение жизнеустройство земельное юридическое делопроизводство статутное налогообложение самоуправление общественное правотворчество федеральное регулировало общество кодифицированное государственно-правовое регламентирование конституционное закона соглашение правовое правосудие правоохранительное законоположение вероучение ведомство демократическое действовавшее несовершенное уголовно-исполнительное министерство избирательное правоотношение право уголовно-процессуальное законопослушное легализованное концессионное законодательства государство антикоррупционное государствоведение административное политико-правовое бюрократическое нормативно-правовое антитрестовское гражданско-правовое ценообразование законодательно-правовой антимонопольное судебное организационно-правовое применимое налоговое патентное гражданско-процессуальное учредительство трудовое корпоративное регулирование правоприменение фискальное российское подзаконное арбитражное правоприменительная миграционное конституционно-правовое нормотворчество антитеррористическое либеральное коллизионное антипиратское валютное дискриминационное репрессивное зак-во жилищное международное действующее антиэкстремистское прецедентное гражданское договорное регулирующее вексельное\n",
            "балл ранг понижен левел понизить порог повысить снижен среднероссийский норматив высший уро престиж рейтинг среднемировой технико-технологический повышения поднимит образованности вень среднерыночный заоблачный статус наивысший должный градус жизненный ранговый общекультурный повысившийся пороговый критериальный критический уровень критерий уровня требуемый барьер профессиональный низок скачок показатель коэффициент минимальный допустимый достигнутый общий скилл высокий высочайший предел относительный прирост сверхвысокий низкий повышенный возросший энергопотенциал интеллектуальный удовлетворительный степень повышающийся качество стандарт сверхнизкий предельный понижающийся объём ресурсности суммарный среднеевропейский масштаб запас признак максимальный достаточный приемлемый новый верхний лимит физический завышенный интеллект необходимый темп нижний параметр микроуровень уровеньсмысл зашкаливающий фактор нормальный мезоуровень процент подъем средний результат аспект объем базовый режим начальный тонус социализированности стабильный спад размер рост элементарный диапазон потенциал баланс тип индикатор всплеск\n",
            "преднамеренная лукавство хитрость притворство полуправда заведомую лесть фальшивка провокация уловка манипуляция злонамеренная фальсификация ложную ложная лживая дурость сплетня изреченная откровенность ложь фальшь наглость нечестность пакость подлость коварность лгать злонамеренность истину глупость изворотливость дезинформация некомпетентность завистливость заведомая завуалированная наигранность недоговоренность лжет показуха несправедливость клевету месть низость двуличность безответственность бессовестность самонадеянность гадость ангажированность обман предательство развращенность правда ересь трусость лживую коррумпированность вранье наглая гнусность лицемерие безнаказанность непрофессиональность бесчеловечность тупость откровенная предвзятость жестокость вымысел горькая злоба корыстность легковерность правдивая мстительность мерзость лгунья униженность подтасовка кровожадность ревность выдумка необразованность наивность лгут алчность фикция корысть недосказанность искренность фальшивость бездарность циничность бравада беспринципность неверность банальность распущенность лжи злокозненность реальность фиктивность безнравственность голословность гнусная недалёкость зловредность двусмысленность зомбированность беспардонная враждебность хвастливость самообман нелепица продажность неправдоподобность пустословие кривда лживость инсинуация измена демагогия болтовня вороватость непристойность льстивость мистификация нелепость постыдная ненависть доверчивость отвратительность безмозглость надуманность порочность ложность бессмыслица чушь скверность антисоветчина благоглупость бездоказательность небылица чепуха противозаконность вздорность туфта ахинея брехня\n",
            "допускаемых регламентируемый аккредитоваться техминимум регламент допустят несанкционированный нормируемый незапланированный внеплановый регламентированный допущены наряд-допуск допустимый допустили пропуск аккредитации досрочный предполетный допускается квалитет оперативно-ремонтный медосмотр аттестацию тех госзаказ электробезопасность сверхнормативный допущенного определеный перегруз разрешительный зазор исключающий недопущение ограничивающий нормоконтроль спецпропуска гостайне натяг безаварийный имеющих залет квалификационный квалификацию отказ подвоз допинг-контроль разглашение осмотр переток контролируемый госстандарт повышенный свободный самоподготовку проход незаконный непосредственный участию приравненный повторный бесконтрольный въезд беспрепятственный возможный соревнованиям минимальный спецподготовке гарантированный охват ростехнадзор принудительный допускающих торгам сертификат самозапуск допустимое выход выезд максимальный экзамен вьезд сертифицирование получение тестовый обязательное контроль доступ электроустановке отвод лимит перечень радиообмен переход процент выброс ограничение дозволение запрет напуск мед инструктаж отбор заезд сброс -паспорт полетам старт пуск разрешающего неограниченный разрешающий вывоз выдачу ввоз-вывоз разрешение карт-бланш прием разряд транзит\n",
            "ступенька поставленная нивелировка отметки зафиксирована веха кардиограмма проторговка преодолена 1 галочка выноска стоп-линия обваловка 200-дневная повторная предупреждающая подпись патрулированная помарка отметкой зачетке разметка ставится наклеенная малозаметная табличка промежуточная отмеченная дополнительная указывающая заветная фиксация дописка должная наклейка уточняющая резолюция ошибка высота пенализация маркировка отрицательная бирка приписка перечеркнутая корректировка рекомендация среднеарифметическая отложка бровка разворотная зарубка 5-балльная закорючка проба сигнализирующая обозначенная фиксируемая зачеркнутая карта поддельная указательная справка пятерка наивысшая граница отсечка максимальная запись- позиция записка фотокарточка незаполненная сработка грамота оценка привязка четвертная реперная порядковая паспортная опция надпись стрелка фактическая двойка заверительная регистрируемая соответствующая выписка цифра обязательная нулевая барометрическая дощечка собственноручная досмотренная засечка маркировочная проверка удостоверительная удостоверяющая сообщающая пронумерованная заводская свидетельствующая планка подсказка лимитная граничная карточка зацепка вставочка вешка черточка действительная изолиния заявка ставка заметка точка вершина подтверждающая пиктограмма единичка бумажка шкала строка опознавательная складка мотивировка исходная условная норма единица нота величина значащая полоска копия\n",
            "арт-рынок монополизирован толкучий рынков биржу универмаг интернет-рынок рынки медиарынок медиабизнес страну-экспортер конкурирующий пищепром рынку перегрет it-рынок кинорынок мини-рынок невольничий рыбный индустрия базар моторынок автовокзал автогигант автопроизводство черкизон фондовый парк агрорынка авторынок привокзальный кинопрокат магазин черкизовский салон прилавок торговый капитализм перенасыщен супермаркет хлебзавод киоск автопродаж сбыта авиарынок г завод рынокрынок товаропоток цивилизованный фармрынок турбизнес торгово-финансовый интернет-коммерция предприятие-производитель телеком-рынок ритейл онлайн-торговли быстрорастущий базарчик товаропроизводитель нишевый регион экспорт автомобилестроитель брокер рыноκ рын монополистический ларек продовольственный двор ликвидный рынок интернет-бизнес рынка it-сектор рыночное конкурентоспособный митинский банк онлайн-рынка высокомаржинальный маркет премиум-сегмент рынке послекризисный конкурентный бизнес привоз таксомоторный автопром бизнес-сегмент фармацевтический рынοк докризисный интернет-ритейлер монопольный энергорынок радиорынок промрынок мир институт пузырь покупатель онлайн-ритейлер концерн высококонкурентный кризис ассортимент розничный рынокчитать рыночный межбанк тренд маркетинг коллекторский автомобильный спрос продуктовый район валютно-финансовый реализатор потребитель закупочный монополизм ринок сектор епицентр экспортно-импортный продукт премиум-бренд дистрибьюторский валютный импорт российский монополист брэнд спотовый сегмент европейский внешнеэкономический коммерческий староконный бренд межбанковский перепродавец отечественный оптовый\n",
            "помрачен помутился косный эгоистический помыслы интуиция непредубежденный разумение phren умы сознательный умишко неокортекс замутнен саморазвивающийся воспаленный рассудочный диавольский смятенный психику буддхи благоразумие внутренний духовный пробуждающийся моск греховный интеллектуализм всеведущий бесстрастный плотский рационализм морализм ум соборный рационалистический рациональный гнев житейский рептильный затуманенный предрассудок рассудок рассудительность пытливый бездушный нравственность ментальный сердце не-ум априорный нерождённый бодрствующий психический манас одурманенный умъ сверхъестественный детерминизм скептицизм высокоразвитый пробужденный интеллектуальный затуманить постижимый каузальный мертвящий кибернетический инстинкт интеллект супермозг здравый разум идеализм материализм зомб метафизический эгоизм объемлющий мозг тварный астральный материалистический самосознание гений дремлющий желудок животворный чувственный первобытный моцк совесть темперамент интеллигибельный провидческий мир организм спиритуализм человеческий эмпиризм пуруша биоробот взор бессознательное мыслящий монизм трезвомыслие гипнотизм мыслительный трансцендентальный сознающее непокой сверхсознание мышление божественный здравомыслие бестелесный порабощенный мыслеобраз пыл непознаваемый прагматизм воля гуманизм оптимизм сознающий воображение ментал энтузиазм дух волю сознания инопланетный тело атман сверхразум компьютер перводвигатель сверхчувственное\n",
            "трудный важный судьбоносный переломный деньпосле существенный злополучный промежуток год тогда неловкий финальный этапе день следующий поэтому неизбежный волнительный удачный упущенный нужный решающий этот вчерашний сейчас важнейший вечер критический нынешний поскольку улучив первый оставшийся сегодняшний час текущий конкретный некоторый предполагаемый знаменательный случае последний кульминационный настоящий когда потенциальный третий немаловажный означенный разгар данном однако трагический этотпериод момент определенный вопрос необходимый деле миг упущен настал инцидента возможный самый после отрезок подобный мoмeнт период эпизод данныймомент переходный теперешний что данный нюанс настоящее единственный предшествующий обозреваемый процесс ситуации сегодняшнего подходящий критерий начальный результат наступил время существующий стадии времени спорный реальный вышеуказанный фазе полумомент причине шанс рассматриваемый аспект фактор факт объект сожалению мгновение вариант любой фактопедии товар показатель способ продукт завершения точке\n",
            "связывать объединять подвешивать поднимать выставлять переносить устанавливается вывешивать устраивать распространять согласовывать добавлять расставлять вписывать разрешать поддерживать вырабатывать вносить размещать опирать поставить выявлять обновлять скачивать закреплять водружать помещать назначать прописывать калибровать налаживать эксплуатировать расширять инсталлировать состыковывать усиливать присваивать устранять изготовлять закрывать регистрировать интегрировать строить включать передавать подгонять организовывать сохранять открывать транслировать проводить предусматривать создавать наклеивать смещать навешивать вводить складывать сопоставлять установить привязывать оснащать собирать выдвигать покупать перемещать предлагать предоставлять учитывать запрашивать регулировать снимать удалять брать внедрять запускать располагать корректировать делать сооружать конфигурировать изготавливать ремонтировать принимать модифицировать крепить комплектовать загружать решать прикручивать запрещать формировать разворачивать установили менять разрабатывать применять определять подключать развертывать выбирать рассматривать фиксировать анализировать разбирать контролировать использовать обнаруживать приобретать блокировать выполнять тестировать прикреплять проверять привинчивать приспосабливать осуществлять изучать\n",
            "порывистое пешеходное изгибание общественное движе распрямление трогание зигзагообразное бессветофорное круговое мускульное протестное двухполосное повстанческое объединительное осаживание дорожное оживленное объединение прямолинейное приподнимание добровольческое социал-демократическое шевеление дыхание равноускоренное вращательное столкновение смещение преследование центростремительное шествие колебательное освободительное педалирование левосторонее захватывание маятниковое плавное ритмическое выталкивание придавливание ретроградное реверсивное зажатие кинематическое колесо опускание волонтерское вращающее антиимпериалистическое правостороннее анархическое центробежное забастовочное раскачивание революционное блуждание сдвигание хождение вихревое стихийное устремление хаотичное покачивание блуждающее качание маневрирование динамическое подпрыгивание кругообразное беспорядочное прыгающее откатывание колебание одностороннее безостановочное интенсивное кувыркание танцевание медленное пульсирующее буксирование задерживание качательное перекатывание сковывание телодвижение подталкивание движения направление циркулирование скольжение неторопливое разжатие выталкивающее броуновское сумасшедшее кружение преобразование встречное падение однонаправленное несущееся притормаживание перемещение реверсирование вращение толкающее двустороннее колыхание хаотическое бегущее разбегание ускорение притяжение инерционное приведение переползание перестроение перетекание пульсирование действование взаимодействие перестраивание движущееся торможение восходящее верчение возвратное попятное виляние развитие ползущее круговращение равновесие непрерывное двигающееся сознавание поступательное самодвижение неудержимое катящееся действие\n",
            "вставлено процитировано предпослано упомянуто уточнение предупреждение инструктивное цитирование пометку описалово редакционное примеч указано см язвительное нововведение замечание изречение цитирую цитируемое послесловие приписка постскриптум предостерегающее обязательное умолчание значение новшество прим многостраничное высказывание предостережение скобках издание предуведомление официальное сноски разъяснение пояснения двоеточие заметка абзац суждение развернутое указывается уточняющее троеточие двусмысленное проницательное резонное прилагаемое статье пространное наставление четверостишие примечания приведенное записке подстрочное оговорка эпиграфе шуточное извинение объяснительное тезисное утверждение вводное отступление письмо небезынтересное упоминание ремарка разъясняющее указание текстовое оглавление преамбуле упоминаемое слово вышенаписанное цитате намек предполагаемое пожелание требование предисловие многозначительное возражение поясняющее предположительное предложение заголовок заглавие сообщение данное разночтение соображение любопытное дополнение основное краткое наименование небольшое характеристическое многословное заключение условие описание заявление объяснение следующее допущение обстоятельство\n",
            "твориться подглядывать слышать происходить происходящим полюбоваться появляться мониторить интересоваться лицезреть впечатляться любопытствовать наблюдать узреть восхищаться подметить обозревать взглянуть обнаружить узнавать проводить ощущать следить воочию беседовать увидеть надзирать заметить выявлять приметить рассказывать восторгаться ожидать замечать сравнивать созерцать переживать представлять зарисовывать прищуриваться следил обсуждать разбирать воображать смотреть экспериментировать взаимодействовать примечать подмечать объяснять констатировать случать наблюдающего прогуливаться осознавать глазеть оценивать управлять воспринимать визуализировать пристально реагировать протоколировать документировать отслеживать описывать созерцали вглядываться показывать изображать диагностировать наслаждаться предвкушать сопоставлять контролировать рассматривать забавляться осмыслять предугадывать предполагать анализировать безучастно осмысливать предсказывать демонстрировать понимать разглядеть заворожено прогнозировать определять улавливать запускать практиковать изучать имитировать фотографировать интерпретировать исследовать моделировать фиксировать различать заснять\n",
            "убощицей корп универмаг директорский штаб-квартира штаб офискофемашины здание кабинет пиццерию склад контору отдел хоум-офис павильон помещение центральный магазин арендованный проспект холл главпочтамт пентхаус ит-отдел цех торгово-выставочный сервис-центр гуанджоу медцентр киоск этажбилайн этаж кампус корпус зал представительство спортзал офис клуб квартиру офисов офіс шоу-рум супермаркет дата-центр бизнес-парк центр бухгалтерию офисно-торговый особняк бэк-офис кафетерий it-отдел веб-сайт сотрудник ресторан подъезд торговый фитнес-клуб мобильный дом интернет-клуб гараж банк тренинговый клиентский фотостудию автосалон магазин-склад областьфилиал указателей-подсказок склад-магазин бизнес диспетчер-оператор секретариат онлайн-офис гостиницу автосервис open-space дизайн-студию офис-склад допофис экоофис загородный филиал ларек show-room бутик фотосалон корпоративный сервисный салон тренинг-центр хостел коттедж телефон-факс гостиничный офисно-складской фронт-офис мини-офис cклад вагончик конференц-зал брак полуподвал hr-отдел кофейню 1телефон бизнес-ассистент копицентр оф офисно-деловой 544офис проектный бизнес-инкубатор офис-салон кредитно-кассовый офис-менеджер терминал двор миниотель бизнес-центр коворкинг банкомат call-центр доп клининговый бизнес-комплекс юрадрес консалтинговый колл-центр коворкинг-центр аутсорсинговый мед юр\n",
            "авиаинженер вояка полицейский офицеров оперуполномоченный милиционер афганец чиновник шофер военнослужащий служака инженер дезертировавший старлей капрал комитетчик спецагент сослуживец контрактник полковник-лейтенант полисмен служащий солдат-контрактник спецназовец солдат экс-генерал унтер ветеран пограничник оперативник лётчик интендант медик инспектор сотрудник диверсант чекист полковник-инженер срочник пилот шеф ракетчик парашютист сержант-майор юноша зенитчик моряк офицер-десантник товарищ старослужащий эсэсовец летчик-инструктор пилот-истребитель гвардеец уорент-офицер штабист контрразведчик штатский военнопленный боец оберст охранник курсант журналист офицер-разведчик сержант политработник командующий майор лейтенант экс-офицер разведчик лётчик-наблюдатель фейерверкер ефрейтор шпион разведчик-наблюдатель десантник замполит танкист артиллерист начальник аристократ джентльмен радист новобранец офицер-танкист связист штаб-сержант снайпер политкомиссар летчик-истребитель комендант мичман шарфюрер мастер-сержант отставник резервист легионер парень штаб-ротмистр прапорщик солдафон фельдфебель дворянин особист генерал-лейтенант отставной моряк-подводник белогвардеец главнокомандующий фельдмаршал контр-адмирал морпех матрос лейтенант-полковник пехотинец дипломат генерал-майор кгбшник офицер-подводник капеллан военврач капитан офицер-воспитатель военный вице-адмирал ополченец генерал вербовщик полковник торпедист комиссар бравый штурмфюрер доброволец гранатометчик штаб-лекарь кавалерист старшина минометчик военфельдшер автоматчик офицер-артиллерист штабс-капитан вахмистр жандарм ординарец генерал-кригскомиссар юнкер женщина-офицер ротный комбат ротмистр командир унтер-офицер священник поручик адмирал телеграфист воин денщик адъютант обер-офицер наемник квартирмейстер штаб-офицер флаг-офицер\n",
            "направляться пробивать оформляться совершенствоваться идти открываться ориентироваться развиваться поступить согласованно структурироваться следовать перемещаться атаковать подготавливаться разрабатывать закрепляться вооружаться работать перестраиваться сосредоточиваться маневрировать решительнее саморегулироваться бороться давить защищаться противостоять пытаться делать двигаться формировать осуществлять проводить наступательно блокировать скоординировано попустительствовать совершать протекать бесчинствовать приспосабливаться устанавливать сопротивляться готовиться действовать создаваться соображать внедрять усиливать рассчитывать осваиваться распространяться хитрить включаться оказывать мобилизоваться находиться вырабатывать влиять бунтовать определять воплощаться ликвидироваться решать реагировать реализовывать держаться мыслить сплачиваться подчиняться начать практиковаться складываться претворять взаимодействовать проявлять активизироваться выкручиваться творить принимать применять приобретать меняться объединяться пребывать выжидать функционировать выполнять действует вводить думать примериваться диктовать использовать эмоционировать исполнять продолжать самоуничтожаться конфликтовать существовать\n",
            "ценнейший собственный материал авторитетный потенциальный информированный цитируемый главнейший важнейший подлинный сайт-источник ссылкой человек кладезь осведомленный минеральный инсайдерский близкий достоверный возможный дополнительный недоступный водоисточник ссылающегося год исходный первоисточник интернет-ресурс легкодоступный единственный codelab непосредственный предполагаемый недостаток живоносный интернет-источник официальный сайт чник собеседник proufu родниковый родник канал знакомый первичный бестрансформаторный основный вэб-сайт неисчерпаемый термальный очаг непроверяемый неиссякаемый он высокопоставленный целебный возобновляемый пресс-центр источников вспомогательный регулированию5 нет сомнительный радоновый портал аспект постоянный неназванный стабилизированный резервуар жизни интернет-портал ресурс живительный ссылающийся карасу-баши компонент kznlive способ животворный сероводородный информатор исток анонимный альтернативный приемник неистощимый arigus неиссякающий источ средоточие излучатель поглотитель страны фактор преобразователь признак предмет информпортал сообщении генерирующий носитель индикатор оазис объект резервный неиссякаемого www времени вдохновения бесперебойного символ элемент регулятор генератор\n",
            "тщательнейший посильный тщательный заблаговременный ощутимый должную своевременный строжайший больший нешуточный серьезный чрезмерный эстетический жесточайший значительный долженствующий скорейший гарантированный незамедлительный безотлагательный сиюминутный нравственный немалый аккуратный визуальный приличествующий окончательный систематичный солидный подобающую неусыпный колоссальный опрятный благообразный желательный грамотный минимальный надлежащую потребный здоровый строгий надлежащий соразмерный дальнейший неукоснительный изрядный заметный правильный эстетичный респектабельный определенный всесторонний благопристойный сообразный частичный немедленный желаемый повышенный подобающее подобающий относительный презентабельный некоторый повсеместный требуемый долговременный ухоженный сопоставимый зримый обязательный кратчайший необходимый равномерный непозволительный благолепный глубокий душевный стопроцентный максимальный доказательный естественный пониженный вразумительный соответствующий общий высший особый постоянный однозначный приличный единообразный нужный ожидаемый надобный немыслимый полноценный божеский качественный благотворный конкурентоспособный небывалый приглядный удовлетворительный подобный всеобщий достаточный какой-никакой беспрецендентный безошибочный высочайший надлежащее мало-мальский беспрекословный четкий высокий низкий первозданный первоначальный завидный корректный абсолютный должного одинаковый элементарный порядок исключительный образцовый внятный пристойный тонус реальный справедливый адекватный наилучший разумный устойчивый положительный должной достойный безусловный неповторимый безукоризненный стабильный наивысший уважительный убедительный хороший благовидный полный нормальный прежний чрезвычайный запредельный первоклассный уровень приемлемый сносный законный кое-какой сногсшибательный великолепный необычайный невероятный превосходный непревзойденный безупречный отменный\n",
            "музей-заповедник гайд-парк дендропарк аллею дворец-музей нацпарк визит-центр цветник дендрологический пром-быт собор дворец сквер музей кинотеатр ботсад дендрарий горсад велотрек холм аттракционов скейт-парк зооботсад храм розарий завод заповедник диснейленд парков ипподром парк-памятник кампус саус лесопитомник двор луна-парк полисадник сафари-парк грин-парк парк-музей линкин амфитеатр театр мотодром стадион бульвар гольф-клуб спортгородок цирк зверинец каньон затюменский госфорд фан-парк центр-музей сад бют-шомон захарово-парк лесопарк океанариум ботанический экстрим-парк зоосад вокзал бизнес-парк парк садик спорткомплекс особняк таксомоторный велопарк пустырь ресторан экопарк парк-заповедник кейкенхоф технопарк дельфинарий кингз-каньон зоопарк университет озеровид лес мост филевский лумпини риджентс-парк гидропарк луг гольф-курорт город-парк кио динопарк каньонлендс паркпарк яхт-клуб аквацентр аэродром парк-отель спортцентр биопарк пруд озелененный пандапарк лесочек каток лугопарк сочи-парк тенистый супермаркет водоем автодром мини-сиам рынок живописный минирынок наташинский пейзаж дворик променад водопад озеро дримлэнд фонтан мини-зоопарк леголэнд мини-городок европа-парк городок автопарк бассейн зеленопарк аквапарк пляж двор-сад центр\n",
            "наливают подсыпать слить наливается налью выжрать разлить хряпнуть выпить нальем выльешь откупорить опорожнить опрокинуть разбрызгать нацедил прыснуть плеснуть испить попить заварить хлебнуть бухнуть поднести плеснув дать налейте прилить вылив пригубить подлейте сыпануть нальешь капнуть вскипятить наливаем намазать вычерпать нагреть влейте закапать долейте влить взболтнуть чашку побрызгать напиться налил сцедить нацедить накрыть напихать заправить вынуть засунуть залить плесните опустить вливаем наполнить глотнуть уложить насыпать взять всыпать плюхнуть поместить обмакнуть доливаем закинуть наклонить разогреть обмочить водички подогреть протереть отпивает перелить положить подмешать долить рюмку намочить накрошить стакан отпив смочить закипятить выложить смешать завернуть сбрызнуть ополоснуть отцедить размешать окунуть добавить\n",
            "маловероятно исключать обусловить исключено означать иметь предвосхищать возможно допустить ориентировать вряд предчувствовать предугадать предрекать планировать предвидеть гадать намереваться задумывать надеяться гипотетически домысливать допускать позволять базировать бытовать подтвердиться подразумевать учесть уповать прослеживать прогнозировать инициировать претендовать забывать рассчитывать отваживаться неясно расценивать недоверять говорить учитывать связывать предсказать опираться основываться приписывать догадаться игнорировать вероятно помнить гарантировать знать оговаривать сопоставлять осознавать существовать намекать воображать полагают следовало обещать угадывать полагаем отвергать пытаться ожидать думать предположение датировать ошибаться видеть заподозрить оспаривать отрицать отметать заблуждаться понимать свидетельствовать вычислять предположить моделировать вообразить опасаться очевидно предполагает заявлять подозревать сомневаться указывать экстраполировать причислять обсуждать заключить судить разрабатывать умозаключать сказать верить соотнести обнаружить усмотреть опровергать относить исходить считать констатировать детерминировать отождествлять идентифицировать понять усомниться интерпретировать признать утверждать заметить рассуждать толковать рассматривать определить уверять представить анализировать трактовать по-видимому характеризовать объяснить постулировать\n",
            "повысить предотвращение утончение выявление недопущение умаление поощрение задирание урезание смещение обогащение оседание получение вытеснение нивелирование достижение продвижение стабилизацию укрепление падение развитие сохранение стимулирование дальнейшее корректирование обретение оптимизацию переориентирование резкое минимизацию обеспечение повышения интенсификация сбалансирование вырабатывание упразднение вымывание размывание формирование восстановление 50-процентное десятикратное обесценивание укрупнение перераспределение сокращение удешевление рост активизация преумножение совершенствование снижающееся поднятие удержание нарушение обеднение разделение максимизацию двукратное снижение сужение ограничение ослабление усиление расширение упорядочение пополнение наращивание 1 уменьшения выравнивание внедрение ухудшение кратковременное скачкообразное увеличение удвоение усугубление облегчение взвинчивание поддержание постепенное учащение ускорение появление урежение регулирование прирост создание нормализацию улучшения существенное исчезновение упрощение удваивание ужесточение накопление незначительное замедление смягчение возобновление обострение прекращение изменение усложнение оживление нарастание пролонгирование возрастание\n",
            "поджидать распространять предупреждать подкарауливать охотиться искоренять препятствовать подстерегать обрушиваться обходить неистовствовать упорствовать пресекать проклинать выискивать скрываться разыскивать мстить преследовать устранять преследование выявлять донимать наказывать тревожить устрашать бичевать отыскивать обнаруживать сопровождать игнорировать изобличать выследить настигнуть настичь одолевать гонять оттеснять предавать замечать обезглавливать терзать отвращать соблазнять запугивать убегать отпугивать казнить поощрять призывать саботировать провоцировать лишить истреблять ликвидировать высмеивать дискредитировать разоблачать выгораживать обуревать пытаться штрафовать прикончить осуждать нападать пропагандировать домогаться притеснять преследует блокировать охранять теснить убить допрашивать сражать привлекать избивать ослеплять пугать шантажировать уничтожить подзадоривать обескураживать натравливать арестовать дразнить мучить ненавидеть интересовать добивать раздражать обманывать зверствовать таранить задержать ловить карать поражать оглушать подталкивать третировать останавливать защищать окутывать терроризировать вынудить гнобить науськивать опекать продолжать конвоировать громить расстреливать принуждать похищать обездвиживать атаковать уговаривать отпускать давить конфисковывать угнетать мутузить обезоруживать гнать изматывать нацеливать заставлять истязать разоружать наседать уводить обстреливать душить парализовывать удерживать захватывать насиловать\n",
            "упрек резонен мучавший задаваемый решаемый мучающий назревший вопрос-почему ответили задан тревожащий решён принципиальный важный логичный волновал закономерный напрашивающийся щепетильный задаю решен недоуменный задам решается резонный праздный наболевший неразрешимый волнует спор заданный животрепещущий подвопрос интересовавший невысказанный задавался волновавший засыпку архиважный почему обсуждался подковыркой глупый интересовал каверзный ответ отвечу неоднозначный дискутировался вопрос-предложение щекотливый сакраментальный решался немаловажный возник дебатировался дискуссионный вопрос-если отвечая запрос дискутируется очевидный задал назрел правомерный нюанс волнующий нерешенным решить дискутируемый дурацкий риторический встречный ответ-то ответить касающийся вопрοсец касаемый ответьте обсуждаемый спорный злободневный проблема насущный извечный вопрос уточняющий задать актуальный тезис аспект дилемму парадокс нет\n",
            "пикетируют митингуют сходку саммит активистов сход протестующих митинг голодовку митингующих демонстрантов плакатами съезд банкет пикет маршем нетунеядцев велодень антимайдан провластный несогласованный путинг стачку многотысячный протеста пикетировали гайд-парке протестовать брифинг гей-парад санкционированный манифестантов первомай акцию автомайдан шествие антипутинский антиоранжевый лозунгами референдум евромайдан манифестации многолюдный забастовку праздник воскресник парад молебен майдан антиправительственный митинг-реквием курултай велопарад митинг-концерт сабантуй демонстрацию велозаезд антифашистский велопробег рейд антикапитализм флешмоб кипеж прайд-парад субботник путч кипеш автопробег вечер-концерт антивоенный пикник бунт транспарант шабаш концерт погром марш манежке маскарад марш-парад перфоманс забастовочный рок-концерт мотопробег манежную штурм мотопарад болотную оккупайабай болотной\n",
            "засевай протаптывать засеет стяжать надрываться топтать выстрадать получать принести впахивать сеются взлелеять вытаптывать предрекать засевать перестрадать принося срубать приносить перепахать посеяно пропалывать пожиная подсевать растить благодетельствовать трудиться выедать отгрести сеешь высеивать залечивать попирать вызреют выкорчевывать облениться досадовать пахать пересиживать торжествовать недополучать вкалывать взрастили пожинает пожать предвосхищать возделывать взрыхлять запудривать лущить засучить пожнешь вынашивать срывать созреют потерпеть нести злорадствовать предвкушать воздавать созидать извлекать сулить околачивать растравлять посеял свершать посеет обдумывать отхватывать вкусить ликовать жатву сетовать сокрушаться упиваться наслаждаться выгребать взращивать вкушать собирать подсчитывать перемалывать колоситься сожалеть плоды барыши профукать лентяйничать нарабатывать сеяли плачевные прохлаждаться зарождать разгребать тешиться умножаться дожидаться посеявший прозябать лузгать безумствовать сеем культивировать сеет зализывать сеять истощать почивать накоплять ждать разгребаем расхлебывать разбрасывать настало радоваться расплачиваться проедать наживать приумножать накапливать расточать смаковать предаваться\n",
            "защитить расчистить отремонтировать спасти обновить выправить реставрировать подорвать поднять снести законсервировать отстоять оздоровить расшатать потерять вернув очистить скорректировать поправить залечить заблокировать освободить подтвердить освежить сбалансировать разрушить перестроить регенерировать завершить удержать реконструировать перекинуть зафиксировать сохранить воскресить реанимировать восстановлен оживить попытаться вылечить нарастить сберечь повысить перенести поддерживать продлить проверить упрочить разыскать исправить вернуть утраченные реабилитировать развить установить наладить уничтожить утерять стабилизировать запустить модернизировать утраченную подлатать улучшить пересоздать утерянные обрести найти ликвидировать возродить настроить убрать переписать выровнять воссоединить разобрать ослабить подтянуть отыскать аннулировать переделать удалить сформировать выстроить возвратить поменять закрепить урегулировать отключить заживить изменить выпрямить воспроизвести усовершенствовать увеличить нормализовать стереть построить пересмотреть перезагрузить создать усилить вывести обнулить восстанавливает преобразовать\n",
            "стараться засидеться оступаться зазнаваться начеку приходиться перестраховываться активизироваться концентрироваться баловаться замыкаться усердствовать лениться бдить задерживаться переутомляться осторожничать позволять останавливаться сосредоточиться психовать перетруждаться оттягиваться активничать куражиться обольщаться поддаваться надрываться напрягаться отсиживаться уединяться трудиться лентяйничать мобилизоваться бодриться геройствовать халявить заканчивать раскисать отрываться горячиться халтурить отрезвлять шевелиться раскрепощаться поторапливаться мешать сбавлять суетиться опаздывать беречься просыпаться бодрствовать уходить спешить огорчаться торопиться выматывать бездействовать тренироваться напиваться зевать завершать эмоционировать привыкать сидеть сдаваться дремать отвлекаться переставать объедаться нервничать сачковать дурачиться почивать скучать прекращать буйствовать филонить радоваться выспаться отпускать шалить расстраиваться двигаться бездельничать оздоравливаться терять покидать готовиться пугаться веселиться бухать дергаться удивляться раздумывать бояться разминаться передохнуть переохлаждаться киснуть валяться спать отдыхать тревожиться расслабиться завидовать кайфовать забывать опасаться переедать отчаиваться успокаивать прерывать волноваться медлить тосковать унывать думать отдохнуть шутить вставать присаживаться паниковать горевать релаксировать медитировать переживать беспокоиться отказывать печалиться грустить хандрить\n",
            "огласка просвещенность безопасность цитируемость известность протекция карьера награда благосостояние заслуга представительность завидная образованность влиятельность подноготная пузомерка ценность раскрученность клиентура именитость востребованность медийность конкуренция лестная шумиха успешность экспертность правота долговечность признанность информированность авторитет подмочена слава похвальба выгода популярность самореклама политика антиреклама прибыльность личная авторитетность неважная трастовость эрудиция честность респектабельность достойность сговорчивость статусность реноме солидность компрометация профессия успеваемость внешность наработанная упоминаемость престиж осведомленность результативность криминальность продаваемость реклама конкурентность чистота квалифицированность бизнес-структура легитимность привычка стабильность запятнана рейтинговая качественность узнаваемость удачливость скандальная ориентация эффективность мотивация хватка карма престижность сомнительная репутационный доверие физиономия подкованность позиция солидная уверенность одиозность конъюнктура сложившаяся отлаженность этика незапятнанность положительная благонадежность фигура хорошая лояльность самооценка компетенция плохая успешная квалификация значимость ненадежная нечестная стабильная амбиция хреновая элитность неудовлетворительная надежность харизма отменная имидж недобрая деловая красноречивость моральность конкурентноспособность привлекательность многолетняя подмоченной нормальная характеристика добросовестность положительность проверенная дурная скандальность скверная устойчивость аргументация дисциплина репутации компетентность репута исключительная традиция база атмосфера структура безукоризненная командность устоявшаяся незыблемая двусмысленная лидерская порядочность устойчивая безупречная отвратительная кредитоспособность собственная платежеспособность референтность\n",
            "открывать приоткрыть проникать запечатывать закрывать распространять затрагивать освещать предлагать углубляться оглашать обнародовать влезать расширять опускать узнавать озвучивать выпячивать выкладывать разрабатывать внедрять размещать создавать вываливать анонсировать выдавать доносить развивать формировать раскроет прослеживать устанавливать замалчивать постигать разглашать прикрывать погружаться уяснять публиковать темнить вытягивать вытаскивать выявлять накапливать реализовывать маскировать осмысливать конкретизировать расписывать сообщать сохранять обнажать прятать разоблачать приукрашивать изменять излагать утаивать пересказывать высвечивать раскрыть раскрыл разбирать раздувать подменять изучать передавать вникать выведывать обговаривать упоминать извлекать обрисовывать преподносить пропагандировать признавать очерчивать комментировать представлять осмыслять опровергать фиксировать совершенствовать выпытывать додумывать утаивая исследовать обсуждать демонстрировать рассекретить разъяснять показывать рассказывать рассматривать придумывать угадывать объяснять расшифровывать выбалтывать перечислять обнаруживать анализировать разгадывать определять разгласить намекать раскрывает размусоливать отображать вуалировать выяснять истолковывать ухватывать описывать улавливать\n",
            "аллейка дорогароссия живописная многополосная велотрасса стезя распутица трассовая эстакада расчищена километровая маршрутка набережно-печерская пролегающая дорогаплакаты рокадная четырехполосная грунтовка тропой тернистая прокладывалась подворотня велодорожка ухабами автомобильная лесовозная двухполосная дамба гонка гравийная раздолбанная встречка узкоколейка скатертью равнина утомительная дороги проторенная пузотерка труднопроходимая оградка попутка накатанная раскисшая канава петляет пешеходная поездка шоссейная щебеночная автотрасса шестиполосная объездная осударева протоптана скользкая мостовая караванная дорожная лесополоса обочина гондольная обводная автобан болотина одноколейная военно-грузинская узкая вымощенная пролегала ухабистая трасса улочка долгая езда переправа канатная двухколейная путь-дорожка петляющая стоянка автодорога ветка арка торная людная неширокая ровная тропинки прогулка заснежена утоптанная земля граница лестница яма широченная проселочная каменистая машина наезженная петляла фонтанская отсыпана магистраль обледенелая железная колея извилистая неблизкая канатка долина бетонка длинная щебёнка автострада столбовая тропа лыжня безлюдная поляна дорожка просека асфальтированная прямая развилка аллея пустынная полоса речка дальняя\n",
            "срезанный клубень прорастающий плод корневую зри пророс бутон кустик куст зрят имбирь проросший отросток выкорчевать корешок зуб зачаток солодкового зарыт коготь цветок словообразующий вросший узловатый дикорастущий лакричник марьин двудомный фалик корнеплод бобовник дудник листик папоротник ясенец желудь зришь мандрагоры кудзу шишковатый деревянистый лепесток можжевельник корневища лакричный каштан солодковый сорняк причинный венерин сельдерей имбирный корня купены корней бобок почечуйный боярышник -рос- черешковый ужовник женьшеня жостер ствол плакун орех солодки квадратный ипекакуаны стручковый семя стержневой чудодейственный обломанный адамов засохший стебель животворный индоевропейский стебелек гвоздичный окопника валерианы дягиля черешок маралий копеечник колючий кончик мясистый чернокорень radix пень имбирякорень горький четырехлистный клубневидный левзея перец стержень алкалоид корень аира купырь обрубленный первообразный молочай шлемника мордовник знаменатель рень прутняк жгучий бедренец обрубок любисток пятилистник петрушки дурнишник овсяный отвар трехчлена пырей калгана алтей лопуха козлобородник мыльнянки грыжник кровохлебки петрушкикорень корни суффикс подкоренное одуванчика девясила переступня золототысячник интерфикс двучлен валерианыкорень татарник дискриминант алтея сомножитель репешок\n",
            "дисплеем 5 9 3 4 superamoled retina-дисплей жкд потолок корпуснедостатки amoled-дисплей fullhd-разрешением жк-индикатор айпэда жидкокристаллический e-ink 17-дюймовый пятидюймовый экраннедостатки tft-экран видоискатель сенсорный дисплей корпус экрановдобавить теплозащитный четырехдюймовый проецируемый подсвечиваемый веб-экран монохромный touchscreen динамик смартфон светопрозрачный тачпад ноутбук мини-планшет планшет иллюминатор стилус фокусировочный android-планшет сенсор oled-экран гаджет самсунге высококонтрастный компьютер феррит самсунговский элт-монитор коммуникатор автояркости lcd-монитор амолед ips-экран lcd тачскрин телеэкран медиафасад бумагоподобный цветной пиксель жк-экран бликующий моник ips-монитор мультимедиа-проектор пол-экрана видеомонитор экранчик android-коммуникатор проекционный топкейс телевизор екран ноут amoled телефон экрана флип-чехол видеофайл монитора видеопроектор видеоэкран киноэкран джойстик курсор проектор кинопроектор прогресс-бар черно-белый screen кинескоп локскрин телек икран\n",
            "закрытый важный приоритетный важнейший архиважный значимый открытый публичный контентный небесплатный специализированный тематический существенный серьезный обширный законченный централизованный крупный вводный сопроводительный обязательный редкий малополезный сложносочиненный этот непосредственный импровизированный дополнительный внутренний специальный своеобразный разнородный один полуподвальный живописный конкретный пространный единственный совместный вставочный узкий полноценный вышеперечисленный содержательный определенный особенный сложный персональный центральный изолированный уникальнейший сдвоенный временный неприбыльный выделенный огромный обзорный промежуточный полномасштабный интереснейший вспомогательный соответствующий целый объемный маленький каждый одиночный знаковый второстепенный элитный глобальный самоценный единый особый фирменный свой общедоступный первый служебный подобный приличный параллельный многостраничный собственный длиннющий крохотный малозначимый виртуальный детальный конкретизированный целостный коммерческий специфичный отличительный факультативный символический какой-нибудь банальнейший общий разделенный приватный неделимый самостоятельный уникальный небезынтересный комплексный единичный своеобычный одноимённый секретный нормальный исключительный малозначительный любопытный объединенный эксклюзивный резервный микроскопический самодостаточный командный простейший неповторимый коллективный экзотический интересный общесистемный спорный чудесный двухуровневый новый крошечный занятный какой-то небольшой специфический отличный непонятный неразрывный шикарнейший обычный стандартный замечательный длинный-предлинный шикарный индивидуальный авторский нераздельный частный некий простенький восхитительный оригинальный альтернативный произвольный нетривиальный автономный целиковый независимый отдельно\n",
            "планировка профилировка моделировка регламентированная характеристика компоновка бочкообразная патология эстетика позиция стилистика грушевидная иерархия конструкция правильная концепция ориентация характерная миндалевидная морфология своеобразная конфигурация классификация специфика консистенция культура тактика трапецевидная типология стратегия система функция дозировка индивидуальная геометрия промежуточная оптимальная трактовка полнота компоновочная тема проформа логика ромбовидная тематика оболочка окраска вычурная формация норма дугообразная метафора структура коническая формальная философия предпочтительная шарообразная сфера каплевидная стадия формой манера пирамидальная формулировка микроструктура заочная традиционная пропорция обтекаемая особая закругленная длина приплюснутая идея эффективная риторическая геометрическая организация технология бесформенность типовая симметрия поза сферическая траектория унифицированная идеальная заполняемая эмблема конусовидная строфическая методология усложненная функционализация парадигма листовидная модификация сущность функциональная фактура условная формочка интерпретация база схема версия идеология овальная расцветка усеченная архаичная квадратная форма круглая цилиндрическая удобная основа продолговатая форму формаформа замысловатая индивидуализированная утвердительная исходная униформа фигура прямоугольная методика классическая организационно-правовая стандартная линейная абстрактная плоская треугольная величина практика многоугольная имитация примитивная мультиформа форме комбинация яйцеобразная элементарная текстура абстракция модель вытянутая оригинальная копия упрощенная простейшая волнообразная формы субстанция произвольная разновидность вариация\n",
            "подравнивать мыть подстригать мазать обмазываться одеваться ходить налысо косить красить гримироваться помазком обмывать закалывать стричь эякулировать мойтесь прихорашиваться бреем скоблить бреешь моюсь пудриться сбривали выщипывать лысеть мыться стригся колоться лысо расчесывать загорать смывать протирать натирать наголо эпилировать дрочить драить бреют сбрив креститься онанировать бреюсь распаривать ополаскивать бреетесь эпиляцию вытерать отращивать побрила помазок выстригать щетину ополоснуться чесать сбрил мылся умываться мастурбировать вычесывать электробритва наглаживать бороды раздеваться намыливать бритвой бреет выбрит небритость вытираться бритвенный бритья эпилятор бритвы\n",
            "поступающий толчок звонок месседж стоп информирующий излучаемый слышимый стоп-сигнал предупреждающий выкрик посыл ложный доп щелчок сигналить оклик подсказывающий яркостный стимул оповещатель извещающий шумоподавитель стереосигнал срабатывающий передаваемый излученный оповещающий отбой предостерегающий сигнализировать свч-сигнала сигнализирует зондирующий р исходящий крик клаксон джиттер сделкасигнал запаздывающий раздражитель видеосигнала узкополосный стробирующий демодулятор вызов gps-сигнала тревожный призыв пороговый детектируемый аудиопоток синфазный вопль шум п-контур спецсигнал посылаемый усилитель эхо-сигнала звук позыв синхроимпульсов декодер аудиоканал импульс строб бипер видеоусилитель интернет-сигнала пьезоизлучатель индицирующий радиотракт синхросигнал писк передатчика квадратурный сигнализационный таймерный трансмиттер триггер помехоустойчивый телеметрический знак высокочастотный свист кодированный зуммер двухтоновый датчик токовый радиодиапазон помехи гудок звуковой аларм двухтональный всплеск рефлекс маяковый радиосигнала модулируемый радиоблок пилот-сигнал маячок сигнала пульт признак модулирующий пеленг коррелятор приемопередатчик радиоимпульс луч синусоидальный приемник тревоги индикатор сигнализатор скремблер аналоговый\n",
            "незаметный сильный резкий опасный неостановимый незначительный внезапный малозаметный шумный постепенный кратковременный скорый скачкообразный трудный слабый серьезный плавный мучительный тихий малопродуктивный бурный громкий стремительный спонтанный хаотичный бесшумный тяжелый моментальный болезненный обильный взрывообразный техничный ускоренный агрессивный откровенный неуверенный неровный быстротечный замедляющийся бездумный неуклонный монотонный молниеносный неотвратимый извилистый повсеместный беспорядочный предсказуемый яростный несмелый быстрый осторожный прерывистый бессмысленный мощный легкий одномоментный естественный отрывистый мгновенный частый нудный скоротечный грубый ускоряющийся неумолимый жесткий ежесекундный глубокий низкий спокойный сложный интенсивный эффективный энергичный вялотекущий комфортный ранний бесцельный устойчивый непрекращающийся проворный безостановочный мягкий странный размеренный маломощный массивный бестолковый равномерный прямолинейный муторный слабенький долгий длительный затрудненный беззвучный зигзагообразный нежный примитивный неповоротливый дешевый утомительный тонкий продолжительный плотный маленький невысокий ресурсоемкий обычный динамичный красивый вялый веселый слабоватый последовательный энергоемкий ритмичный изящный непрерывный горячий медленную темповый неспешный цикличный резвый энергозатратный тягучий хороший удобный качественный неуклюжий ненадежный неразборчивый корявый бешеный медленная бесконечный медленный глючный экономичный живенький беспроблемный ненапряженный шустрый нормальный медленное коротковатый жестковатый сверхбыстрый неторопливый длинный однообразный тормознутый\n",
            "ароматизировать смолить выветривать распивать наливать нюхаешь выкуривать прокалывать выпаривать доставать закапывать высушивать курить нанюхаться отведывать анашу сушить впрыскивать дымить осязать разбрызгивать подносить пачкать свинячить трогать заталкивать дегустировать обонять вдувать вонять вдыхать пить подбрасывать душиться дышать засасывать нюхай пшикать срать впитывать разводить пукать нюхнуть нюхач распылять бодяжить ковырять жечь благоухать мочить вынюхивать нюхать стряхивать слюнявить брызгать пихать прикасаться какать разглядывать хлюпать обожать испражняться созерцать окунать лапать намазывать пахнуть хлебать оттирать отрыгивать засовывать дрочить трескать пожимать обнюхивать нюхал принюхиваться дристать глотать разбрасывать нюхая кушать вытирать фыркать колоться ощупывать нюхательный натирать онанировать топтать чавкать тыкать рвать подсовывать поедать облизнуть гадить вылизывать проглатывать хавать выплюнуть выплевывать лобызать причмокивать пробовать сосать жрать тереть покусывать облизывать смаковать чмокать лизать обнимать блевать почесывать целовать щипать перебирать жевать чесать надкусывать грызть тискать\n",
            "скорострельность поворачиваемость пропускаемость поворотливость извилистость 100кмч проходимость приемистость шумность тяговооруженность прямолинейность растекаемость управляемость обтекаемость пробиваемость изнашиваемость экономичность открываемость энергоемкость грузоподъемность жесткость производительность вязкость проворность восстанавливаемость крейсерская макс дальнобойность высотность тяговитость маневренность низкость цепкость инерционность бронебойность резвость мореходность быстроходность мин глубина летучесть энергозатратность плавность контролируемость информативность величина тихоходность безопасность продуктивность эффективность свободность ресурсоемкость убойность техничность наблюдаемость сила длина инерция мощность сκорοсть удобность бесперебойность подвижность загруженность неспешность максимальная ускорение прыткость прогрессивность медленность ловкость молниеносность массовость малозаметность концентрация безошибочность интенсивность невысота стремительность доступность точность продолжительность плотность результативность ритмичность быстрота гибкость координированность стоимость легкость мобильность прицельность сверхзвуковая качественность динамичность увлекательность яркость бережность синхронность устойчивость масштабируемость автоматичность частота температура беспрерывность дистанция шустрость сложность функциональность оперативность дальность стабильность выносливость громкость траекторию темп широкополосность концентрированность мгновенность скорость суперскорость размерность черепашья быстродействие интуитивность прыть локальность мощь надежность активность электрическаяскорость\n",
            "коряга тачка хворостина затрещина железка деревяшка фанерка катуха веточка мелкашка гирька алебарда толстенная терпелка пеньковая дощечка катана свайка воткнутая палку рука-то щепочка вершинка сломанная маховая одноногая трость полуметровая свинчатка винтовка подпорка жердочка подвешенная палкой метла кормушка стрела бечевка здоровенная кувалда тонфа распорка оглобля поводковая селфи-палка тетива пешня жердь лапша тяжеленная 5-метровая сарделька мутовка штуковина зубочистка палка-копалка сорожка согнутая мотыга тросточка двуногая пилка кирка лайтовая связка шипастая поролонка вилка клюшка вешка фомка струна соломка деревянная катушка разборная фиговина сосулька хлыст булка дубина палки плеть трёхгранная увесистая заостренная дудка крестовина палке веревка проволочка плетка лыжа кочерга удочка нагайка трубка самодельная указка штанга табуретка тренога бамбуковая тряпка раздвоенная штучка рогатина скамейка зазубрина гиря загнутая рогулька шпажка прищепка скамья секира сабля хлыстика гимнастическая колотушка морковка лопата разножка длинная арбалетная двуручная скакалка балалайка рукоятка ухватка шляпа цепка монетка багра наживка колючка палочка палица рукоять посох ручка игрушка двузубая держалка гантелька тряпочная кисточка скобочка швабра миска перчатка ухватистая эбонитовая пружинистая рогатка булава оттяжка мочалка одноручная чесалка шлепалка\n",
            "размягчить нарастить укрепить заузить подклеить скорректировать укоротить срезать отогнуть оздоровить переломать разжать оживить выправить ослабить сдвинуть деформировать спилить надломить вылечить отрастить намотать развинтить перетянуть склеить рассоединить изломать сместить поправить перекинуть починить исправить переместить сломать запрокинуть отрихтовать осветлить высушить сточить покрасить разгибать стесать отломать отпилить сошлифовать восстановить переделать отодвинуть отдавить поднять сплющить сжать видоизменить растянуть удлинить выгибать выдрать обточить обрезать скрутить поджать раздвинуть вытянуть убрать расслабить подтянуть вывернуть накренить переупрямить перекрасить намочить профилировать подстричь сгибая выпрямить подкрутить выстричь выровнять сцепить наклонить опустить изуродовать выщипать согнуть промассировать расчесать разгладить разогните причесать сгибать выгибал пригладить разогнуть повернуть отмасштабировать перевернуть распрямляет закруглить распрямить искривлять завить отпарить согнув взъерошить растопырить\n",
            "злорадствовать протестовать негодовать возмущаться толкаться кричать дружиться лаяться шуметь наглеть свинячить горячиться пикироваться отговариваться встревать жаловаться срываться хитрить наезжать гнобить хвалить причитать оскорблять враждовать ехидничать косячить оправдываться извиняться драться унижаться выделываться дебоширить дерзить распинаться насмехаться собачиться бузить сплетничать позориться хулиганить вопить огрызаться фыркать критиковать плеваться грубить хаять язвить бычить безобразничать умничать беситься пошлить перебивать выпендриваться рявкать орать мирить базарить шикать молчать скандалить любезничать шпынять терпеть брюзжать дискуссировать ругайтесь стыдить конфликтовать покрикивать стебаться раздражаться издеваться истерить ругаться психовать трепаться возражать ссориться визжать хамить ругались говорить бодаться упрекать обзывать проклинать переглядываться буянить хныкать распекать спорить реветь заигрывать лебезить обидиться расшаркиваться общаться эмоционировать посмеиваться кокетничать нервничать трындеть кусаться ржать подшучивать гневаться чертыхаться плакать коситься флиртовать матюкаться ругаюсь материться сквернословить прикалываться болтать спрашивать злиться отчитывать дуться бранить ныть серчать подтрунивать игнорить сюсюкать нудеть сердиться смеяться отнекиваться бурчать хихикать выяснять разговаривать подкалывать придираться ревновать шутить тупить ругался хохотать капризничать\n",
            "буксироваться лазить ездить ходить-то закапываться дышать учиться нереститься швартоваться топить охотиться сплавляться прогуливаться ходить переплавляться закаляться фехтовать заплывать гулять гонять бегать проплыть бродить лавировать дефилировать мочиться пиратствовать сигать брызгаться путешествовать утонуть разгуливать кататься выпрыгивать утопиться подныривать тренироваться болтаться отдыхать поплывете причаливать мыться обтираться сидеть вычерпывать плыть летать двигаться грести ползать глиссировать маневрировать обливаться вылавливать петь погружаться нырять рисовать опреснять мелководье наплаваться ополаскиваться обсыхать жонглировать развлекаться брасом стрелять крейсировать растворяться бассейне скользить плюхаться заныривать резвиться переворачиваться умываться рыбачить загорать кувыркаться бултыхались барахтаться выныривать валяться перекатываться скакать лягушатнике ловить прыгать плавать покачиваться булькать плавал дрейфовать купаться танцевать бултыхаться ныряния акваланге плескаться воде отмокать плавания плаваешь\n",
            "общественное телереклама общенациональное телеэкране телестанций интернет-вещание прессу интернет-сми телефонное радиоточку телестудию теле-шоу кинооборудование тв-каналам киноиндустрию онлайновое вещается искусство книгоиздание телеви здравоохранение транслировало общество кинопромышленность пиар-агентство медийное ток-шоу телекомпании интернет-телевидение интернет-пространство транслируемое информационное многосерийное клиповое чиновничество радиоэфир телевидения кинопроизводство телесеть медиапространство телевидениеспутниковое вещательное теле-радио вещающее телецентр новостное радиолюбительство кино радиовещания правительство вездесущее дигитальное шоу-бизнес телеэфир медиасообщество интерактивное многоканальное интернет-телеканал телевизор онлайн-телевидение российское масс-медиа радио вещало вещания телекоммуникационное телек авторадио информагенство телерадиоцентр телесмотрение журналистика кабельное интернет спутниковое телеканал телесигнал телеящик киноведение телефонию оптоволокно цифровое агентство television тв-проекты нтв кинематограф зомбоящик радиоканалы информационно-развлекательное телевизионный тv аналоговое prim киноканал тв- тв\n",
            "обструкция нежелательная перестраховка утечка радиация грозившая угрожавшая компрометация неприятность недобровольная опасности подстерегающая грозила опасная грозящая непредвиденная преднамеренная угрожала радикализация упреждающая губительная нависла пощечина издевка насмешка возможная инфекция неизбежная тревога дезинформация нависшая враждебная недружественная демонизация дискриминация сокрушительная маргинализация преграда злонамеренная страшная необоснованная польза тайная защита разрушительная тревожная аномалия небезопасность серьезная причина профилактика неконтролируемая неприемлемая затрещина немедленная лазейка грозная риск паранойя угрожающая уязвимость неправомерная угрожает отговорка сила явная неприкрытая спасительная катастрофа вероятная агрессивность бесконтрольная фатальная парализация безосновательная безотлагательная потенциальная конфронтация очевидная диверсия гибельная первопричина умышленная изоляция угрозой трагедия нарастающая альтернатива боязнь провокация апокалиптическая наркотизация проблема угрожающей неминуемая гипотетическая подлянка коррупция санкция катастрофическая смертельная самоизоляция вражда превенция необходимость перспектива ситуация надвигающаяся неотвратимая вероятность дестабилизация страшилка самозащита эпидемия пандемия разрушительность паника преждевременность преднамеренность гегемония эскалация враждебность блокада атака стратегия милитаризация безусловная глобальная криминализация кризисная ловушка дыра измена дезинтеграция незащищенность кибервойна реальная угрозы иллюзия смертоносность умышленность пугалка геополитическая агрессия тенденция война неминуемость неприемлемость долларизация безработица призрачная неизбежность предпосылка неотвратимость волна\n",
            "многодневку онлайн-конкурс турами суперфинал тез телеконкурс гала-концерт конкурс паломнический туром гастрольный интернет-конкурс семинар многодневный концерт мини-тур турный рок-фест финальный tour велопоход туров этап полуфинал йога-тур буковель поход блог-тур фестиваль автобусный шоп-тур автоквест видеотур гран-тур билет мини-отпуск четырехдневный 2-дневный тур велотур чемпионат турпродукт фест викенд туристик уик-энд однодневный контест маршрут турфирме вояж видеоконкурс физкуль проект-альбом куль промо-тур евротур турнир туруслуги бизнес-туры фототур мосинтур велозаезд чартерный туристический отпуск заезд турыэкскурсионныйотдых авиаперелет трип туроператоров джиппинг отборочный туровтуры стадионный турпоход отдых dsbw глобус-тур ски-тур экскурсии туркомплекс поездки трасфер чартер дивизион турпакеты долларспортбилетыфутболбилет курорт круиз рафтинг турагентство аккорд-тур арт-тур франс каньонинг авиатуры путешествие vip-туры анекс орион-интур суперматч матч отельэтот отель dsbwрасчет путевки отдыхтуры раунд туризмотдых 03-й автотур туризмтуры тайм\n",
            "препятствовать осквернять нарушены устраивать заставлять поддерживать провоцировать вписываться мешать срывать перечеркивать позволять перегораживать попирать оскорблять повышать соблюсти переступать усугублять допускать конфликтовать пресекать нарушил завышать соблюдать испортить обижать восстановлять обострять щадить извращать снижать ломать загрязнять обходить расшатывать сохранять ослаблять придерживаться затруднять чтить затрагивать игнорировать усиливать нарушу нормализовывать повреждать регламентировать запрещать ущемлять останавливать ухудшить ограничивать потревожить трогать улучшать обязывать посягать соблюдающего притеснять искажать уважать менять подрывать вторгаться нарушает противоречить контролировать навязывать прерывать вмешиваться прекращать выполнять диктовать возмущать саботировать усложнять исполнять нарушившего ужесточать нарушающие\n",
            "пришлют спешить торопиться забирать поторапливаться заказывать ждут задерживаться рассчитывать ждите обнадеживать жди суетиться подожду добиваться вызванивать подождать мурыжить покупать караулить тянуть ждёшь ждущих расстраиваться ждём просить нетерпением приходиться высматривать медлить выпрашивать дождаться рыпаться делать довозить томиться ждем ждать-то обещать волноваться надеяться отсиживаться требовать напрягаться топать придется догонять ожидающих искать уповать ждать предвкушать ждёт ждавших нервничать бездействовать опасаться уговаривать дожидаясь терпеливо бояться ожидавшие переживать дождусь пугаться ожидании куковать терпеть гадать мучиться топтаться дождавшись прождал думать горевать ждали дождемся ждешь ждет раздумывать простаивать ожидал стоять ждали-ждали ожидающего сомневаться сидеть ждав долго офигевать доооолго\n",
            "дозировать переживать оценивать калькулировать выискивать уравновешивать откидывать разгружать контролировать измерять подстраховываться отслеживать фиксировать отмеривать выгружать выносить выставлять измельчать отделять перемалывать увязывать сравнивать подсчитывать сверять сопоставлять усреднять протоколировать выверять определять собирать упорядочивать таскать взвешены анализировать согласовывать рассовывать выбирать соотносить сбрасывать сортировать высчитывать калибровать обвешивать перестраховывать проверять разламывать уминать взвесьте ощупывать весы вынимать решать перекладывать принимать осмыслять взвесить вычислять раскармливать фасовать высматривать подгонять мерить интерпретировать безменом готовить нести переворачивать покупать осмысливать угадывать оспаривать рассуждать обсуждать взвешивать трактовать рассматривать отвергать взвешу размешивать толковать суммировать обосновывать разбирать прикидывать взвешивания пересыпать ухватывать пробовать умножать смешивать упаковывать собирать-разбирать взвесив перебирать примеривать брать ловить встряхивать складывать обдумывать декларировать\n"
          ]
        }
      ]
    },
    {
      "cell_type": "code",
      "source": [
        "ru_substitutor._save_substitutes(\n",
        "    ru_substitutes, \n",
        "    lang='ru',\n",
        "    save_dir=subst_folder,\n",
        "    filename='ru_substitutes_dummy.json'\n",
        ")"
      ],
      "metadata": {
        "id": "dOx55AFuf4-a"
      },
      "execution_count": 122,
      "outputs": []
    },
    {
      "cell_type": "code",
      "source": [
        "ru_substitutor = FasttextSubstituteGenerator(dataset_2010, ru_model, subst_lang='ru', path_to_align_matrix=ru_matrix_path, context_retriever='pos_excluding')\n",
        "ru_substitutor._read_context_embs(pos_context_emb_p)\n",
        "ru_substitutes = ru_substitutor.generate(translated_targets=fix_ru_translations)\n",
        "ru_substitutor._save_substitutes(\n",
        "    ru_substitutes, \n",
        "    lang='ru',\n",
        "    save_dir=subst_folder,\n",
        "    filename='ru_substitutes_pos.json'\n",
        ")"
      ],
      "metadata": {
        "colab": {
          "base_uri": "https://localhost:8080/"
        },
        "outputId": "37dbfbfe-e925-47ed-9469-f3fedb68ebe5",
        "id": "rZm451AAf4-a"
      },
      "execution_count": 123,
      "outputs": [
        {
          "output_type": "stream",
          "name": "stderr",
          "text": [
            "100%|██████████| 100/100 [04:49<00:00,  2.89s/it]\n"
          ]
        }
      ]
    },
    {
      "cell_type": "code",
      "source": [
        "# удаляем переменные и файл \n",
        "\n",
        "del ru_model\n",
        "del ru_substitutes\n",
        "del ru_substitutor\n",
        "open('./fasttext_models/cc.ru.300.bin', 'w').close()\n",
        "%rm ./fasttext_models/cc.ru.300.bin"
      ],
      "metadata": {
        "id": "gLnAYVx3f4-b"
      },
      "execution_count": 124,
      "outputs": []
    },
    {
      "cell_type": "code",
      "source": [
        "gc.collect()"
      ],
      "metadata": {
        "colab": {
          "base_uri": "https://localhost:8080/"
        },
        "id": "WQD7YcLCf4-b",
        "outputId": "8bc64250-f036-4f55-cdf2-7ad8317697a9"
      },
      "execution_count": 125,
      "outputs": [
        {
          "output_type": "execute_result",
          "data": {
            "text/plain": [
              "27925"
            ]
          },
          "metadata": {},
          "execution_count": 125
        }
      ]
    },
    {
      "cell_type": "markdown",
      "metadata": {
        "id": "hoz-ePZRSUD1"
      },
      "source": [
        "# Кластеризация"
      ]
    },
    {
      "cell_type": "code",
      "execution_count": null,
      "metadata": {
        "colab": {
          "base_uri": "https://localhost:8080/"
        },
        "id": "33Hiq-Lh1V7N",
        "outputId": "7e6f6973-3233-4019-ae97-6f4f7b927ef4"
      },
      "outputs": [
        {
          "data": {
            "text/plain": [
              "<module 'lexsubgen.clusterizer' from '/content/gdrive/MyDrive/3_year/WSI/lexsubgen/clusterizer.py'>"
            ]
          },
          "execution_count": 103,
          "metadata": {},
          "output_type": "execute_result"
        }
      ],
      "source": [
        "importlib.reload(sys.modules['lexsubgen.clusterizer'])"
      ]
    },
    {
      "cell_type": "code",
      "execution_count": null,
      "metadata": {
        "id": "7b7gLVKkSVjI"
      },
      "outputs": [],
      "source": [
        "from lexsubgen.clusterizer import SubstituteClusterizer"
      ]
    },
    {
      "cell_type": "code",
      "execution_count": null,
      "metadata": {
        "id": "7WT-hkF1SeG8"
      },
      "outputs": [],
      "source": [
        "clust = SubstituteClusterizer(n_clusters='maxsil=range(2, 10)')"
      ]
    },
    {
      "cell_type": "code",
      "execution_count": null,
      "metadata": {
        "colab": {
          "base_uri": "https://localhost:8080/"
        },
        "id": "u_wepZcR187J",
        "outputId": "7b6dbfb4-2af8-439e-cb13-3f87a681adfd"
      },
      "outputs": [
        {
          "data": {
            "text/plain": [
              "[PosixPath('/content/gdrive/MyDrive/3_year/WSI/semeval-2010/substitutes/fr_substitutes.json'),\n",
              " PosixPath('/content/gdrive/MyDrive/3_year/WSI/semeval-2010/substitutes/es_substitutes.json'),\n",
              " PosixPath('/content/gdrive/MyDrive/3_year/WSI/semeval-2010/substitutes/de_substitutes.json'),\n",
              " PosixPath('/content/gdrive/MyDrive/3_year/WSI/semeval-2010/substitutes/ru_substitutes.json'),\n",
              " PosixPath('/content/gdrive/MyDrive/3_year/WSI/semeval-2010/substitutes/eng_substitutes.json')]"
            ]
          },
          "execution_count": 88,
          "metadata": {},
          "output_type": "execute_result"
        }
      ],
      "source": [
        "subst_folder = '/content/gdrive/MyDrive/3_year/WSI/semeval-2010/substitutes'\n",
        "lang_substitutes = [f.absolute() for f in Path(subst_folder).iterdir()]\n",
        "lang_substitutes"
      ]
    },
    {
      "cell_type": "code",
      "execution_count": null,
      "metadata": {
        "colab": {
          "base_uri": "https://localhost:8080/"
        },
        "id": "DGST-6lE6U-c",
        "outputId": "3405ba09-3904-4d12-9be1-d1b2f9d65c4e"
      },
      "outputs": [
        {
          "data": {
            "text/plain": [
              "PosixPath('/content/gdrive/MyDrive/3_year/WSI/semeval-2010/clusterization')"
            ]
          },
          "execution_count": 8,
          "metadata": {},
          "output_type": "execute_result"
        }
      ],
      "source": [
        "clust_folder = Path('./semeval-2010/clusterization').resolve()\n",
        "clust_folder"
      ]
    },
    {
      "cell_type": "code",
      "execution_count": null,
      "metadata": {
        "colab": {
          "base_uri": "https://localhost:8080/"
        },
        "id": "Lmq_s1IL6lWG",
        "outputId": "6a190c2f-a3ca-4698-87ae-6199c9079a7d"
      },
      "outputs": [
        {
          "data": {
            "text/plain": [
              "PosixPath('/content/gdrive/MyDrive/3_year/WSI/semeval-2010/clusterization/clusterization.json')"
            ]
          },
          "execution_count": 106,
          "metadata": {},
          "output_type": "execute_result"
        }
      ],
      "source": [
        "clust_res = clust.cluster_all(lang_substitutes, n_subst=5)\n",
        "clust._save_clusterization(clust_res, clust_folder)"
      ]
    },
    {
      "cell_type": "markdown",
      "metadata": {
        "id": "EFCxv_fue7M5"
      },
      "source": [
        "# Подсчет метрик"
      ]
    },
    {
      "cell_type": "code",
      "execution_count": null,
      "metadata": {
        "id": "HNOsibOWu0Ok"
      },
      "outputs": [],
      "source": [
        "importlib.reload(sys.modules['lexsubgen.evaluation'])"
      ]
    },
    {
      "cell_type": "code",
      "execution_count": null,
      "metadata": {
        "id": "QhShtg2Zte1U"
      },
      "outputs": [],
      "source": [
        "from lexsubgen.evaluation import WSIEvaluator"
      ]
    },
    {
      "cell_type": "code",
      "execution_count": null,
      "metadata": {
        "id": "Bq060YjQtr2d"
      },
      "outputs": [],
      "source": [
        "eval = WSIEvaluator(dataset=dataset_2010,\n",
        "                    clust_res_path='/content/gdrive/MyDrive/3_year/WSI/semeval-2010/clusterization/clusterization.json',\n",
        "                    semeval_data_path='/content/gdrive/MyDrive/3_year/WSI/semeval-2010')"
      ]
    },
    {
      "cell_type": "code",
      "execution_count": null,
      "metadata": {
        "colab": {
          "base_uri": "https://localhost:8080/",
          "height": 441
        },
        "id": "O6XittUtuCxf",
        "outputId": "e57a1dc4-d634-47ed-bc4b-28d78422ea14"
      },
      "outputs": [
        {
          "name": "stdout",
          "output_type": "stream",
          "text": [
            "fscore\tprecision\trecall\tvmeasure\thomogenity\\completness\n"
          ]
        },
        {
          "data": {
            "text/html": [
              "\n",
              "  <div id=\"df-b1fddea2-0739-4224-b1ae-f8b11daa19fb\">\n",
              "    <div class=\"colab-df-container\">\n",
              "      <div>\n",
              "<style scoped>\n",
              "    .dataframe tbody tr th:only-of-type {\n",
              "        vertical-align: middle;\n",
              "    }\n",
              "\n",
              "    .dataframe tbody tr th {\n",
              "        vertical-align: top;\n",
              "    }\n",
              "\n",
              "    .dataframe thead th {\n",
              "        text-align: right;\n",
              "    }\n",
              "</style>\n",
              "<table border=\"1\" class=\"dataframe\">\n",
              "  <thead>\n",
              "    <tr style=\"text-align: right;\">\n",
              "      <th></th>\n",
              "      <th>fscore</th>\n",
              "      <th>precision</th>\n",
              "      <th>recall</th>\n",
              "      <th>vmeasure</th>\n",
              "      <th>homogenity</th>\n",
              "      <th>completeness</th>\n",
              "      <th>(fs * vm) ** 0.5</th>\n",
              "    </tr>\n",
              "  </thead>\n",
              "  <tbody>\n",
              "    <tr>\n",
              "      <th>threat.n</th>\n",
              "      <td>63.3</td>\n",
              "      <td>91.1</td>\n",
              "      <td>48.6</td>\n",
              "      <td>3.2</td>\n",
              "      <td>10.2</td>\n",
              "      <td>1.9</td>\n",
              "      <td>14.232357</td>\n",
              "    </tr>\n",
              "    <tr>\n",
              "      <th>address.n</th>\n",
              "      <td>57.6</td>\n",
              "      <td>98.1</td>\n",
              "      <td>40.7</td>\n",
              "      <td>8.3</td>\n",
              "      <td>41.2</td>\n",
              "      <td>4.6</td>\n",
              "      <td>21.865041</td>\n",
              "    </tr>\n",
              "    <tr>\n",
              "      <th>camp.n</th>\n",
              "      <td>55.6</td>\n",
              "      <td>95.1</td>\n",
              "      <td>39.2</td>\n",
              "      <td>6.3</td>\n",
              "      <td>27.5</td>\n",
              "      <td>3.5</td>\n",
              "      <td>18.715769</td>\n",
              "    </tr>\n",
              "    <tr>\n",
              "      <th>innovation.n</th>\n",
              "      <td>66.2</td>\n",
              "      <td>92.8</td>\n",
              "      <td>51.5</td>\n",
              "      <td>3.5</td>\n",
              "      <td>10.3</td>\n",
              "      <td>2.1</td>\n",
              "      <td>15.221695</td>\n",
              "    </tr>\n",
              "    <tr>\n",
              "      <th>mind.n</th>\n",
              "      <td>38.1</td>\n",
              "      <td>95.5</td>\n",
              "      <td>23.8</td>\n",
              "      <td>3.4</td>\n",
              "      <td>23.2</td>\n",
              "      <td>1.8</td>\n",
              "      <td>11.381564</td>\n",
              "    </tr>\n",
              "    <tr>\n",
              "      <th>...</th>\n",
              "      <td>...</td>\n",
              "      <td>...</td>\n",
              "      <td>...</td>\n",
              "      <td>...</td>\n",
              "      <td>...</td>\n",
              "      <td>...</td>\n",
              "      <td>...</td>\n",
              "    </tr>\n",
              "    <tr>\n",
              "      <th>sniff.v</th>\n",
              "      <td>41.9</td>\n",
              "      <td>81.2</td>\n",
              "      <td>28.3</td>\n",
              "      <td>9.1</td>\n",
              "      <td>26.4</td>\n",
              "      <td>5.5</td>\n",
              "      <td>19.526648</td>\n",
              "    </tr>\n",
              "    <tr>\n",
              "      <th>straighten.v</th>\n",
              "      <td>48.2</td>\n",
              "      <td>92.8</td>\n",
              "      <td>32.6</td>\n",
              "      <td>3.6</td>\n",
              "      <td>18.1</td>\n",
              "      <td>2.0</td>\n",
              "      <td>13.172699</td>\n",
              "    </tr>\n",
              "    <tr>\n",
              "      <th>pursue.v</th>\n",
              "      <td>88.2</td>\n",
              "      <td>93.5</td>\n",
              "      <td>83.4</td>\n",
              "      <td>3.7</td>\n",
              "      <td>5.2</td>\n",
              "      <td>2.8</td>\n",
              "      <td>18.064883</td>\n",
              "    </tr>\n",
              "    <tr>\n",
              "      <th>defend.v</th>\n",
              "      <td>70.8</td>\n",
              "      <td>93.4</td>\n",
              "      <td>57.0</td>\n",
              "      <td>0.0</td>\n",
              "      <td>0.0</td>\n",
              "      <td>0.0</td>\n",
              "      <td>0.000000</td>\n",
              "    </tr>\n",
              "    <tr>\n",
              "      <th>divide.v</th>\n",
              "      <td>54.5</td>\n",
              "      <td>100.0</td>\n",
              "      <td>37.5</td>\n",
              "      <td>14.5</td>\n",
              "      <td>100.0</td>\n",
              "      <td>7.8</td>\n",
              "      <td>28.111386</td>\n",
              "    </tr>\n",
              "  </tbody>\n",
              "</table>\n",
              "<p>100 rows × 7 columns</p>\n",
              "</div>\n",
              "      <button class=\"colab-df-convert\" onclick=\"convertToInteractive('df-b1fddea2-0739-4224-b1ae-f8b11daa19fb')\"\n",
              "              title=\"Convert this dataframe to an interactive table.\"\n",
              "              style=\"display:none;\">\n",
              "        \n",
              "  <svg xmlns=\"http://www.w3.org/2000/svg\" height=\"24px\"viewBox=\"0 0 24 24\"\n",
              "       width=\"24px\">\n",
              "    <path d=\"M0 0h24v24H0V0z\" fill=\"none\"/>\n",
              "    <path d=\"M18.56 5.44l.94 2.06.94-2.06 2.06-.94-2.06-.94-.94-2.06-.94 2.06-2.06.94zm-11 1L8.5 8.5l.94-2.06 2.06-.94-2.06-.94L8.5 2.5l-.94 2.06-2.06.94zm10 10l.94 2.06.94-2.06 2.06-.94-2.06-.94-.94-2.06-.94 2.06-2.06.94z\"/><path d=\"M17.41 7.96l-1.37-1.37c-.4-.4-.92-.59-1.43-.59-.52 0-1.04.2-1.43.59L10.3 9.45l-7.72 7.72c-.78.78-.78 2.05 0 2.83L4 21.41c.39.39.9.59 1.41.59.51 0 1.02-.2 1.41-.59l7.78-7.78 2.81-2.81c.8-.78.8-2.07 0-2.86zM5.41 20L4 18.59l7.72-7.72 1.47 1.35L5.41 20z\"/>\n",
              "  </svg>\n",
              "      </button>\n",
              "      \n",
              "  <style>\n",
              "    .colab-df-container {\n",
              "      display:flex;\n",
              "      flex-wrap:wrap;\n",
              "      gap: 12px;\n",
              "    }\n",
              "\n",
              "    .colab-df-convert {\n",
              "      background-color: #E8F0FE;\n",
              "      border: none;\n",
              "      border-radius: 50%;\n",
              "      cursor: pointer;\n",
              "      display: none;\n",
              "      fill: #1967D2;\n",
              "      height: 32px;\n",
              "      padding: 0 0 0 0;\n",
              "      width: 32px;\n",
              "    }\n",
              "\n",
              "    .colab-df-convert:hover {\n",
              "      background-color: #E2EBFA;\n",
              "      box-shadow: 0px 1px 2px rgba(60, 64, 67, 0.3), 0px 1px 3px 1px rgba(60, 64, 67, 0.15);\n",
              "      fill: #174EA6;\n",
              "    }\n",
              "\n",
              "    [theme=dark] .colab-df-convert {\n",
              "      background-color: #3B4455;\n",
              "      fill: #D2E3FC;\n",
              "    }\n",
              "\n",
              "    [theme=dark] .colab-df-convert:hover {\n",
              "      background-color: #434B5C;\n",
              "      box-shadow: 0px 1px 3px 1px rgba(0, 0, 0, 0.15);\n",
              "      filter: drop-shadow(0px 1px 2px rgba(0, 0, 0, 0.3));\n",
              "      fill: #FFFFFF;\n",
              "    }\n",
              "  </style>\n",
              "\n",
              "      <script>\n",
              "        const buttonEl =\n",
              "          document.querySelector('#df-b1fddea2-0739-4224-b1ae-f8b11daa19fb button.colab-df-convert');\n",
              "        buttonEl.style.display =\n",
              "          google.colab.kernel.accessAllowed ? 'block' : 'none';\n",
              "\n",
              "        async function convertToInteractive(key) {\n",
              "          const element = document.querySelector('#df-b1fddea2-0739-4224-b1ae-f8b11daa19fb');\n",
              "          const dataTable =\n",
              "            await google.colab.kernel.invokeFunction('convertToInteractive',\n",
              "                                                     [key], {});\n",
              "          if (!dataTable) return;\n",
              "\n",
              "          const docLinkHtml = 'Like what you see? Visit the ' +\n",
              "            '<a target=\"_blank\" href=https://colab.research.google.com/notebooks/data_table.ipynb>data table notebook</a>'\n",
              "            + ' to learn more about interactive tables.';\n",
              "          element.innerHTML = '';\n",
              "          dataTable['output_type'] = 'display_data';\n",
              "          await google.colab.output.renderOutput(dataTable, element);\n",
              "          const docLink = document.createElement('div');\n",
              "          docLink.innerHTML = docLinkHtml;\n",
              "          element.appendChild(docLink);\n",
              "        }\n",
              "      </script>\n",
              "    </div>\n",
              "  </div>\n",
              "  "
            ],
            "text/plain": [
              "              fscore  precision  recall  vmeasure  homogenity  completeness  \\\n",
              "threat.n        63.3       91.1    48.6       3.2        10.2           1.9   \n",
              "address.n       57.6       98.1    40.7       8.3        41.2           4.6   \n",
              "camp.n          55.6       95.1    39.2       6.3        27.5           3.5   \n",
              "innovation.n    66.2       92.8    51.5       3.5        10.3           2.1   \n",
              "mind.n          38.1       95.5    23.8       3.4        23.2           1.8   \n",
              "...              ...        ...     ...       ...         ...           ...   \n",
              "sniff.v         41.9       81.2    28.3       9.1        26.4           5.5   \n",
              "straighten.v    48.2       92.8    32.6       3.6        18.1           2.0   \n",
              "pursue.v        88.2       93.5    83.4       3.7         5.2           2.8   \n",
              "defend.v        70.8       93.4    57.0       0.0         0.0           0.0   \n",
              "divide.v        54.5      100.0    37.5      14.5       100.0           7.8   \n",
              "\n",
              "              (fs * vm) ** 0.5  \n",
              "threat.n             14.232357  \n",
              "address.n            21.865041  \n",
              "camp.n               18.715769  \n",
              "innovation.n         15.221695  \n",
              "mind.n               11.381564  \n",
              "...                        ...  \n",
              "sniff.v              19.526648  \n",
              "straighten.v         13.172699  \n",
              "pursue.v             18.064883  \n",
              "defend.v              0.000000  \n",
              "divide.v             28.111386  \n",
              "\n",
              "[100 rows x 7 columns]"
            ]
          },
          "execution_count": 57,
          "metadata": {},
          "output_type": "execute_result"
        }
      ],
      "source": [
        "eval.compute_metrics()"
      ]
    },
    {
      "cell_type": "code",
      "execution_count": null,
      "metadata": {
        "id": "fnJvh5bruE3C"
      },
      "outputs": [],
      "source": []
    }
  ],
  "metadata": {
    "colab": {
      "provenance": [],
      "toc_visible": true
    },
    "kernelspec": {
      "display_name": "Python 3",
      "name": "python3"
    },
    "language_info": {
      "name": "python"
    }
  },
  "nbformat": 4,
  "nbformat_minor": 0
}