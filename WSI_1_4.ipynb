{
  "nbformat": 4,
  "nbformat_minor": 0,
  "metadata": {
    "colab": {
      "provenance": [],
      "toc_visible": true
    },
    "kernelspec": {
      "name": "python3",
      "display_name": "Python 3"
    },
    "language_info": {
      "name": "python"
    }
  },
  "cells": [
    {
      "cell_type": "markdown",
      "source": [
        "# Подключение гугл диска"
      ],
      "metadata": {
        "id": "58SMl69EgHf0"
      }
    },
    {
      "cell_type": "code",
      "execution_count": 1,
      "metadata": {
        "colab": {
          "base_uri": "https://localhost:8080/"
        },
        "id": "BegBYoBwgG3e",
        "outputId": "b10f8080-ad12-4b86-e1b8-4db6f60fe0c3"
      },
      "outputs": [
        {
          "output_type": "stream",
          "name": "stdout",
          "text": [
            "Mounted at /content/gdrive\n"
          ]
        }
      ],
      "source": [
        "from google.colab import drive\n",
        "\n",
        "drive.mount('/content/gdrive', force_remount=True)"
      ]
    },
    {
      "cell_type": "code",
      "source": [
        "%cd gdrive/MyDrive/3_year/WSI"
      ],
      "metadata": {
        "colab": {
          "base_uri": "https://localhost:8080/"
        },
        "id": "uzxBoyH2gJ9q",
        "outputId": "c233ba6c-3b70-40a8-c9dc-b0cfb16cf844"
      },
      "execution_count": 2,
      "outputs": [
        {
          "output_type": "stream",
          "name": "stdout",
          "text": [
            "/content/gdrive/MyDrive/3_year/WSI\n"
          ]
        }
      ]
    },
    {
      "cell_type": "markdown",
      "source": [
        "# Установки и импорты"
      ],
      "metadata": {
        "id": "G7YtrUTUgSSe"
      }
    },
    {
      "cell_type": "code",
      "source": [
        "!pip install -r requirements.txt"
      ],
      "metadata": {
        "colab": {
          "base_uri": "https://localhost:8080/"
        },
        "id": "mo6emb_ZgQU3",
        "outputId": "7b563312-ea00-42d3-da61-21d0091847b6"
      },
      "execution_count": null,
      "outputs": [
        {
          "output_type": "stream",
          "name": "stdout",
          "text": [
            "Looking in indexes: https://pypi.org/simple, https://us-python.pkg.dev/colab-wheels/public/simple/\n",
            "Requirement already satisfied: tqdm in /usr/local/lib/python3.10/dist-packages (from -r requirements.txt (line 1)) (4.65.0)\n",
            "Collecting fasttext-wheel\n",
            "  Downloading fasttext_wheel-0.9.2-cp310-cp310-manylinux_2_17_x86_64.manylinux2014_x86_64.whl (4.4 MB)\n",
            "\u001b[2K     \u001b[90m━━━━━━━━━━━━━━━━━━━━━━━━━━━━━━━━━━━━━━━━\u001b[0m \u001b[32m4.4/4.4 MB\u001b[0m \u001b[31m14.6 MB/s\u001b[0m eta \u001b[36m0:00:00\u001b[0m\n",
            "\u001b[?25hCollecting fuzzywuzzy[speedup]\n",
            "  Downloading fuzzywuzzy-0.18.0-py2.py3-none-any.whl (18 kB)\n",
            "Requirement already satisfied: scikit-learn in /usr/local/lib/python3.10/dist-packages (from -r requirements.txt (line 4)) (1.2.2)\n",
            "Collecting googletrans\n",
            "  Downloading googletrans-3.0.0.tar.gz (17 kB)\n",
            "  Preparing metadata (setup.py) ... \u001b[?25l\u001b[?25hdone\n",
            "Requirement already satisfied: numpy in /usr/local/lib/python3.10/dist-packages (from -r requirements.txt (line 6)) (1.22.4)\n",
            "Collecting sklearn\n",
            "  Downloading sklearn-0.0.post4.tar.gz (3.6 kB)\n",
            "  Preparing metadata (setup.py) ... \u001b[?25l\u001b[?25hdone\n",
            "Requirement already satisfied: pandas in /usr/local/lib/python3.10/dist-packages (from -r requirements.txt (line 8)) (1.5.3)\n",
            "Requirement already satisfied: setuptools>=0.7.0 in /usr/local/lib/python3.10/dist-packages (from fasttext-wheel->-r requirements.txt (line 2)) (67.7.2)\n",
            "Collecting pybind11>=2.2\n",
            "  Downloading pybind11-2.10.4-py3-none-any.whl (222 kB)\n",
            "\u001b[2K     \u001b[90m━━━━━━━━━━━━━━━━━━━━━━━━━━━━━━━━━━━━━━\u001b[0m \u001b[32m222.3/222.3 kB\u001b[0m \u001b[31m22.2 MB/s\u001b[0m eta \u001b[36m0:00:00\u001b[0m\n",
            "\u001b[?25hCollecting python-levenshtein>=0.12\n",
            "  Downloading python_Levenshtein-0.21.0-py3-none-any.whl (9.4 kB)\n",
            "Requirement already satisfied: joblib>=1.1.1 in /usr/local/lib/python3.10/dist-packages (from scikit-learn->-r requirements.txt (line 4)) (1.2.0)\n",
            "Requirement already satisfied: scipy>=1.3.2 in /usr/local/lib/python3.10/dist-packages (from scikit-learn->-r requirements.txt (line 4)) (1.10.1)\n",
            "Requirement already satisfied: threadpoolctl>=2.0.0 in /usr/local/lib/python3.10/dist-packages (from scikit-learn->-r requirements.txt (line 4)) (3.1.0)\n",
            "Collecting httpx==0.13.3\n",
            "  Downloading httpx-0.13.3-py3-none-any.whl (55 kB)\n",
            "\u001b[2K     \u001b[90m━━━━━━━━━━━━━━━━━━━━━━━━━━━━━━━━━━━━━━━━\u001b[0m \u001b[32m55.1/55.1 kB\u001b[0m \u001b[31m6.1 MB/s\u001b[0m eta \u001b[36m0:00:00\u001b[0m\n",
            "\u001b[?25hRequirement already satisfied: sniffio in /usr/local/lib/python3.10/dist-packages (from httpx==0.13.3->googletrans->-r requirements.txt (line 5)) (1.3.0)\n",
            "Collecting hstspreload\n",
            "  Downloading hstspreload-2023.1.1-py3-none-any.whl (1.5 MB)\n",
            "\u001b[2K     \u001b[90m━━━━━━━━━━━━━━━━━━━━━━━━━━━━━━━━━━━━━━━━\u001b[0m \u001b[32m1.5/1.5 MB\u001b[0m \u001b[31m51.7 MB/s\u001b[0m eta \u001b[36m0:00:00\u001b[0m\n",
            "\u001b[?25hRequirement already satisfied: certifi in /usr/local/lib/python3.10/dist-packages (from httpx==0.13.3->googletrans->-r requirements.txt (line 5)) (2022.12.7)\n",
            "Collecting chardet==3.*\n",
            "  Downloading chardet-3.0.4-py2.py3-none-any.whl (133 kB)\n",
            "\u001b[2K     \u001b[90m━━━━━━━━━━━━━━━━━━━━━━━━━━━━━━━━━━━━━━\u001b[0m \u001b[32m133.4/133.4 kB\u001b[0m \u001b[31m13.3 MB/s\u001b[0m eta \u001b[36m0:00:00\u001b[0m\n",
            "\u001b[?25hCollecting idna==2.*\n",
            "  Downloading idna-2.10-py2.py3-none-any.whl (58 kB)\n",
            "\u001b[2K     \u001b[90m━━━━━━━━━━━━━━━━━━━━━━━━━━━━━━━━━━━━━━━━\u001b[0m \u001b[32m58.8/58.8 kB\u001b[0m \u001b[31m7.0 MB/s\u001b[0m eta \u001b[36m0:00:00\u001b[0m\n",
            "\u001b[?25hCollecting httpcore==0.9.*\n",
            "  Downloading httpcore-0.9.1-py3-none-any.whl (42 kB)\n",
            "\u001b[2K     \u001b[90m━━━━━━━━━━━━━━━━━━━━━━━━━━━━━━━━━━━━━━━━\u001b[0m \u001b[32m42.6/42.6 kB\u001b[0m \u001b[31m3.7 MB/s\u001b[0m eta \u001b[36m0:00:00\u001b[0m\n",
            "\u001b[?25hCollecting rfc3986<2,>=1.3\n",
            "  Downloading rfc3986-1.5.0-py2.py3-none-any.whl (31 kB)\n",
            "Collecting h11<0.10,>=0.8\n",
            "  Downloading h11-0.9.0-py2.py3-none-any.whl (53 kB)\n",
            "\u001b[2K     \u001b[90m━━━━━━━━━━━━━━━━━━━━━━━━━━━━━━━━━━━━━━━━\u001b[0m \u001b[32m53.6/53.6 kB\u001b[0m \u001b[31m6.3 MB/s\u001b[0m eta \u001b[36m0:00:00\u001b[0m\n",
            "\u001b[?25hCollecting h2==3.*\n",
            "  Downloading h2-3.2.0-py2.py3-none-any.whl (65 kB)\n",
            "\u001b[2K     \u001b[90m━━━━━━━━━━━━━━━━━━━━━━━━━━━━━━━━━━━━━━━━\u001b[0m \u001b[32m65.0/65.0 kB\u001b[0m \u001b[31m9.0 MB/s\u001b[0m eta \u001b[36m0:00:00\u001b[0m\n",
            "\u001b[?25hCollecting hyperframe<6,>=5.2.0\n",
            "  Downloading hyperframe-5.2.0-py2.py3-none-any.whl (12 kB)\n",
            "Collecting hpack<4,>=3.0\n",
            "  Downloading hpack-3.0.0-py2.py3-none-any.whl (38 kB)\n",
            "Requirement already satisfied: pytz>=2020.1 in /usr/local/lib/python3.10/dist-packages (from pandas->-r requirements.txt (line 8)) (2022.7.1)\n",
            "Requirement already satisfied: python-dateutil>=2.8.1 in /usr/local/lib/python3.10/dist-packages (from pandas->-r requirements.txt (line 8)) (2.8.2)\n",
            "Requirement already satisfied: six>=1.5 in /usr/local/lib/python3.10/dist-packages (from python-dateutil>=2.8.1->pandas->-r requirements.txt (line 8)) (1.16.0)\n",
            "Collecting Levenshtein==0.21.0\n",
            "  Downloading Levenshtein-0.21.0-cp310-cp310-manylinux_2_17_x86_64.manylinux2014_x86_64.whl (174 kB)\n",
            "\u001b[2K     \u001b[90m━━━━━━━━━━━━━━━━━━━━━━━━━━━━━━━━━━━━━━\u001b[0m \u001b[32m174.1/174.1 kB\u001b[0m \u001b[31m16.8 MB/s\u001b[0m eta \u001b[36m0:00:00\u001b[0m\n",
            "\u001b[?25hCollecting rapidfuzz<4.0.0,>=2.3.0\n",
            "  Downloading rapidfuzz-3.0.0-cp310-cp310-manylinux_2_17_x86_64.manylinux2014_x86_64.whl (3.0 MB)\n",
            "\u001b[2K     \u001b[90m━━━━━━━━━━━━━━━━━━━━━━━━━━━━━━━━━━━━━━━━\u001b[0m \u001b[32m3.0/3.0 MB\u001b[0m \u001b[31m74.6 MB/s\u001b[0m eta \u001b[36m0:00:00\u001b[0m\n",
            "\u001b[?25hBuilding wheels for collected packages: googletrans, sklearn\n",
            "  Building wheel for googletrans (setup.py) ... \u001b[?25l\u001b[?25hdone\n",
            "  Created wheel for googletrans: filename=googletrans-3.0.0-py3-none-any.whl size=15735 sha256=653d3d23747acf48e1cabb19baa32f343a9f5a8cde82d7b8d240a186b499c3db\n",
            "  Stored in directory: /root/.cache/pip/wheels/b3/81/ea/8b030407f8ebfc2f857814e086bb22ca2d4fea1a7be63652ab\n",
            "  Building wheel for sklearn (setup.py) ... \u001b[?25l\u001b[?25hdone\n",
            "  Created wheel for sklearn: filename=sklearn-0.0.post4-py3-none-any.whl size=2973 sha256=eff06bb2a6fd13dbdffb661967ae7a6113db4d0e6e9add873e45e7c9605a5dbf\n",
            "  Stored in directory: /root/.cache/pip/wheels/46/b8/69/4f7789b7d2fc0718a44cbc4ae5d40970a40c22c472ae50f0a1\n",
            "Successfully built googletrans sklearn\n",
            "Installing collected packages: sklearn, rfc3986, hyperframe, hpack, h11, fuzzywuzzy, chardet, rapidfuzz, pybind11, idna, hstspreload, h2, Levenshtein, httpcore, fasttext-wheel, python-levenshtein, httpx, googletrans\n",
            "  Attempting uninstall: chardet\n",
            "    Found existing installation: chardet 4.0.0\n",
            "    Uninstalling chardet-4.0.0:\n",
            "      Successfully uninstalled chardet-4.0.0\n",
            "  Attempting uninstall: idna\n",
            "    Found existing installation: idna 3.4\n",
            "    Uninstalling idna-3.4:\n",
            "      Successfully uninstalled idna-3.4\n",
            "Successfully installed Levenshtein-0.21.0 chardet-3.0.4 fasttext-wheel-0.9.2 fuzzywuzzy-0.18.0 googletrans-3.0.0 h11-0.9.0 h2-3.2.0 hpack-3.0.0 hstspreload-2023.1.1 httpcore-0.9.1 httpx-0.13.3 hyperframe-5.2.0 idna-2.10 pybind11-2.10.4 python-levenshtein-0.21.0 rapidfuzz-3.0.0 rfc3986-1.5.0 sklearn-0.0.post4\n"
          ]
        }
      ]
    },
    {
      "cell_type": "code",
      "source": [
        "!pip install fasttext"
      ],
      "metadata": {
        "colab": {
          "base_uri": "https://localhost:8080/"
        },
        "id": "15SCky5grxP1",
        "outputId": "5f379efe-43de-4a74-e604-b2a0141e2fa1"
      },
      "execution_count": null,
      "outputs": [
        {
          "output_type": "stream",
          "name": "stdout",
          "text": [
            "Looking in indexes: https://pypi.org/simple, https://us-python.pkg.dev/colab-wheels/public/simple/\n",
            "Collecting fasttext\n",
            "  Downloading fasttext-0.9.2.tar.gz (68 kB)\n",
            "\u001b[2K     \u001b[90m━━━━━━━━━━━━━━━━━━━━━━━━━━━━━━━━━━━━━━━━\u001b[0m \u001b[32m68.8/68.8 kB\u001b[0m \u001b[31m4.4 MB/s\u001b[0m eta \u001b[36m0:00:00\u001b[0m\n",
            "\u001b[?25h  Preparing metadata (setup.py) ... \u001b[?25l\u001b[?25hdone\n",
            "Requirement already satisfied: pybind11>=2.2 in /usr/local/lib/python3.10/dist-packages (from fasttext) (2.10.4)\n",
            "Requirement already satisfied: setuptools>=0.7.0 in /usr/local/lib/python3.10/dist-packages (from fasttext) (67.7.2)\n",
            "Requirement already satisfied: numpy in /usr/local/lib/python3.10/dist-packages (from fasttext) (1.22.4)\n",
            "Building wheels for collected packages: fasttext\n",
            "  Building wheel for fasttext (setup.py) ... \u001b[?25l\u001b[?25hdone\n",
            "  Created wheel for fasttext: filename=fasttext-0.9.2-cp310-cp310-linux_x86_64.whl size=4393467 sha256=e0648fc87c0e757c94b8c5492bf314eab9e26f1f61dfa3272fdca1aca66f90df\n",
            "  Stored in directory: /root/.cache/pip/wheels/a5/13/75/f811c84a8ab36eedbaef977a6a58a98990e8e0f1967f98f394\n",
            "Successfully built fasttext\n",
            "Installing collected packages: fasttext\n",
            "Successfully installed fasttext-0.9.2\n"
          ]
        }
      ]
    },
    {
      "cell_type": "code",
      "source": [
        "import fasttext"
      ],
      "metadata": {
        "id": "6qUAdZXCryfv"
      },
      "execution_count": null,
      "outputs": []
    },
    {
      "cell_type": "code",
      "source": [
        "from pathlib import Path"
      ],
      "metadata": {
        "id": "91VjOmfSh1Pa"
      },
      "execution_count": 15,
      "outputs": []
    },
    {
      "cell_type": "code",
      "source": [
        "import sys\n",
        "sys.path.append('/content/gdrive/MyDrive/3_year/WSI/lexsubgen/')"
      ],
      "metadata": {
        "id": "aBnD5x4Kkcen"
      },
      "execution_count": 3,
      "outputs": []
    },
    {
      "cell_type": "code",
      "source": [
        "sys.path"
      ],
      "metadata": {
        "colab": {
          "base_uri": "https://localhost:8080/"
        },
        "id": "rg4utdA2k0UJ",
        "outputId": "0628c074-c3a1-44bb-c858-ad1e297bba87"
      },
      "execution_count": 4,
      "outputs": [
        {
          "output_type": "execute_result",
          "data": {
            "text/plain": [
              "['/content',\n",
              " '/env/python',\n",
              " '/usr/lib/python310.zip',\n",
              " '/usr/lib/python3.10',\n",
              " '/usr/lib/python3.10/lib-dynload',\n",
              " '',\n",
              " '/usr/local/lib/python3.10/dist-packages',\n",
              " '/usr/lib/python3/dist-packages',\n",
              " '/usr/local/lib/python3.10/dist-packages/IPython/extensions',\n",
              " '/root/.ipython',\n",
              " '/content/gdrive/MyDrive/3_year/WSI/lexsubgen/']"
            ]
          },
          "metadata": {},
          "execution_count": 4
        }
      ]
    },
    {
      "cell_type": "code",
      "source": [
        "import importlib"
      ],
      "metadata": {
        "id": "CeEnvou_t6Ef"
      },
      "execution_count": null,
      "outputs": []
    },
    {
      "cell_type": "markdown",
      "source": [
        "# Работа с датасетом"
      ],
      "metadata": {
        "id": "3mjppii2h30k"
      }
    },
    {
      "cell_type": "code",
      "source": [
        "dataset_path = Path('./semeval-2010/dataset_wsi_2010.csv').resolve()\n",
        "dataset_path"
      ],
      "metadata": {
        "colab": {
          "base_uri": "https://localhost:8080/"
        },
        "id": "_o2OqHTrg4y_",
        "outputId": "ee6ed421-0fd7-4565-fcd9-0c82d5ec6511"
      },
      "execution_count": 11,
      "outputs": [
        {
          "output_type": "execute_result",
          "data": {
            "text/plain": [
              "PosixPath('/content/gdrive/MyDrive/3_year/WSI/semeval-2010/dataset_wsi_2010.csv')"
            ]
          },
          "metadata": {},
          "execution_count": 11
        }
      ]
    },
    {
      "cell_type": "code",
      "source": [
        "import pandas as pd"
      ],
      "metadata": {
        "id": "dhfnx5_SiKN1"
      },
      "execution_count": 12,
      "outputs": []
    },
    {
      "cell_type": "code",
      "source": [
        "dataset_2010 = pd.read_csv(dataset_path)\n",
        "dataset_2010.head()"
      ],
      "metadata": {
        "colab": {
          "base_uri": "https://localhost:8080/",
          "height": 206
        },
        "id": "zZMIGxfJiOgy",
        "outputId": "4fdfe051-fc7e-45ca-8a3c-7ed6418c5455"
      },
      "execution_count": 13,
      "outputs": [
        {
          "output_type": "execute_result",
          "data": {
            "text/plain": [
              "   context_id  group_by target_lemma pos_tag  \\\n",
              "0  threat.n.1  threat.n       threat       n   \n",
              "1  threat.n.2  threat.n       threat       n   \n",
              "2  threat.n.3  threat.n       threat       n   \n",
              "3  threat.n.4  threat.n       threat       n   \n",
              "4  threat.n.5  threat.n       threat       n   \n",
              "\n",
              "                                            sentence  target_id  \n",
              "0  ['However', ',', 'history', 'has', 'proven', '...         58  \n",
              "1  ['This', 'report', 'predicted', 'that', 'by', ...         75  \n",
              "2  ['A', 'department', 'spokesman', 'said', 'the'...         42  \n",
              "3  ['``', 'But', 'the', 'question', 'is', 'whethe...         27  \n",
              "4  ['According', 'to', 'the', 'transcript', ',', ...         38  "
            ],
            "text/html": [
              "\n",
              "  <div id=\"df-75755683-1a47-43e0-a8a0-ca291e5d2054\">\n",
              "    <div class=\"colab-df-container\">\n",
              "      <div>\n",
              "<style scoped>\n",
              "    .dataframe tbody tr th:only-of-type {\n",
              "        vertical-align: middle;\n",
              "    }\n",
              "\n",
              "    .dataframe tbody tr th {\n",
              "        vertical-align: top;\n",
              "    }\n",
              "\n",
              "    .dataframe thead th {\n",
              "        text-align: right;\n",
              "    }\n",
              "</style>\n",
              "<table border=\"1\" class=\"dataframe\">\n",
              "  <thead>\n",
              "    <tr style=\"text-align: right;\">\n",
              "      <th></th>\n",
              "      <th>context_id</th>\n",
              "      <th>group_by</th>\n",
              "      <th>target_lemma</th>\n",
              "      <th>pos_tag</th>\n",
              "      <th>sentence</th>\n",
              "      <th>target_id</th>\n",
              "    </tr>\n",
              "  </thead>\n",
              "  <tbody>\n",
              "    <tr>\n",
              "      <th>0</th>\n",
              "      <td>threat.n.1</td>\n",
              "      <td>threat.n</td>\n",
              "      <td>threat</td>\n",
              "      <td>n</td>\n",
              "      <td>['However', ',', 'history', 'has', 'proven', '...</td>\n",
              "      <td>58</td>\n",
              "    </tr>\n",
              "    <tr>\n",
              "      <th>1</th>\n",
              "      <td>threat.n.2</td>\n",
              "      <td>threat.n</td>\n",
              "      <td>threat</td>\n",
              "      <td>n</td>\n",
              "      <td>['This', 'report', 'predicted', 'that', 'by', ...</td>\n",
              "      <td>75</td>\n",
              "    </tr>\n",
              "    <tr>\n",
              "      <th>2</th>\n",
              "      <td>threat.n.3</td>\n",
              "      <td>threat.n</td>\n",
              "      <td>threat</td>\n",
              "      <td>n</td>\n",
              "      <td>['A', 'department', 'spokesman', 'said', 'the'...</td>\n",
              "      <td>42</td>\n",
              "    </tr>\n",
              "    <tr>\n",
              "      <th>3</th>\n",
              "      <td>threat.n.4</td>\n",
              "      <td>threat.n</td>\n",
              "      <td>threat</td>\n",
              "      <td>n</td>\n",
              "      <td>['``', 'But', 'the', 'question', 'is', 'whethe...</td>\n",
              "      <td>27</td>\n",
              "    </tr>\n",
              "    <tr>\n",
              "      <th>4</th>\n",
              "      <td>threat.n.5</td>\n",
              "      <td>threat.n</td>\n",
              "      <td>threat</td>\n",
              "      <td>n</td>\n",
              "      <td>['According', 'to', 'the', 'transcript', ',', ...</td>\n",
              "      <td>38</td>\n",
              "    </tr>\n",
              "  </tbody>\n",
              "</table>\n",
              "</div>\n",
              "      <button class=\"colab-df-convert\" onclick=\"convertToInteractive('df-75755683-1a47-43e0-a8a0-ca291e5d2054')\"\n",
              "              title=\"Convert this dataframe to an interactive table.\"\n",
              "              style=\"display:none;\">\n",
              "        \n",
              "  <svg xmlns=\"http://www.w3.org/2000/svg\" height=\"24px\"viewBox=\"0 0 24 24\"\n",
              "       width=\"24px\">\n",
              "    <path d=\"M0 0h24v24H0V0z\" fill=\"none\"/>\n",
              "    <path d=\"M18.56 5.44l.94 2.06.94-2.06 2.06-.94-2.06-.94-.94-2.06-.94 2.06-2.06.94zm-11 1L8.5 8.5l.94-2.06 2.06-.94-2.06-.94L8.5 2.5l-.94 2.06-2.06.94zm10 10l.94 2.06.94-2.06 2.06-.94-2.06-.94-.94-2.06-.94 2.06-2.06.94z\"/><path d=\"M17.41 7.96l-1.37-1.37c-.4-.4-.92-.59-1.43-.59-.52 0-1.04.2-1.43.59L10.3 9.45l-7.72 7.72c-.78.78-.78 2.05 0 2.83L4 21.41c.39.39.9.59 1.41.59.51 0 1.02-.2 1.41-.59l7.78-7.78 2.81-2.81c.8-.78.8-2.07 0-2.86zM5.41 20L4 18.59l7.72-7.72 1.47 1.35L5.41 20z\"/>\n",
              "  </svg>\n",
              "      </button>\n",
              "      \n",
              "  <style>\n",
              "    .colab-df-container {\n",
              "      display:flex;\n",
              "      flex-wrap:wrap;\n",
              "      gap: 12px;\n",
              "    }\n",
              "\n",
              "    .colab-df-convert {\n",
              "      background-color: #E8F0FE;\n",
              "      border: none;\n",
              "      border-radius: 50%;\n",
              "      cursor: pointer;\n",
              "      display: none;\n",
              "      fill: #1967D2;\n",
              "      height: 32px;\n",
              "      padding: 0 0 0 0;\n",
              "      width: 32px;\n",
              "    }\n",
              "\n",
              "    .colab-df-convert:hover {\n",
              "      background-color: #E2EBFA;\n",
              "      box-shadow: 0px 1px 2px rgba(60, 64, 67, 0.3), 0px 1px 3px 1px rgba(60, 64, 67, 0.15);\n",
              "      fill: #174EA6;\n",
              "    }\n",
              "\n",
              "    [theme=dark] .colab-df-convert {\n",
              "      background-color: #3B4455;\n",
              "      fill: #D2E3FC;\n",
              "    }\n",
              "\n",
              "    [theme=dark] .colab-df-convert:hover {\n",
              "      background-color: #434B5C;\n",
              "      box-shadow: 0px 1px 3px 1px rgba(0, 0, 0, 0.15);\n",
              "      filter: drop-shadow(0px 1px 2px rgba(0, 0, 0, 0.3));\n",
              "      fill: #FFFFFF;\n",
              "    }\n",
              "  </style>\n",
              "\n",
              "      <script>\n",
              "        const buttonEl =\n",
              "          document.querySelector('#df-75755683-1a47-43e0-a8a0-ca291e5d2054 button.colab-df-convert');\n",
              "        buttonEl.style.display =\n",
              "          google.colab.kernel.accessAllowed ? 'block' : 'none';\n",
              "\n",
              "        async function convertToInteractive(key) {\n",
              "          const element = document.querySelector('#df-75755683-1a47-43e0-a8a0-ca291e5d2054');\n",
              "          const dataTable =\n",
              "            await google.colab.kernel.invokeFunction('convertToInteractive',\n",
              "                                                     [key], {});\n",
              "          if (!dataTable) return;\n",
              "\n",
              "          const docLinkHtml = 'Like what you see? Visit the ' +\n",
              "            '<a target=\"_blank\" href=https://colab.research.google.com/notebooks/data_table.ipynb>data table notebook</a>'\n",
              "            + ' to learn more about interactive tables.';\n",
              "          element.innerHTML = '';\n",
              "          dataTable['output_type'] = 'display_data';\n",
              "          await google.colab.output.renderOutput(dataTable, element);\n",
              "          const docLink = document.createElement('div');\n",
              "          docLink.innerHTML = docLinkHtml;\n",
              "          element.appendChild(docLink);\n",
              "        }\n",
              "      </script>\n",
              "    </div>\n",
              "  </div>\n",
              "  "
            ]
          },
          "metadata": {},
          "execution_count": 13
        }
      ]
    },
    {
      "cell_type": "markdown",
      "source": [
        "# Обработка контекста"
      ],
      "metadata": {
        "id": "fuNTcvdYigKQ"
      }
    },
    {
      "cell_type": "code",
      "source": [
        "importlib.reload(sys.modules['lexsubgen.fasttext_substitutes'])"
      ],
      "metadata": {
        "id": "u3XL2H5nutz_"
      },
      "execution_count": null,
      "outputs": []
    },
    {
      "cell_type": "code",
      "source": [
        "from lexsubgen.fasttext_substitutes import FasttextSubstituteGenerator"
      ],
      "metadata": {
        "id": "u9t5SxGljEd_"
      },
      "execution_count": null,
      "outputs": []
    },
    {
      "cell_type": "code",
      "source": [
        "subst_generator = FasttextSubstituteGenerator(dataset_2010)"
      ],
      "metadata": {
        "id": "SEpX3DpkmmYR"
      },
      "execution_count": null,
      "outputs": []
    },
    {
      "cell_type": "markdown",
      "source": [
        "### Генерация эмбеддингов контекста"
      ],
      "metadata": {
        "id": "wq6ky8DUiqtV"
      }
    },
    {
      "cell_type": "code",
      "source": [
        "# скачиваем языковую модель source_language\n",
        "\n",
        "# !wget https://dl.fbaipublicfiles.com/fasttext/vectors-crawl/cc.en.300.bin.gz\n",
        "# !gunzip cc.en.300.bin.gz\n",
        "# eng_model = fasttext.load_model('cc.en.300.bin')"
      ],
      "metadata": {
        "id": "SyL2VBQBinNw"
      },
      "execution_count": null,
      "outputs": []
    },
    {
      "cell_type": "code",
      "source": [
        "embs_filepath = Path('./semeval-2010/semeval_2010_context_embs.json').resolve()\n",
        "embs_filepath"
      ],
      "metadata": {
        "colab": {
          "base_uri": "https://localhost:8080/"
        },
        "id": "zEYHX824m8eD",
        "outputId": "68a223f1-4bcb-4f4b-f928-cd630fa374d1"
      },
      "execution_count": null,
      "outputs": [
        {
          "output_type": "execute_result",
          "data": {
            "text/plain": [
              "PosixPath('/content/gdrive/MyDrive/3_year/WSI/semeval-2010/semeval_2010_context_embs.json')"
            ]
          },
          "metadata": {},
          "execution_count": 12
        }
      ]
    },
    {
      "cell_type": "code",
      "source": [
        "# сгенерировать вектора контекста и сохранить в json file\n",
        "\n",
        "# subst_generator.get_context_embeddings(eng_model, groupby='groupby',\n",
        "#                                        window=3, context_emb_path=embs_filepath)"
      ],
      "metadata": {
        "id": "ol8P9jiTmS3G"
      },
      "execution_count": null,
      "outputs": []
    },
    {
      "cell_type": "markdown",
      "source": [
        "### Или использование уже сгенерированных эмбеддингов"
      ],
      "metadata": {
        "id": "LIB1ZWzkndpb"
      }
    },
    {
      "cell_type": "code",
      "source": [
        "embs_filepath = Path('./semeval-2010/semeval_2010_context_embs.json').resolve()\n",
        "embs_filepath"
      ],
      "metadata": {
        "colab": {
          "base_uri": "https://localhost:8080/"
        },
        "id": "AQywZOr4nmge",
        "outputId": "83b774cd-367b-4094-c9be-b4ae26614c0d"
      },
      "execution_count": null,
      "outputs": [
        {
          "output_type": "execute_result",
          "data": {
            "text/plain": [
              "PosixPath('/content/gdrive/MyDrive/3_year/WSI/semeval-2010/semeval_2010_context_embs.json')"
            ]
          },
          "metadata": {},
          "execution_count": 24
        }
      ]
    },
    {
      "cell_type": "code",
      "source": [
        "subst_generator._read_context_embs(embs_filepath)"
      ],
      "metadata": {
        "id": "KOdZ3gu7nh-3"
      },
      "execution_count": null,
      "outputs": []
    },
    {
      "cell_type": "markdown",
      "source": [
        "# Генерация подстановок на разных языках"
      ],
      "metadata": {
        "id": "wyVPHaAUgSOh"
      }
    },
    {
      "cell_type": "code",
      "source": [
        "subst_folder = Path('./semeval-2010/substitutes').resolve()\n",
        "subst_folder"
      ],
      "metadata": {
        "id": "GpbQkgSIqzAf",
        "colab": {
          "base_uri": "https://localhost:8080/"
        },
        "outputId": "2d975db7-fdaa-42b7-f7af-ddce8436617f"
      },
      "execution_count": null,
      "outputs": [
        {
          "output_type": "execute_result",
          "data": {
            "text/plain": [
              "PosixPath('/content/gdrive/MyDrive/3_year/WSI/semeval-2010/substitutes')"
            ]
          },
          "metadata": {},
          "execution_count": 26
        }
      ]
    },
    {
      "cell_type": "code",
      "source": [
        "transl_folder = Path('./semeval-2010/target_translations').resolve()\n",
        "transl_folder"
      ],
      "metadata": {
        "colab": {
          "base_uri": "https://localhost:8080/"
        },
        "id": "6OdHZl4zoryH",
        "outputId": "26549c26-dd9d-49de-d73f-2b797b27b0c9"
      },
      "execution_count": null,
      "outputs": [
        {
          "output_type": "execute_result",
          "data": {
            "text/plain": [
              "PosixPath('/content/gdrive/MyDrive/3_year/WSI/semeval-2010/target_translations')"
            ]
          },
          "metadata": {},
          "execution_count": 27
        }
      ]
    },
    {
      "cell_type": "markdown",
      "source": [
        "### Перевод таргетов\n",
        "Можно сразу перевести все таргетные слова на нужные языки, чтобы потом уже с готовыми переводами работать при генерации подстановок. Чтобы не переводить заново при разных запусках кода"
      ],
      "metadata": {
        "id": "RwUTcu7FgSNL"
      }
    },
    {
      "cell_type": "code",
      "source": [
        "langs = ['ru', 'fr', 'es', 'de']"
      ],
      "metadata": {
        "id": "xoT34p8SpASL"
      },
      "execution_count": null,
      "outputs": []
    },
    {
      "cell_type": "code",
      "source": [
        "for lang in langs:\n",
        "    subst_generator._translate_targets(lang, save_translation_path=Path(transl_folder, f'{lang}_target.json'))"
      ],
      "metadata": {
        "id": "EEWzZKUBonEE"
      },
      "execution_count": null,
      "outputs": []
    },
    {
      "cell_type": "markdown",
      "source": [
        "## Французский"
      ],
      "metadata": {
        "id": "Gp-BWKghqvWb"
      }
    },
    {
      "cell_type": "code",
      "source": [
        "# !wget https://dl.fbaipublicfiles.com/fasttext/vectors-crawl/cc.fr.300.bin.gz -P ./fasttext_models/\n",
        "# !gunzip cc.fr.300.bin.gz"
      ],
      "metadata": {
        "id": "aNaEhWpprg75"
      },
      "execution_count": null,
      "outputs": []
    },
    {
      "cell_type": "code",
      "source": [
        "fr_model = fasttext.load_model('./fasttext_models/cc.fr.300.bin')"
      ],
      "metadata": {
        "colab": {
          "base_uri": "https://localhost:8080/"
        },
        "id": "9dx-djPzrsYk",
        "outputId": "8ae6aca0-193e-4674-c3e9-c82c065ae4d0"
      },
      "execution_count": null,
      "outputs": [
        {
          "output_type": "stream",
          "name": "stderr",
          "text": [
            "Warning : `load_model` does not return WordVectorModel or SupervisedModel any more, but a `FastText` object which is very similar.\n"
          ]
        }
      ]
    },
    {
      "cell_type": "code",
      "source": [
        "fr_targets_path = Path(transl_folder, 'fr_target.json').resolve()\n",
        "fr_targets = subst_generator._read_target_translations(fr_targets_path)"
      ],
      "metadata": {
        "id": "R9lKHYDo1QgM"
      },
      "execution_count": null,
      "outputs": []
    },
    {
      "cell_type": "code",
      "source": [
        "fr_subst = subst_generator.generate(lang_model=fr_model, \n",
        "                         lang='fr', \n",
        "                         translated_targets=fr_targets)"
      ],
      "metadata": {
        "colab": {
          "base_uri": "https://localhost:8080/"
        },
        "id": "zz40sX_HxrTC",
        "outputId": "58d81cbd-7b03-4cf0-d713-d726fe8acd8b"
      },
      "execution_count": null,
      "outputs": [
        {
          "output_type": "stream",
          "name": "stderr",
          "text": [
            "100%|██████████| 100/100 [13:54<00:00,  8.34s/it]\n"
          ]
        }
      ]
    },
    {
      "cell_type": "code",
      "source": [
        "subst_generator._save_substitutes(substitutes=fr_subst, \n",
        "                                  save_dir=subst_folder, \n",
        "                                  lang='fr') "
      ],
      "metadata": {
        "id": "sZQn4hNesHnY"
      },
      "execution_count": null,
      "outputs": []
    },
    {
      "cell_type": "code",
      "source": [
        "# удаляем переменные и файл \n",
        "\n",
        "del fr_model\n",
        "del fr_subst\n",
        "open('./fasttext_models/cc.fr.300.bin', 'w').close()\n",
        "%rm ./fasttext_models/cc.fr.300.bin"
      ],
      "metadata": {
        "id": "zHzD6wYa8Qn2"
      },
      "execution_count": null,
      "outputs": []
    },
    {
      "cell_type": "markdown",
      "source": [
        "## Испанский"
      ],
      "metadata": {
        "id": "zrR7ktUs9JAl"
      }
    },
    {
      "cell_type": "code",
      "source": [
        "!wget https://dl.fbaipublicfiles.com/fasttext/vectors-crawl/cc.es.300.bin.gz -P ./fasttext_models/\n",
        "!gunzip ./fasttext_models/cc.es.300.bin.gz"
      ],
      "metadata": {
        "colab": {
          "base_uri": "https://localhost:8080/"
        },
        "id": "eQMjS_v-8rye",
        "outputId": "f4a568bf-60ab-4b4a-8367-894b2101bf63"
      },
      "execution_count": null,
      "outputs": [
        {
          "output_type": "stream",
          "name": "stdout",
          "text": [
            "--2023-05-07 16:04:57--  https://dl.fbaipublicfiles.com/fasttext/vectors-crawl/cc.es.300.bin.gz\n",
            "Resolving dl.fbaipublicfiles.com (dl.fbaipublicfiles.com)... 18.160.249.12, 18.160.249.45, 18.160.249.78, ...\n",
            "Connecting to dl.fbaipublicfiles.com (dl.fbaipublicfiles.com)|18.160.249.12|:443... connected.\n",
            "HTTP request sent, awaiting response... 200 OK\n",
            "Length: 4500107671 (4.2G) [application/octet-stream]\n",
            "Saving to: ‘./fasttext_models/cc.es.300.bin.gz’\n",
            "\n",
            "cc.es.300.bin.gz    100%[===================>]   4.19G  41.6MB/s    in 1m 49s  \n",
            "\n",
            "2023-05-07 16:06:46 (39.5 MB/s) - ‘./fasttext_models/cc.es.300.bin.gz’ saved [4500107671/4500107671]\n",
            "\n",
            "gzip: cc.es.300.bin.gz: No such file or directory\n"
          ]
        }
      ]
    },
    {
      "cell_type": "code",
      "source": [
        "!gunzip ./fasttext_models/cc.es.300.bin.gz"
      ],
      "metadata": {
        "id": "X4eNiS0h-Ld2"
      },
      "execution_count": null,
      "outputs": []
    },
    {
      "cell_type": "code",
      "source": [
        "es_model = fasttext.load_model('./fasttext_models/cc.es.300.bin')"
      ],
      "metadata": {
        "colab": {
          "base_uri": "https://localhost:8080/"
        },
        "id": "ZXXvkAz384D8",
        "outputId": "7b27a3bd-3a9c-4029-891d-033ada083326"
      },
      "execution_count": null,
      "outputs": [
        {
          "output_type": "stream",
          "name": "stderr",
          "text": [
            "Warning : `load_model` does not return WordVectorModel or SupervisedModel any more, but a `FastText` object which is very similar.\n"
          ]
        }
      ]
    },
    {
      "cell_type": "code",
      "source": [
        "es_targets_path = Path(transl_folder, 'es_target.json').resolve()\n",
        "es_targets = subst_generator._read_target_translations(es_targets_path)"
      ],
      "metadata": {
        "id": "SOAqpRuS9dHs"
      },
      "execution_count": null,
      "outputs": []
    },
    {
      "cell_type": "code",
      "source": [
        "es_subst = subst_generator.generate(lang_model=es_model, \n",
        "                         lang='es', \n",
        "                         translated_targets=es_targets)"
      ],
      "metadata": {
        "colab": {
          "base_uri": "https://localhost:8080/"
        },
        "id": "psqX9g4O9lq1",
        "outputId": "1e067bd2-8df2-43f9-b623-f5a22957534a"
      },
      "execution_count": null,
      "outputs": [
        {
          "output_type": "stream",
          "name": "stderr",
          "text": [
            "100%|██████████| 100/100 [14:29<00:00,  8.70s/it]\n"
          ]
        }
      ]
    },
    {
      "cell_type": "code",
      "source": [
        "subst_generator._save_substitutes(substitutes=es_subst, \n",
        "                                  save_dir=subst_folder, \n",
        "                                  lang='es')"
      ],
      "metadata": {
        "id": "QwH7VZc_9r9e"
      },
      "execution_count": null,
      "outputs": []
    },
    {
      "cell_type": "code",
      "source": [
        "# удаляем переменные и файл \n",
        "\n",
        "del es_model\n",
        "del es_subst\n",
        "open('./fasttext_models/cc.es.300.bin', 'w').close()\n",
        "%rm ./fasttext_models/cc.es.300.bin"
      ],
      "metadata": {
        "id": "3gdFtnyr9vLO"
      },
      "execution_count": null,
      "outputs": []
    },
    {
      "cell_type": "markdown",
      "source": [
        "## Немецкий"
      ],
      "metadata": {
        "id": "1hX8hqCt-WoV"
      }
    },
    {
      "cell_type": "code",
      "source": [
        "!wget https://dl.fbaipublicfiles.com/fasttext/vectors-crawl/cc.de.300.bin.gz -P ./fasttext_models/\n",
        "!gunzip ./fasttext_models/cc.de.300.bin.gz"
      ],
      "metadata": {
        "colab": {
          "base_uri": "https://localhost:8080/"
        },
        "id": "zLnQiMn4-YiZ",
        "outputId": "14f092f8-89f8-4f0d-893b-0583dc9e939b"
      },
      "execution_count": null,
      "outputs": [
        {
          "output_type": "stream",
          "name": "stdout",
          "text": [
            "--2023-05-07 16:45:37--  https://dl.fbaipublicfiles.com/fasttext/vectors-crawl/cc.de.300.bin.gz\n",
            "Resolving dl.fbaipublicfiles.com (dl.fbaipublicfiles.com)... 18.160.249.45, 18.160.249.77, 18.160.249.78, ...\n",
            "Connecting to dl.fbaipublicfiles.com (dl.fbaipublicfiles.com)|18.160.249.45|:443... connected.\n",
            "HTTP request sent, awaiting response... 200 OK\n",
            "Length: 4496980947 (4.2G) [application/octet-stream]\n",
            "Saving to: ‘./fasttext_models/cc.de.300.bin.gz’\n",
            "\n",
            "cc.de.300.bin.gz    100%[===================>]   4.19G  47.5MB/s    in 1m 45s  \n",
            "\n",
            "2023-05-07 16:47:23 (40.7 MB/s) - ‘./fasttext_models/cc.de.300.bin.gz’ saved [4496980947/4496980947]\n",
            "\n"
          ]
        }
      ]
    },
    {
      "cell_type": "code",
      "source": [
        "de_model = fasttext.load_model('./fasttext_models/cc.de.300.bin')"
      ],
      "metadata": {
        "colab": {
          "base_uri": "https://localhost:8080/"
        },
        "id": "b2lvkiFD-gOc",
        "outputId": "dc20eec1-11b4-40ea-d0d1-ac620701b0e9"
      },
      "execution_count": null,
      "outputs": [
        {
          "output_type": "stream",
          "name": "stderr",
          "text": [
            "Warning : `load_model` does not return WordVectorModel or SupervisedModel any more, but a `FastText` object which is very similar.\n"
          ]
        }
      ]
    },
    {
      "cell_type": "code",
      "source": [
        "de_targets_path = Path(transl_folder, 'de_target.json').resolve()\n",
        "de_targets = subst_generator._read_target_translations(de_targets_path)"
      ],
      "metadata": {
        "id": "pSu1GMnW-jaA"
      },
      "execution_count": null,
      "outputs": []
    },
    {
      "cell_type": "code",
      "source": [
        "de_subst = subst_generator.generate(lang_model=de_model, \n",
        "                         lang='de', \n",
        "                         translated_targets=de_targets)"
      ],
      "metadata": {
        "colab": {
          "base_uri": "https://localhost:8080/"
        },
        "id": "FCE31nuB-oqJ",
        "outputId": "56532798-c55f-424b-db2e-e81163061b3b"
      },
      "execution_count": null,
      "outputs": [
        {
          "output_type": "stream",
          "name": "stderr",
          "text": [
            "100%|██████████| 100/100 [18:00<00:00, 10.80s/it]\n"
          ]
        }
      ]
    },
    {
      "cell_type": "code",
      "source": [
        "subst_generator._save_substitutes(substitutes=de_subst, \n",
        "                                  save_dir=subst_folder, \n",
        "                                  lang='de') "
      ],
      "metadata": {
        "id": "XODRZl6B-tQ0"
      },
      "execution_count": null,
      "outputs": []
    },
    {
      "cell_type": "code",
      "source": [
        "# удаляем переменные и файл \n",
        "\n",
        "del de_model\n",
        "del de_subst\n",
        "open('./fasttext_models/cc.de.300.bin', 'w').close()\n",
        "%rm ./fasttext_models/cc.de.300.bin"
      ],
      "metadata": {
        "id": "_RDARnuK-yp0"
      },
      "execution_count": null,
      "outputs": []
    },
    {
      "cell_type": "markdown",
      "source": [
        "## Русский"
      ],
      "metadata": {
        "id": "cryfDPzG-vaY"
      }
    },
    {
      "cell_type": "code",
      "source": [
        "!wget https://dl.fbaipublicfiles.com/fasttext/vectors-crawl/cc.ru.300.bin.gz -P ./fasttext_models/\n",
        "!gunzip ./fasttext_models/cc.ru.300.bin.gz"
      ],
      "metadata": {
        "colab": {
          "base_uri": "https://localhost:8080/"
        },
        "id": "eiWelh9i-xDg",
        "outputId": "ed1136f3-5078-4d96-90c3-909bff49df71"
      },
      "execution_count": null,
      "outputs": [
        {
          "output_type": "stream",
          "name": "stdout",
          "text": [
            "--2023-05-07 17:10:57--  https://dl.fbaipublicfiles.com/fasttext/vectors-crawl/cc.ru.300.bin.gz\n",
            "Resolving dl.fbaipublicfiles.com (dl.fbaipublicfiles.com)... 18.160.249.12, 18.160.249.77, 18.160.249.45, ...\n",
            "Connecting to dl.fbaipublicfiles.com (dl.fbaipublicfiles.com)|18.160.249.12|:443... connected.\n",
            "HTTP request sent, awaiting response... 200 OK\n",
            "Length: 4496459151 (4.2G) [application/octet-stream]\n",
            "Saving to: ‘./fasttext_models/cc.ru.300.bin.gz’\n",
            "\n",
            "cc.ru.300.bin.gz    100%[===================>]   4.19G  40.0MB/s    in 1m 46s  \n",
            "\n",
            "2023-05-07 17:12:43 (40.4 MB/s) - ‘./fasttext_models/cc.ru.300.bin.gz’ saved [4496459151/4496459151]\n",
            "\n"
          ]
        }
      ]
    },
    {
      "cell_type": "code",
      "source": [
        "ru_model = fasttext.load_model('./fasttext_models/cc.ru.300.bin')"
      ],
      "metadata": {
        "colab": {
          "base_uri": "https://localhost:8080/"
        },
        "id": "0exQfDKGKLpn",
        "outputId": "3cdfffff-8ea9-4429-e5ba-5717e20aad34"
      },
      "execution_count": null,
      "outputs": [
        {
          "output_type": "stream",
          "name": "stderr",
          "text": [
            "Warning : `load_model` does not return WordVectorModel or SupervisedModel any more, but a `FastText` object which is very similar.\n"
          ]
        }
      ]
    },
    {
      "cell_type": "code",
      "source": [
        "ru_targets_path = Path(transl_folder, 'ru_target.json').resolve()\n",
        "ru_targets = subst_generator._read_target_translations(ru_targets_path)"
      ],
      "metadata": {
        "id": "GfyhgYSfKSCU"
      },
      "execution_count": null,
      "outputs": []
    },
    {
      "cell_type": "code",
      "source": [
        "ru_subst = subst_generator.generate(lang_model=ru_model, \n",
        "                         lang='ru', \n",
        "                         translated_targets=ru_targets)"
      ],
      "metadata": {
        "colab": {
          "base_uri": "https://localhost:8080/"
        },
        "id": "Jbir6PbUKWJM",
        "outputId": "4248555f-c27b-4814-c638-3b0d71ebc89e"
      },
      "execution_count": null,
      "outputs": [
        {
          "output_type": "stream",
          "name": "stderr",
          "text": [
            "100%|██████████| 100/100 [16:16<00:00,  9.76s/it]\n"
          ]
        }
      ]
    },
    {
      "cell_type": "code",
      "source": [
        "subst_generator._save_substitutes(substitutes=ru_subst, \n",
        "                                  save_dir=subst_folder, \n",
        "                                  lang='ru') "
      ],
      "metadata": {
        "id": "0pjs1LSCKZ1P"
      },
      "execution_count": null,
      "outputs": []
    },
    {
      "cell_type": "code",
      "source": [
        "# удаляем переменные и файл \n",
        "\n",
        "del ru_model\n",
        "del ru_subst\n",
        "open('./fasttext_models/cc.ru.300.bin', 'w').close()\n",
        "%rm ./fasttext_models/cc.ru.300.bin"
      ],
      "metadata": {
        "id": "wQtH3xbJKcsF"
      },
      "execution_count": null,
      "outputs": []
    },
    {
      "cell_type": "markdown",
      "source": [
        "# Кластеризация"
      ],
      "metadata": {
        "id": "hoz-ePZRSUD1"
      }
    },
    {
      "cell_type": "code",
      "source": [
        "importlib.reload(sys.modules['lexsubgen.clusterizer'])"
      ],
      "metadata": {
        "colab": {
          "base_uri": "https://localhost:8080/"
        },
        "id": "33Hiq-Lh1V7N",
        "outputId": "7e6f6973-3233-4019-ae97-6f4f7b927ef4"
      },
      "execution_count": 103,
      "outputs": [
        {
          "output_type": "execute_result",
          "data": {
            "text/plain": [
              "<module 'lexsubgen.clusterizer' from '/content/gdrive/MyDrive/3_year/WSI/lexsubgen/clusterizer.py'>"
            ]
          },
          "metadata": {},
          "execution_count": 103
        }
      ]
    },
    {
      "cell_type": "code",
      "source": [
        "from lexsubgen.clusterizer import SubstituteClusterizer"
      ],
      "metadata": {
        "id": "7b7gLVKkSVjI"
      },
      "execution_count": 104,
      "outputs": []
    },
    {
      "cell_type": "code",
      "source": [
        "clust = SubstituteClusterizer(n_clusters='maxsil=range(2, 10)')"
      ],
      "metadata": {
        "id": "7WT-hkF1SeG8"
      },
      "execution_count": 105,
      "outputs": []
    },
    {
      "cell_type": "code",
      "source": [
        "subst_folder = '/content/gdrive/MyDrive/3_year/WSI/semeval-2010/substitutes'\n",
        "lang_substitutes = [f.absolute() for f in Path(subst_folder).iterdir()]\n",
        "lang_substitutes"
      ],
      "metadata": {
        "colab": {
          "base_uri": "https://localhost:8080/"
        },
        "id": "u_wepZcR187J",
        "outputId": "7b6dbfb4-2af8-439e-cb13-3f87a681adfd"
      },
      "execution_count": 88,
      "outputs": [
        {
          "output_type": "execute_result",
          "data": {
            "text/plain": [
              "[PosixPath('/content/gdrive/MyDrive/3_year/WSI/semeval-2010/substitutes/fr_substitutes.json'),\n",
              " PosixPath('/content/gdrive/MyDrive/3_year/WSI/semeval-2010/substitutes/es_substitutes.json'),\n",
              " PosixPath('/content/gdrive/MyDrive/3_year/WSI/semeval-2010/substitutes/de_substitutes.json'),\n",
              " PosixPath('/content/gdrive/MyDrive/3_year/WSI/semeval-2010/substitutes/ru_substitutes.json'),\n",
              " PosixPath('/content/gdrive/MyDrive/3_year/WSI/semeval-2010/substitutes/eng_substitutes.json')]"
            ]
          },
          "metadata": {},
          "execution_count": 88
        }
      ]
    },
    {
      "cell_type": "code",
      "source": [
        "clust_folder = Path('./semeval-2010/clusterization').resolve()\n",
        "clust_folder"
      ],
      "metadata": {
        "colab": {
          "base_uri": "https://localhost:8080/"
        },
        "id": "DGST-6lE6U-c",
        "outputId": "3405ba09-3904-4d12-9be1-d1b2f9d65c4e"
      },
      "execution_count": 8,
      "outputs": [
        {
          "output_type": "execute_result",
          "data": {
            "text/plain": [
              "PosixPath('/content/gdrive/MyDrive/3_year/WSI/semeval-2010/clusterization')"
            ]
          },
          "metadata": {},
          "execution_count": 8
        }
      ]
    },
    {
      "cell_type": "code",
      "source": [
        "clust_res = clust.cluster_all(lang_substitutes, n_subst=5)\n",
        "clust._save_clusterization(clust_res, clust_folder)"
      ],
      "metadata": {
        "colab": {
          "base_uri": "https://localhost:8080/"
        },
        "id": "Lmq_s1IL6lWG",
        "outputId": "6a190c2f-a3ca-4698-87ae-6199c9079a7d"
      },
      "execution_count": 106,
      "outputs": [
        {
          "output_type": "execute_result",
          "data": {
            "text/plain": [
              "PosixPath('/content/gdrive/MyDrive/3_year/WSI/semeval-2010/clusterization/clusterization.json')"
            ]
          },
          "metadata": {},
          "execution_count": 106
        }
      ]
    },
    {
      "cell_type": "markdown",
      "source": [
        "# Подсчет метрик"
      ],
      "metadata": {
        "id": "EFCxv_fue7M5"
      }
    },
    {
      "cell_type": "code",
      "source": [
        "importlib.reload(sys.modules['lexsubgen.evaluation'])"
      ],
      "metadata": {
        "id": "HNOsibOWu0Ok"
      },
      "execution_count": null,
      "outputs": []
    },
    {
      "cell_type": "code",
      "source": [
        "from lexsubgen.evaluation import WSIEvaluator"
      ],
      "metadata": {
        "id": "QhShtg2Zte1U"
      },
      "execution_count": 53,
      "outputs": []
    },
    {
      "cell_type": "code",
      "source": [
        "eval = WSIEvaluator(dataset=dataset_2010,\n",
        "                    clust_res_path='/content/gdrive/MyDrive/3_year/WSI/semeval-2010/clusterization/clusterization.json',\n",
        "                    semeval_data_path='/content/gdrive/MyDrive/3_year/WSI/semeval-2010')"
      ],
      "metadata": {
        "id": "Bq060YjQtr2d"
      },
      "execution_count": 56,
      "outputs": []
    },
    {
      "cell_type": "code",
      "source": [
        "eval.compute_metrics()"
      ],
      "metadata": {
        "colab": {
          "base_uri": "https://localhost:8080/",
          "height": 441
        },
        "id": "O6XittUtuCxf",
        "outputId": "e57a1dc4-d634-47ed-bc4b-28d78422ea14"
      },
      "execution_count": 57,
      "outputs": [
        {
          "output_type": "stream",
          "name": "stdout",
          "text": [
            "fscore\tprecision\trecall\tvmeasure\thomogenity\\completness\n"
          ]
        },
        {
          "output_type": "execute_result",
          "data": {
            "text/plain": [
              "              fscore  precision  recall  vmeasure  homogenity  completeness  \\\n",
              "threat.n        63.3       91.1    48.6       3.2        10.2           1.9   \n",
              "address.n       57.6       98.1    40.7       8.3        41.2           4.6   \n",
              "camp.n          55.6       95.1    39.2       6.3        27.5           3.5   \n",
              "innovation.n    66.2       92.8    51.5       3.5        10.3           2.1   \n",
              "mind.n          38.1       95.5    23.8       3.4        23.2           1.8   \n",
              "...              ...        ...     ...       ...         ...           ...   \n",
              "sniff.v         41.9       81.2    28.3       9.1        26.4           5.5   \n",
              "straighten.v    48.2       92.8    32.6       3.6        18.1           2.0   \n",
              "pursue.v        88.2       93.5    83.4       3.7         5.2           2.8   \n",
              "defend.v        70.8       93.4    57.0       0.0         0.0           0.0   \n",
              "divide.v        54.5      100.0    37.5      14.5       100.0           7.8   \n",
              "\n",
              "              (fs * vm) ** 0.5  \n",
              "threat.n             14.232357  \n",
              "address.n            21.865041  \n",
              "camp.n               18.715769  \n",
              "innovation.n         15.221695  \n",
              "mind.n               11.381564  \n",
              "...                        ...  \n",
              "sniff.v              19.526648  \n",
              "straighten.v         13.172699  \n",
              "pursue.v             18.064883  \n",
              "defend.v              0.000000  \n",
              "divide.v             28.111386  \n",
              "\n",
              "[100 rows x 7 columns]"
            ],
            "text/html": [
              "\n",
              "  <div id=\"df-b1fddea2-0739-4224-b1ae-f8b11daa19fb\">\n",
              "    <div class=\"colab-df-container\">\n",
              "      <div>\n",
              "<style scoped>\n",
              "    .dataframe tbody tr th:only-of-type {\n",
              "        vertical-align: middle;\n",
              "    }\n",
              "\n",
              "    .dataframe tbody tr th {\n",
              "        vertical-align: top;\n",
              "    }\n",
              "\n",
              "    .dataframe thead th {\n",
              "        text-align: right;\n",
              "    }\n",
              "</style>\n",
              "<table border=\"1\" class=\"dataframe\">\n",
              "  <thead>\n",
              "    <tr style=\"text-align: right;\">\n",
              "      <th></th>\n",
              "      <th>fscore</th>\n",
              "      <th>precision</th>\n",
              "      <th>recall</th>\n",
              "      <th>vmeasure</th>\n",
              "      <th>homogenity</th>\n",
              "      <th>completeness</th>\n",
              "      <th>(fs * vm) ** 0.5</th>\n",
              "    </tr>\n",
              "  </thead>\n",
              "  <tbody>\n",
              "    <tr>\n",
              "      <th>threat.n</th>\n",
              "      <td>63.3</td>\n",
              "      <td>91.1</td>\n",
              "      <td>48.6</td>\n",
              "      <td>3.2</td>\n",
              "      <td>10.2</td>\n",
              "      <td>1.9</td>\n",
              "      <td>14.232357</td>\n",
              "    </tr>\n",
              "    <tr>\n",
              "      <th>address.n</th>\n",
              "      <td>57.6</td>\n",
              "      <td>98.1</td>\n",
              "      <td>40.7</td>\n",
              "      <td>8.3</td>\n",
              "      <td>41.2</td>\n",
              "      <td>4.6</td>\n",
              "      <td>21.865041</td>\n",
              "    </tr>\n",
              "    <tr>\n",
              "      <th>camp.n</th>\n",
              "      <td>55.6</td>\n",
              "      <td>95.1</td>\n",
              "      <td>39.2</td>\n",
              "      <td>6.3</td>\n",
              "      <td>27.5</td>\n",
              "      <td>3.5</td>\n",
              "      <td>18.715769</td>\n",
              "    </tr>\n",
              "    <tr>\n",
              "      <th>innovation.n</th>\n",
              "      <td>66.2</td>\n",
              "      <td>92.8</td>\n",
              "      <td>51.5</td>\n",
              "      <td>3.5</td>\n",
              "      <td>10.3</td>\n",
              "      <td>2.1</td>\n",
              "      <td>15.221695</td>\n",
              "    </tr>\n",
              "    <tr>\n",
              "      <th>mind.n</th>\n",
              "      <td>38.1</td>\n",
              "      <td>95.5</td>\n",
              "      <td>23.8</td>\n",
              "      <td>3.4</td>\n",
              "      <td>23.2</td>\n",
              "      <td>1.8</td>\n",
              "      <td>11.381564</td>\n",
              "    </tr>\n",
              "    <tr>\n",
              "      <th>...</th>\n",
              "      <td>...</td>\n",
              "      <td>...</td>\n",
              "      <td>...</td>\n",
              "      <td>...</td>\n",
              "      <td>...</td>\n",
              "      <td>...</td>\n",
              "      <td>...</td>\n",
              "    </tr>\n",
              "    <tr>\n",
              "      <th>sniff.v</th>\n",
              "      <td>41.9</td>\n",
              "      <td>81.2</td>\n",
              "      <td>28.3</td>\n",
              "      <td>9.1</td>\n",
              "      <td>26.4</td>\n",
              "      <td>5.5</td>\n",
              "      <td>19.526648</td>\n",
              "    </tr>\n",
              "    <tr>\n",
              "      <th>straighten.v</th>\n",
              "      <td>48.2</td>\n",
              "      <td>92.8</td>\n",
              "      <td>32.6</td>\n",
              "      <td>3.6</td>\n",
              "      <td>18.1</td>\n",
              "      <td>2.0</td>\n",
              "      <td>13.172699</td>\n",
              "    </tr>\n",
              "    <tr>\n",
              "      <th>pursue.v</th>\n",
              "      <td>88.2</td>\n",
              "      <td>93.5</td>\n",
              "      <td>83.4</td>\n",
              "      <td>3.7</td>\n",
              "      <td>5.2</td>\n",
              "      <td>2.8</td>\n",
              "      <td>18.064883</td>\n",
              "    </tr>\n",
              "    <tr>\n",
              "      <th>defend.v</th>\n",
              "      <td>70.8</td>\n",
              "      <td>93.4</td>\n",
              "      <td>57.0</td>\n",
              "      <td>0.0</td>\n",
              "      <td>0.0</td>\n",
              "      <td>0.0</td>\n",
              "      <td>0.000000</td>\n",
              "    </tr>\n",
              "    <tr>\n",
              "      <th>divide.v</th>\n",
              "      <td>54.5</td>\n",
              "      <td>100.0</td>\n",
              "      <td>37.5</td>\n",
              "      <td>14.5</td>\n",
              "      <td>100.0</td>\n",
              "      <td>7.8</td>\n",
              "      <td>28.111386</td>\n",
              "    </tr>\n",
              "  </tbody>\n",
              "</table>\n",
              "<p>100 rows × 7 columns</p>\n",
              "</div>\n",
              "      <button class=\"colab-df-convert\" onclick=\"convertToInteractive('df-b1fddea2-0739-4224-b1ae-f8b11daa19fb')\"\n",
              "              title=\"Convert this dataframe to an interactive table.\"\n",
              "              style=\"display:none;\">\n",
              "        \n",
              "  <svg xmlns=\"http://www.w3.org/2000/svg\" height=\"24px\"viewBox=\"0 0 24 24\"\n",
              "       width=\"24px\">\n",
              "    <path d=\"M0 0h24v24H0V0z\" fill=\"none\"/>\n",
              "    <path d=\"M18.56 5.44l.94 2.06.94-2.06 2.06-.94-2.06-.94-.94-2.06-.94 2.06-2.06.94zm-11 1L8.5 8.5l.94-2.06 2.06-.94-2.06-.94L8.5 2.5l-.94 2.06-2.06.94zm10 10l.94 2.06.94-2.06 2.06-.94-2.06-.94-.94-2.06-.94 2.06-2.06.94z\"/><path d=\"M17.41 7.96l-1.37-1.37c-.4-.4-.92-.59-1.43-.59-.52 0-1.04.2-1.43.59L10.3 9.45l-7.72 7.72c-.78.78-.78 2.05 0 2.83L4 21.41c.39.39.9.59 1.41.59.51 0 1.02-.2 1.41-.59l7.78-7.78 2.81-2.81c.8-.78.8-2.07 0-2.86zM5.41 20L4 18.59l7.72-7.72 1.47 1.35L5.41 20z\"/>\n",
              "  </svg>\n",
              "      </button>\n",
              "      \n",
              "  <style>\n",
              "    .colab-df-container {\n",
              "      display:flex;\n",
              "      flex-wrap:wrap;\n",
              "      gap: 12px;\n",
              "    }\n",
              "\n",
              "    .colab-df-convert {\n",
              "      background-color: #E8F0FE;\n",
              "      border: none;\n",
              "      border-radius: 50%;\n",
              "      cursor: pointer;\n",
              "      display: none;\n",
              "      fill: #1967D2;\n",
              "      height: 32px;\n",
              "      padding: 0 0 0 0;\n",
              "      width: 32px;\n",
              "    }\n",
              "\n",
              "    .colab-df-convert:hover {\n",
              "      background-color: #E2EBFA;\n",
              "      box-shadow: 0px 1px 2px rgba(60, 64, 67, 0.3), 0px 1px 3px 1px rgba(60, 64, 67, 0.15);\n",
              "      fill: #174EA6;\n",
              "    }\n",
              "\n",
              "    [theme=dark] .colab-df-convert {\n",
              "      background-color: #3B4455;\n",
              "      fill: #D2E3FC;\n",
              "    }\n",
              "\n",
              "    [theme=dark] .colab-df-convert:hover {\n",
              "      background-color: #434B5C;\n",
              "      box-shadow: 0px 1px 3px 1px rgba(0, 0, 0, 0.15);\n",
              "      filter: drop-shadow(0px 1px 2px rgba(0, 0, 0, 0.3));\n",
              "      fill: #FFFFFF;\n",
              "    }\n",
              "  </style>\n",
              "\n",
              "      <script>\n",
              "        const buttonEl =\n",
              "          document.querySelector('#df-b1fddea2-0739-4224-b1ae-f8b11daa19fb button.colab-df-convert');\n",
              "        buttonEl.style.display =\n",
              "          google.colab.kernel.accessAllowed ? 'block' : 'none';\n",
              "\n",
              "        async function convertToInteractive(key) {\n",
              "          const element = document.querySelector('#df-b1fddea2-0739-4224-b1ae-f8b11daa19fb');\n",
              "          const dataTable =\n",
              "            await google.colab.kernel.invokeFunction('convertToInteractive',\n",
              "                                                     [key], {});\n",
              "          if (!dataTable) return;\n",
              "\n",
              "          const docLinkHtml = 'Like what you see? Visit the ' +\n",
              "            '<a target=\"_blank\" href=https://colab.research.google.com/notebooks/data_table.ipynb>data table notebook</a>'\n",
              "            + ' to learn more about interactive tables.';\n",
              "          element.innerHTML = '';\n",
              "          dataTable['output_type'] = 'display_data';\n",
              "          await google.colab.output.renderOutput(dataTable, element);\n",
              "          const docLink = document.createElement('div');\n",
              "          docLink.innerHTML = docLinkHtml;\n",
              "          element.appendChild(docLink);\n",
              "        }\n",
              "      </script>\n",
              "    </div>\n",
              "  </div>\n",
              "  "
            ]
          },
          "metadata": {},
          "execution_count": 57
        }
      ]
    },
    {
      "cell_type": "code",
      "source": [],
      "metadata": {
        "id": "fnJvh5bruE3C"
      },
      "execution_count": null,
      "outputs": []
    }
  ]
}